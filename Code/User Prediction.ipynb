{
 "cells": [
  {
   "metadata": {
    "ExecuteTime": {
     "end_time": "2025-07-27T14:41:36.713709Z",
     "start_time": "2025-07-27T14:41:36.706380Z"
    }
   },
   "cell_type": "code",
   "source": [
    "from pyspark.sql import SparkSession\n",
    "from pyspark.sql import functions as F"
   ],
   "id": "ce63fc4209223735",
   "outputs": [],
   "execution_count": 46
  },
  {
   "metadata": {
    "ExecuteTime": {
     "end_time": "2025-07-27T14:41:38.125204Z",
     "start_time": "2025-07-27T14:41:38.090696Z"
    }
   },
   "cell_type": "code",
   "source": [
    "spark = (\n",
    "  SparkSession.builder\n",
    "    .appName(\"Codeway\")\n",
    "    .master(\"local[*]\")\n",
    "    .config(\"spark.driver.memory\", \"4g\")\n",
    "    .getOrCreate()\n",
    ")"
   ],
   "id": "4bec7a7d96fae763",
   "outputs": [],
   "execution_count": 47
  },
  {
   "metadata": {},
   "cell_type": "markdown",
   "source": "Read the dataframe",
   "id": "f222ee70e5a2b7fa"
  },
  {
   "metadata": {
    "collapsed": true,
    "ExecuteTime": {
     "end_time": "2025-07-27T14:41:44.381821Z",
     "start_time": "2025-07-27T14:41:40.211094Z"
    }
   },
   "cell_type": "code",
   "source": "df_features = spark.read.json(\"/Users/macbookpro/PyCharmMiscProject/df_features_json\")",
   "id": "8897e6fbf4c3d5fb",
   "outputs": [
    {
     "name": "stderr",
     "output_type": "stream",
     "text": [
      "                                                                                \r"
     ]
    }
   ],
   "execution_count": 48
  },
  {
   "metadata": {
    "ExecuteTime": {
     "end_time": "2025-07-27T14:41:47.182712Z",
     "start_time": "2025-07-27T14:41:47.170430Z"
    }
   },
   "cell_type": "code",
   "source": [
    "# Order df_features chronologically by first_event_date\n",
    "df_ordered = df_features.orderBy(\"first_event_date\")"
   ],
   "id": "50fb9ee8077bee00",
   "outputs": [],
   "execution_count": 52
  },
  {
   "metadata": {
    "ExecuteTime": {
     "end_time": "2025-07-27T14:41:46.121505Z",
     "start_time": "2025-07-27T14:41:46.118415Z"
    }
   },
   "cell_type": "code",
   "source": "from pyspark.sql.window import Window",
   "id": "949a0296cf9a681",
   "outputs": [],
   "execution_count": 51
  },
  {
   "metadata": {
    "ExecuteTime": {
     "end_time": "2025-07-27T14:41:49.428935Z",
     "start_time": "2025-07-27T14:41:49.374130Z"
    }
   },
   "cell_type": "code",
   "source": [
    "w = Window.orderBy(\"first_event_date\")\n",
    "df_ordered = df_ordered.withColumn(\"user_index\", F.row_number().over(w))"
   ],
   "id": "85a7055e6e9396a3",
   "outputs": [],
   "execution_count": 53
  },
  {
   "metadata": {},
   "cell_type": "markdown",
   "source": "# Pre-processing (very short) for User-level Analysis",
   "id": "f8c083b1832ebdb3"
  },
  {
   "metadata": {
    "ExecuteTime": {
     "end_time": "2025-07-27T14:41:51.033127Z",
     "start_time": "2025-07-27T14:41:51.018343Z"
    }
   },
   "cell_type": "code",
   "source": "df_ordered = df_ordered.drop(\"first_event_date\")",
   "id": "c8c3dec42e1c4366",
   "outputs": [],
   "execution_count": 54
  },
  {
   "metadata": {
    "ExecuteTime": {
     "end_time": "2025-07-26T20:42:57.039882Z",
     "start_time": "2025-07-26T20:42:57.022443Z"
    }
   },
   "cell_type": "code",
   "source": "df_ordered.printSchema()",
   "id": "91503f3d8db9123",
   "outputs": [
    {
     "name": "stdout",
     "output_type": "stream",
     "text": [
      "root\n",
      " |-- auto_renew_off: long (nullable = true)\n",
      " |-- avg_event_hour: double (nullable = true)\n",
      " |-- country: string (nullable = true)\n",
      " |-- first_year_revenue: double (nullable = true)\n",
      " |-- free_trial: long (nullable = true)\n",
      " |-- operating_system: string (nullable = true)\n",
      " |-- paywall: long (nullable = true)\n",
      " |-- refund: long (nullable = true)\n",
      " |-- renewal: long (nullable = true)\n",
      " |-- season: string (nullable = true)\n",
      " |-- stickiness_ratio: double (nullable = true)\n",
      " |-- subscribe: long (nullable = true)\n",
      " |-- total_revenue: double (nullable = true)\n",
      " |-- user_id: string (nullable = true)\n",
      " |-- user_index: integer (nullable = false)\n",
      "\n"
     ]
    }
   ],
   "execution_count": 8
  },
  {
   "metadata": {
    "ExecuteTime": {
     "end_time": "2025-07-27T14:41:52.999821Z",
     "start_time": "2025-07-27T14:41:52.995634Z"
    }
   },
   "cell_type": "code",
   "source": [
    "from pyspark.ml import Pipeline\n",
    "from pyspark.ml.feature import StringIndexer, OneHotEncoder, VectorAssembler\n",
    "from pyspark.ml.regression import GBTRegressor\n",
    "from pyspark.ml.tuning import CrossValidator, ParamGridBuilder\n",
    "from pyspark.ml.evaluation import RegressionEvaluator"
   ],
   "id": "39383647c815c6ea",
   "outputs": [],
   "execution_count": 55
  },
  {
   "metadata": {},
   "cell_type": "markdown",
   "source": "0. ios = iOS",
   "id": "eb57e9e9a5d8a803"
  },
  {
   "metadata": {
    "ExecuteTime": {
     "end_time": "2025-07-27T14:41:54.897416Z",
     "start_time": "2025-07-27T14:41:54.861268Z"
    }
   },
   "cell_type": "code",
   "source": [
    "df_ordered = df_ordered.withColumn(\n",
    "    \"operating_system\",\n",
    "    F.when(F.lower(F.col(\"operating_system\")) == \"ios\", F.lit(\"iOS\"))\n",
    "    .otherwise(F.col(\"operating_system\"))\n",
    ")"
   ],
   "id": "33942152be64f847",
   "outputs": [],
   "execution_count": 56
  },
  {
   "metadata": {},
   "cell_type": "markdown",
   "source": "1) Time‐aware train/test split (80/20 by cohort_index)",
   "id": "5f05eadb806251ec"
  },
  {
   "metadata": {
    "ExecuteTime": {
     "end_time": "2025-07-27T14:41:59.366416Z",
     "start_time": "2025-07-27T14:41:57.402569Z"
    }
   },
   "cell_type": "code",
   "source": [
    "# Find cutoff for 80/20 split\n",
    "total_count = df_ordered.count()\n",
    "split_row = int(total_count * 0.8)"
   ],
   "id": "f88cc0f7cd224e0a",
   "outputs": [
    {
     "name": "stderr",
     "output_type": "stream",
     "text": [
      "                                                                                \r"
     ]
    }
   ],
   "execution_count": 57
  },
  {
   "metadata": {
    "ExecuteTime": {
     "end_time": "2025-07-27T14:42:01.968389Z",
     "start_time": "2025-07-27T14:42:01.891014Z"
    }
   },
   "cell_type": "code",
   "source": [
    "train      = df_ordered.filter(F.col(\"user_index\") <= split_row).withColumn(\"rand\", F.rand(seed=12345)).orderBy(\"rand\")\n",
    "test       = df_ordered.filter(F.col(\"user_index\")  > split_row)"
   ],
   "id": "b782b3c65bf32cbc",
   "outputs": [],
   "execution_count": 58
  },
  {
   "metadata": {
    "ExecuteTime": {
     "end_time": "2025-07-27T15:06:42.626849Z",
     "start_time": "2025-07-27T15:06:24.057231Z"
    }
   },
   "cell_type": "code",
   "source": [
    "test.write \\\n",
    "    .mode(\"overwrite\") \\\n",
    "    .option(\"compression\", \"gzip\") \\\n",
    "    .json(\"/Users/macbookpro/PyCharmMiscProject/test_set/user_test_set\")"
   ],
   "id": "d4b8399e491d91ad",
   "outputs": [
    {
     "name": "stderr",
     "output_type": "stream",
     "text": [
      "25/07/27 18:06:24 WARN WindowExec: No Partition Defined for Window operation! Moving all data to a single partition, this can cause serious performance degradation.\n",
      "25/07/27 18:06:24 WARN WindowExec: No Partition Defined for Window operation! Moving all data to a single partition, this can cause serious performance degradation.\n",
      "25/07/27 18:06:24 WARN WindowExec: No Partition Defined for Window operation! Moving all data to a single partition, this can cause serious performance degradation.\n",
      "25/07/27 18:06:35 WARN WindowExec: No Partition Defined for Window operation! Moving all data to a single partition, this can cause serious performance degradation.\n",
      "25/07/27 18:06:35 WARN WindowExec: No Partition Defined for Window operation! Moving all data to a single partition, this can cause serious performance degradation.\n",
      "25/07/27 18:06:36 WARN WindowExec: No Partition Defined for Window operation! Moving all data to a single partition, this can cause serious performance degradation.\n",
      "25/07/27 18:06:37 WARN WindowExec: No Partition Defined for Window operation! Moving all data to a single partition, this can cause serious performance degradation.\n",
      "                                                                                \r"
     ]
    }
   ],
   "execution_count": 91
  },
  {
   "metadata": {},
   "cell_type": "markdown",
   "source": " 2) Preprocessing pipeline (fit once)",
   "id": "9bd087c34e167239"
  },
  {
   "metadata": {
    "ExecuteTime": {
     "end_time": "2025-07-27T14:42:05.108255Z",
     "start_time": "2025-07-27T14:42:05.105941Z"
    }
   },
   "cell_type": "code",
   "source": "from pyspark import StorageLevel",
   "id": "3133da0990ac433c",
   "outputs": [],
   "execution_count": 59
  },
  {
   "metadata": {
    "ExecuteTime": {
     "end_time": "2025-07-27T14:42:07.089538Z",
     "start_time": "2025-07-27T14:42:07.081474Z"
    }
   },
   "cell_type": "code",
   "source": "df_ordered.printSchema()",
   "id": "c585786e77b65695",
   "outputs": [
    {
     "name": "stdout",
     "output_type": "stream",
     "text": [
      "root\n",
      " |-- auto_renew_off: long (nullable = true)\n",
      " |-- avg_event_hour: double (nullable = true)\n",
      " |-- country: string (nullable = true)\n",
      " |-- first_year_revenue: double (nullable = true)\n",
      " |-- free_trial: long (nullable = true)\n",
      " |-- operating_system: string (nullable = true)\n",
      " |-- paywall: long (nullable = true)\n",
      " |-- refund: long (nullable = true)\n",
      " |-- renewal: long (nullable = true)\n",
      " |-- season: string (nullable = true)\n",
      " |-- stickiness_ratio: double (nullable = true)\n",
      " |-- subscribe: long (nullable = true)\n",
      " |-- total_revenue: double (nullable = true)\n",
      " |-- user_id: string (nullable = true)\n",
      " |-- user_index: integer (nullable = false)\n",
      "\n"
     ]
    }
   ],
   "execution_count": 60
  },
  {
   "metadata": {},
   "cell_type": "markdown",
   "source": "# User-level Prediction",
   "id": "b514d75a4da74caa"
  },
  {
   "metadata": {
    "ExecuteTime": {
     "end_time": "2025-07-27T14:42:29.693395Z",
     "start_time": "2025-07-27T14:42:09.481004Z"
    }
   },
   "cell_type": "code",
   "source": [
    "# For \"operating_system\"\n",
    "si_os = StringIndexer(inputCol=\"operating_system\", outputCol=\"operating_system_idx\", handleInvalid=\"keep\")\n",
    "oh_os = OneHotEncoder(inputCols=[\"operating_system_idx\"], outputCols=[\"operating_system_vec\"])\n",
    "\n",
    "# For \"country\"\n",
    "si_country = StringIndexer(inputCol=\"country\", outputCol=\"country_idx\", handleInvalid=\"keep\")\n",
    "oh_country = OneHotEncoder(inputCols=[\"country_idx\"], outputCols=[\"country_vec\"])\n",
    "\n",
    "# For \"season\"\n",
    "si_season = StringIndexer(inputCol=\"season\", outputCol=\"season_idx\", handleInvalid=\"keep\")\n",
    "oh_season = OneHotEncoder(inputCols=[\"season_idx\"], outputCols=[\"season_vec\"])\n",
    "\n",
    "feature_cols = [\n",
    "    \"auto_renew_off\",\n",
    "    \"free_trial\",\n",
    "    \"paywall\",\n",
    "    \"refund\",\n",
    "    \"renewal\",\n",
    "    \"subscribe\",\n",
    "    \"avg_event_hour\",\n",
    "    \"total_revenue\",\n",
    "    \"first_year_revenue\",\n",
    "    \"stickiness_ratio\",\n",
    "    \"season_vec\",\n",
    "    \"country_vec\",\n",
    "    \"operating_system_vec\"\n",
    "]\n",
    "assembler  = VectorAssembler(inputCols=feature_cols, outputCol=\"features\")\n",
    "\n",
    "preproc    = Pipeline(stages=[\n",
    "    si_os, oh_os,\n",
    "    si_country, oh_country,\n",
    "    si_season, oh_season\n",
    "    , assembler])\n",
    "train = train.drop(\"rand\")\n",
    "pp_model   = preproc.fit(train)\n",
    "\n",
    "train_pp   = pp_model.transform(train).persist(StorageLevel.MEMORY_AND_DISK)\n",
    "test_pp    = pp_model.transform(test).persist(StorageLevel.MEMORY_AND_DISK)"
   ],
   "id": "b6f828b01a5188b1",
   "outputs": [
    {
     "name": "stderr",
     "output_type": "stream",
     "text": [
      "25/07/27 17:42:09 WARN WindowExec: No Partition Defined for Window operation! Moving all data to a single partition, this can cause serious performance degradation.\n",
      "25/07/27 17:42:09 WARN WindowExec: No Partition Defined for Window operation! Moving all data to a single partition, this can cause serious performance degradation.\n",
      "25/07/27 17:42:13 WARN WindowExec: No Partition Defined for Window operation! Moving all data to a single partition, this can cause serious performance degradation.\n",
      "25/07/27 17:42:13 WARN WindowExec: No Partition Defined for Window operation! Moving all data to a single partition, this can cause serious performance degradation.\n",
      "25/07/27 17:42:14 WARN WindowExec: No Partition Defined for Window operation! Moving all data to a single partition, this can cause serious performance degradation.\n",
      "25/07/27 17:42:14 WARN WindowExec: No Partition Defined for Window operation! Moving all data to a single partition, this can cause serious performance degradation.\n",
      "25/07/27 17:42:16 WARN WindowExec: No Partition Defined for Window operation! Moving all data to a single partition, this can cause serious performance degradation.\n",
      "25/07/27 17:42:16 WARN WindowExec: No Partition Defined for Window operation! Moving all data to a single partition, this can cause serious performance degradation.\n",
      "25/07/27 17:42:20 WARN WindowExec: No Partition Defined for Window operation! Moving all data to a single partition, this can cause serious performance degradation.\n",
      "25/07/27 17:42:20 WARN WindowExec: No Partition Defined for Window operation! Moving all data to a single partition, this can cause serious performance degradation.\n",
      "25/07/27 17:42:20 WARN WindowExec: No Partition Defined for Window operation! Moving all data to a single partition, this can cause serious performance degradation.\n",
      "25/07/27 17:42:20 WARN WindowExec: No Partition Defined for Window operation! Moving all data to a single partition, this can cause serious performance degradation.\n",
      "25/07/27 17:42:22 WARN WindowExec: No Partition Defined for Window operation! Moving all data to a single partition, this can cause serious performance degradation.\n",
      "25/07/27 17:42:22 WARN WindowExec: No Partition Defined for Window operation! Moving all data to a single partition, this can cause serious performance degradation.\n",
      "25/07/27 17:42:26 WARN WindowExec: No Partition Defined for Window operation! Moving all data to a single partition, this can cause serious performance degradation.\n",
      "25/07/27 17:42:26 WARN WindowExec: No Partition Defined for Window operation! Moving all data to a single partition, this can cause serious performance degradation.\n",
      "25/07/27 17:42:27 WARN WindowExec: No Partition Defined for Window operation! Moving all data to a single partition, this can cause serious performance degradation.\n",
      "25/07/27 17:42:27 WARN WindowExec: No Partition Defined for Window operation! Moving all data to a single partition, this can cause serious performance degradation.\n",
      "25/07/27 17:42:29 WARN WindowExec: No Partition Defined for Window operation! Moving all data to a single partition, this can cause serious performance degradation.\n",
      "25/07/27 17:42:29 WARN WindowExec: No Partition Defined for Window operation! Moving all data to a single partition, this can cause serious performance degradation.\n",
      "25/07/27 17:42:29 WARN WindowExec: No Partition Defined for Window operation! Moving all data to a single partition, this can cause serious performance degradation.\n",
      "25/07/27 17:42:29 WARN WindowExec: No Partition Defined for Window operation! Moving all data to a single partition, this can cause serious performance degradation.\n",
      "25/07/27 17:42:29 WARN WindowExec: No Partition Defined for Window operation! Moving all data to a single partition, this can cause serious performance degradation.\n"
     ]
    }
   ],
   "execution_count": 61
  },
  {
   "metadata": {},
   "cell_type": "markdown",
   "source": "1) Define GBT regressor with explicit prediction columns",
   "id": "5cd0159f284916d4"
  },
  {
   "metadata": {
    "ExecuteTime": {
     "end_time": "2025-07-27T14:42:29.751585Z",
     "start_time": "2025-07-27T14:42:29.743388Z"
    }
   },
   "cell_type": "code",
   "source": [
    "gbt = GBTRegressor(\n",
    "    featuresCol=\"features\",\n",
    "    labelCol=\"total_revenue\",\n",
    "    predictionCol=\"pred15\",\n",
    "    seed=12345\n",
    ")"
   ],
   "id": "54b79b98f1124f73",
   "outputs": [],
   "execution_count": 62
  },
  {
   "metadata": {},
   "cell_type": "markdown",
   "source": "2) Evaluators",
   "id": "ee230bc231f46"
  },
  {
   "metadata": {
    "ExecuteTime": {
     "end_time": "2025-07-27T14:42:29.810521Z",
     "start_time": "2025-07-27T14:42:29.806014Z"
    }
   },
   "cell_type": "code",
   "source": [
    "evaluator = RegressionEvaluator(\n",
    "    labelCol=\"total_revenue\",\n",
    "    predictionCol=\"pred15\",\n",
    "    metricName=\"mae\"\n",
    ")"
   ],
   "id": "9ecd3edf21654dc8",
   "outputs": [],
   "execution_count": 63
  },
  {
   "metadata": {},
   "cell_type": "markdown",
   "source": "3) Hyperparameter grids",
   "id": "fe2fa03087d5c0a7"
  },
  {
   "metadata": {
    "ExecuteTime": {
     "end_time": "2025-07-27T14:42:32.849121Z",
     "start_time": "2025-07-27T14:42:32.844939Z"
    }
   },
   "cell_type": "code",
   "source": [
    "paramGrid = (ParamGridBuilder()\n",
    "    .addGrid(gbt.maxDepth, [3])\n",
    "    .addGrid(gbt.maxIter,  [10])\n",
    "    .addGrid(gbt.stepSize, [0.1])\n",
    "    .build()\n",
    ")"
   ],
   "id": "ca3bfc7950196dae",
   "outputs": [],
   "execution_count": 64
  },
  {
   "metadata": {},
   "cell_type": "markdown",
   "source": "Define Pipeline for importing the model to other notebooks",
   "id": "a89e8248524a4639"
  },
  {
   "metadata": {
    "ExecuteTime": {
     "end_time": "2025-07-27T14:42:34.581848Z",
     "start_time": "2025-07-27T14:42:34.576917Z"
    }
   },
   "cell_type": "code",
   "source": [
    "# build a full pipeline that applies pp_model then the GBT\n",
    "pipeline = Pipeline(stages=[pp_model, gbt])"
   ],
   "id": "376b82481ca86261",
   "outputs": [],
   "execution_count": 65
  },
  {
   "metadata": {},
   "cell_type": "markdown",
   "source": "4) Cross-validators",
   "id": "dc7e6301cbdae835"
  },
  {
   "metadata": {
    "ExecuteTime": {
     "end_time": "2025-07-27T14:42:36.106172Z",
     "start_time": "2025-07-27T14:42:36.101804Z"
    }
   },
   "cell_type": "code",
   "source": [
    "cv = CrossValidator(\n",
    "    estimator=pipeline,\n",
    "    estimatorParamMaps=paramGrid,\n",
    "    evaluator=evaluator,\n",
    "    numFolds=3\n",
    ")"
   ],
   "id": "b9d89aecfffbe390",
   "outputs": [],
   "execution_count": 66
  },
  {
   "metadata": {
    "ExecuteTime": {
     "end_time": "2025-07-27T14:42:39.539771Z",
     "start_time": "2025-07-27T14:42:39.533389Z"
    }
   },
   "cell_type": "code",
   "source": "cv.setParallelism(4)",
   "id": "ddfb72a0e2a9356f",
   "outputs": [
    {
     "data": {
      "text/plain": [
       "CrossValidator_3b7a1d7ae690"
      ]
     },
     "execution_count": 67,
     "metadata": {},
     "output_type": "execute_result"
    }
   ],
   "execution_count": 67
  },
  {
   "metadata": {},
   "cell_type": "markdown",
   "source": "5) Train the model on preprocessed training data & Save the Model to Disk",
   "id": "7d54583e1577afb1"
  },
  {
   "metadata": {
    "ExecuteTime": {
     "end_time": "2025-07-27T14:48:23.136175Z",
     "start_time": "2025-07-27T14:42:49.287916Z"
    }
   },
   "cell_type": "code",
   "source": [
    "cv_model = cv.fit(train)\n",
    "bestModel = cv_model.bestModel    # the PipelineModel tuned for the label\n",
    "bestModel.write().overwrite().save(\"/Users/macbookpro/PyCharmMiscProject/models/user_ltv_model\")"
   ],
   "id": "95a0f5ced250de89",
   "outputs": [
    {
     "name": "stderr",
     "output_type": "stream",
     "text": [
      "25/07/27 17:42:49 WARN WindowExec: No Partition Defined for Window operation! Moving all data to a single partition, this can cause serious performance degradation.\n",
      "25/07/27 17:42:49 WARN WindowExec: No Partition Defined for Window operation! Moving all data to a single partition, this can cause serious performance degradation.\n",
      "25/07/27 17:42:49 WARN WindowExec: No Partition Defined for Window operation! Moving all data to a single partition, this can cause serious performance degradation.\n",
      "25/07/27 17:42:49 WARN WindowExec: No Partition Defined for Window operation! Moving all data to a single partition, this can cause serious performance degradation.\n",
      "25/07/27 17:42:55 WARN WindowExec: No Partition Defined for Window operation! Moving all data to a single partition, this can cause serious performance degradation.\n",
      "25/07/27 17:42:55 WARN WindowExec: No Partition Defined for Window operation! Moving all data to a single partition, this can cause serious performance degradation.\n",
      "25/07/27 17:42:56 WARN WindowExec: No Partition Defined for Window operation! Moving all data to a single partition, this can cause serious performance degradation.\n",
      "25/07/27 17:42:56 WARN WindowExec: No Partition Defined for Window operation! Moving all data to a single partition, this can cause serious performance degradation.\n",
      "25/07/27 17:43:49 WARN WindowExec: No Partition Defined for Window operation! Moving all data to a single partition, this can cause serious performance degradation.\n",
      "25/07/27 17:43:49 WARN WindowExec: No Partition Defined for Window operation! Moving all data to a single partition, this can cause serious performance degradation.\n",
      "25/07/27 17:43:49 WARN WindowExec: No Partition Defined for Window operation! Moving all data to a single partition, this can cause serious performance degradation.\n",
      "25/07/27 17:43:49 WARN WindowExec: No Partition Defined for Window operation! Moving all data to a single partition, this can cause serious performance degradation.\n",
      "25/07/27 17:44:14 WARN WindowExec: No Partition Defined for Window operation! Moving all data to a single partition, this can cause serious performance degradation.\n",
      "25/07/27 17:44:14 WARN WindowExec: No Partition Defined for Window operation! Moving all data to a single partition, this can cause serious performance degradation.\n",
      "25/07/27 17:44:14 WARN WindowExec: No Partition Defined for Window operation! Moving all data to a single partition, this can cause serious performance degradation.\n",
      "25/07/27 17:44:14 WARN WindowExec: No Partition Defined for Window operation! Moving all data to a single partition, this can cause serious performance degradation.\n",
      "25/07/27 17:44:18 WARN WindowExec: No Partition Defined for Window operation! Moving all data to a single partition, this can cause serious performance degradation.\n",
      "25/07/27 17:44:18 WARN WindowExec: No Partition Defined for Window operation! Moving all data to a single partition, this can cause serious performance degradation.\n",
      "25/07/27 17:44:19 WARN WindowExec: No Partition Defined for Window operation! Moving all data to a single partition, this can cause serious performance degradation.\n",
      "25/07/27 17:44:19 WARN WindowExec: No Partition Defined for Window operation! Moving all data to a single partition, this can cause serious performance degradation.\n",
      "25/07/27 17:45:09 WARN WindowExec: No Partition Defined for Window operation! Moving all data to a single partition, this can cause serious performance degradation.\n",
      "25/07/27 17:45:09 WARN WindowExec: No Partition Defined for Window operation! Moving all data to a single partition, this can cause serious performance degradation.\n",
      "25/07/27 17:45:10 WARN WindowExec: No Partition Defined for Window operation! Moving all data to a single partition, this can cause serious performance degradation.\n",
      "25/07/27 17:45:10 WARN WindowExec: No Partition Defined for Window operation! Moving all data to a single partition, this can cause serious performance degradation.\n",
      "25/07/27 17:45:35 WARN WindowExec: No Partition Defined for Window operation! Moving all data to a single partition, this can cause serious performance degradation.\n",
      "25/07/27 17:45:35 WARN WindowExec: No Partition Defined for Window operation! Moving all data to a single partition, this can cause serious performance degradation.\n",
      "25/07/27 17:45:35 WARN WindowExec: No Partition Defined for Window operation! Moving all data to a single partition, this can cause serious performance degradation.\n",
      "25/07/27 17:45:35 WARN WindowExec: No Partition Defined for Window operation! Moving all data to a single partition, this can cause serious performance degradation.\n",
      "25/07/27 17:45:40 WARN WindowExec: No Partition Defined for Window operation! Moving all data to a single partition, this can cause serious performance degradation.\n",
      "25/07/27 17:45:40 WARN WindowExec: No Partition Defined for Window operation! Moving all data to a single partition, this can cause serious performance degradation.\n",
      "25/07/27 17:45:40 WARN WindowExec: No Partition Defined for Window operation! Moving all data to a single partition, this can cause serious performance degradation.\n",
      "25/07/27 17:45:40 WARN WindowExec: No Partition Defined for Window operation! Moving all data to a single partition, this can cause serious performance degradation.\n",
      "25/07/27 17:46:34 WARN WindowExec: No Partition Defined for Window operation! Moving all data to a single partition, this can cause serious performance degradation.\n",
      "25/07/27 17:46:34 WARN WindowExec: No Partition Defined for Window operation! Moving all data to a single partition, this can cause serious performance degradation.\n",
      "25/07/27 17:46:34 WARN WindowExec: No Partition Defined for Window operation! Moving all data to a single partition, this can cause serious performance degradation.\n",
      "25/07/27 17:46:34 WARN WindowExec: No Partition Defined for Window operation! Moving all data to a single partition, this can cause serious performance degradation.\n",
      "25/07/27 17:46:59 WARN WindowExec: No Partition Defined for Window operation! Moving all data to a single partition, this can cause serious performance degradation.\n",
      "25/07/27 17:46:59 WARN WindowExec: No Partition Defined for Window operation! Moving all data to a single partition, this can cause serious performance degradation.\n",
      "25/07/27 17:47:04 WARN WindowExec: No Partition Defined for Window operation! Moving all data to a single partition, this can cause serious performance degradation.\n",
      "25/07/27 17:47:04 WARN WindowExec: No Partition Defined for Window operation! Moving all data to a single partition, this can cause serious performance degradation.\n",
      "25/07/27 17:47:04 WARN WindowExec: No Partition Defined for Window operation! Moving all data to a single partition, this can cause serious performance degradation.\n",
      "25/07/27 17:47:04 WARN WindowExec: No Partition Defined for Window operation! Moving all data to a single partition, this can cause serious performance degradation.\n",
      "25/07/27 17:47:05 WARN WindowExec: No Partition Defined for Window operation! Moving all data to a single partition, this can cause serious performance degradation.\n",
      "25/07/27 17:47:05 WARN WindowExec: No Partition Defined for Window operation! Moving all data to a single partition, this can cause serious performance degradation.\n",
      "25/07/27 17:47:10 WARN WindowExec: No Partition Defined for Window operation! Moving all data to a single partition, this can cause serious performance degradation.\n",
      "25/07/27 17:47:10 WARN WindowExec: No Partition Defined for Window operation! Moving all data to a single partition, this can cause serious performance degradation.\n",
      "25/07/27 17:47:11 WARN WindowExec: No Partition Defined for Window operation! Moving all data to a single partition, this can cause serious performance degradation.\n",
      "25/07/27 17:47:11 WARN WindowExec: No Partition Defined for Window operation! Moving all data to a single partition, this can cause serious performance degradation.\n",
      "                                                                                \r"
     ]
    }
   ],
   "execution_count": 68
  },
  {
   "metadata": {},
   "cell_type": "markdown",
   "source": "6) Generate predictions on preprocessed test data",
   "id": "373943f63bb16b4d"
  },
  {
   "metadata": {
    "ExecuteTime": {
     "end_time": "2025-07-27T14:51:36.359122Z",
     "start_time": "2025-07-27T14:51:36.058305Z"
    }
   },
   "cell_type": "code",
   "source": "preds = cv_model.transform(test)",
   "id": "90636cda09ac10af",
   "outputs": [],
   "execution_count": 77
  },
  {
   "metadata": {},
   "cell_type": "markdown",
   "source": "7) Annualize the 15-day forecasts if desired",
   "id": "80606117ccb4ebfa"
  },
  {
   "metadata": {
    "ExecuteTime": {
     "end_time": "2025-07-27T14:54:51.564720Z",
     "start_time": "2025-07-27T14:54:51.531268Z"
    }
   },
   "cell_type": "code",
   "source": [
    "factor     = 365.0 / 15.0\n",
    "\n",
    "preds = preds.withColumn(\"forecast_1y\", F.col(\"pred15\") * factor)"
   ],
   "id": "43bf4282abdd22dd",
   "outputs": [],
   "execution_count": 80
  },
  {
   "metadata": {
    "ExecuteTime": {
     "end_time": "2025-07-27T14:55:49.132519Z",
     "start_time": "2025-07-27T14:55:01.624622Z"
    }
   },
   "cell_type": "code",
   "source": [
    "# write \"preds\" out once—and forget Spark ML for downstream analysis\n",
    "preds.write.mode(\"overwrite\").parquet(\"/Users/macbookpro/PyCharmMiscProject/Output_Dataframes/user_preds.parquet\")"
   ],
   "id": "e9d11de4b8b4d3c3",
   "outputs": [
    {
     "name": "stderr",
     "output_type": "stream",
     "text": [
      "25/07/27 17:55:01 WARN WindowExec: No Partition Defined for Window operation! Moving all data to a single partition, this can cause serious performance degradation.\n",
      "25/07/27 17:55:01 WARN WindowExec: No Partition Defined for Window operation! Moving all data to a single partition, this can cause serious performance degradation.\n",
      "25/07/27 17:55:01 WARN WindowExec: No Partition Defined for Window operation! Moving all data to a single partition, this can cause serious performance degradation.\n",
      "25/07/27 17:55:15 WARN WindowExec: No Partition Defined for Window operation! Moving all data to a single partition, this can cause serious performance degradation.\n",
      "25/07/27 17:55:15 WARN WindowExec: No Partition Defined for Window operation! Moving all data to a single partition, this can cause serious performance degradation.\n",
      "25/07/27 17:55:16 WARN WindowExec: No Partition Defined for Window operation! Moving all data to a single partition, this can cause serious performance degradation.\n",
      "25/07/27 17:55:16 WARN WindowExec: No Partition Defined for Window operation! Moving all data to a single partition, this can cause serious performance degradation.\n",
      "                                                                                \r"
     ]
    }
   ],
   "execution_count": 81
  },
  {
   "metadata": {},
   "cell_type": "markdown",
   "source": [
    " preds now contains:\n",
    "   - pred15\n",
    "   - forecast_1y\n",
    "   - plus all original user features for analysis"
   ],
   "id": "76abaad5cf126761"
  },
  {
   "metadata": {},
   "cell_type": "markdown",
   "source": "# Evaluate",
   "id": "4ae87628721238db"
  },
  {
   "metadata": {
    "ExecuteTime": {
     "end_time": "2025-07-27T14:50:38.104499Z",
     "start_time": "2025-07-27T14:50:14.687879Z"
    }
   },
   "cell_type": "code",
   "source": "mae = evaluator.evaluate(preds)",
   "id": "c121462bcab62cd8",
   "outputs": [
    {
     "name": "stderr",
     "output_type": "stream",
     "text": [
      "25/07/27 17:50:14 WARN WindowExec: No Partition Defined for Window operation! Moving all data to a single partition, this can cause serious performance degradation.\n",
      "25/07/27 17:50:14 WARN WindowExec: No Partition Defined for Window operation! Moving all data to a single partition, this can cause serious performance degradation.\n",
      "25/07/27 17:50:14 WARN WindowExec: No Partition Defined for Window operation! Moving all data to a single partition, this can cause serious performance degradation.\n",
      "25/07/27 17:50:20 WARN WindowExec: No Partition Defined for Window operation! Moving all data to a single partition, this can cause serious performance degradation.\n",
      "25/07/27 17:50:20 WARN WindowExec: No Partition Defined for Window operation! Moving all data to a single partition, this can cause serious performance degradation.\n",
      "25/07/27 17:50:21 WARN WindowExec: No Partition Defined for Window operation! Moving all data to a single partition, this can cause serious performance degradation.\n",
      "25/07/27 17:50:21 WARN WindowExec: No Partition Defined for Window operation! Moving all data to a single partition, this can cause serious performance degradation.\n",
      "                                                                                \r"
     ]
    }
   ],
   "execution_count": 72
  },
  {
   "metadata": {
    "ExecuteTime": {
     "end_time": "2025-07-27T14:50:38.164644Z",
     "start_time": "2025-07-27T14:50:38.162601Z"
    }
   },
   "cell_type": "code",
   "source": "print(\"15-day MAE:\", mae)",
   "id": "7c3451055fad169e",
   "outputs": [
    {
     "name": "stdout",
     "output_type": "stream",
     "text": [
      "15-day MAE: 0.016813497452963934\n"
     ]
    }
   ],
   "execution_count": 73
  },
  {
   "metadata": {},
   "cell_type": "markdown",
   "source": "1) Compute both averages together",
   "id": "66b6665a3c6669e1"
  },
  {
   "metadata": {
    "ExecuteTime": {
     "end_time": "2025-07-27T14:50:48.034621Z",
     "start_time": "2025-07-27T14:50:38.209771Z"
    }
   },
   "cell_type": "code",
   "source": [
    "mean_vals = test_pp.agg(\n",
    "    F.avg(\"total_revenue\" ).alias(\"true_mean\"),\n",
    ").first()\n",
    "\n",
    "true_mean = mean_vals[\"true_mean\"]"
   ],
   "id": "98a56930e2a05cbc",
   "outputs": [
    {
     "name": "stderr",
     "output_type": "stream",
     "text": [
      "25/07/27 17:50:42 WARN WindowExec: No Partition Defined for Window operation! Moving all data to a single partition, this can cause serious performance degradation.\n",
      "25/07/27 17:50:42 WARN WindowExec: No Partition Defined for Window operation! Moving all data to a single partition, this can cause serious performance degradation.\n",
      "25/07/27 17:50:43 WARN WindowExec: No Partition Defined for Window operation! Moving all data to a single partition, this can cause serious performance degradation.\n",
      "25/07/27 17:50:43 WARN WindowExec: No Partition Defined for Window operation! Moving all data to a single partition, this can cause serious performance degradation.\n",
      "                                                                                \r"
     ]
    }
   ],
   "execution_count": 74
  },
  {
   "metadata": {
    "ExecuteTime": {
     "end_time": "2025-07-27T14:50:48.079845Z",
     "start_time": "2025-07-27T14:50:48.078123Z"
    }
   },
   "cell_type": "code",
   "source": "relative_mae_mean = mae / true_mean",
   "id": "85682d78b331d28d",
   "outputs": [],
   "execution_count": 75
  },
  {
   "metadata": {},
   "cell_type": "markdown",
   "source": "2) Print as percentages",
   "id": "278d5c6a83f90683"
  },
  {
   "metadata": {
    "ExecuteTime": {
     "end_time": "2025-07-27T14:50:48.124239Z",
     "start_time": "2025-07-27T14:50:48.122271Z"
    }
   },
   "cell_type": "code",
   "source": "print(f\"Relative MAE (mean): {relative_mae_mean:.2%}\")",
   "id": "822193503731d281",
   "outputs": [
    {
     "name": "stdout",
     "output_type": "stream",
     "text": [
      "Relative MAE (mean): 3.36%\n"
     ]
    }
   ],
   "execution_count": 76
  },
  {
   "metadata": {},
   "cell_type": "markdown",
   "source": "# Write the Output",
   "id": "4c0d75e894554327"
  },
  {
   "metadata": {},
   "cell_type": "markdown",
   "source": [
    "preds is the DataFrame obtained after scoring and annualizing:\n",
    "it contains all user features plus pred15 and forecast_1y."
   ],
   "id": "65f8d4f42383f384"
  },
  {
   "metadata": {},
   "cell_type": "markdown",
   "source": "Select exactly the columns wanted in the output",
   "id": "353733d674762db7"
  },
  {
   "metadata": {
    "ExecuteTime": {
     "end_time": "2025-07-27T14:56:04.224451Z",
     "start_time": "2025-07-27T14:56:04.214965Z"
    }
   },
   "cell_type": "code",
   "source": "preds.printSchema()",
   "id": "780dd504effd53e9",
   "outputs": [
    {
     "name": "stdout",
     "output_type": "stream",
     "text": [
      "root\n",
      " |-- auto_renew_off: long (nullable = true)\n",
      " |-- avg_event_hour: double (nullable = true)\n",
      " |-- country: string (nullable = true)\n",
      " |-- first_year_revenue: double (nullable = true)\n",
      " |-- free_trial: long (nullable = true)\n",
      " |-- operating_system: string (nullable = true)\n",
      " |-- paywall: long (nullable = true)\n",
      " |-- refund: long (nullable = true)\n",
      " |-- renewal: long (nullable = true)\n",
      " |-- season: string (nullable = true)\n",
      " |-- stickiness_ratio: double (nullable = true)\n",
      " |-- subscribe: long (nullable = true)\n",
      " |-- total_revenue: double (nullable = true)\n",
      " |-- user_id: string (nullable = true)\n",
      " |-- user_index: integer (nullable = false)\n",
      " |-- operating_system_idx: double (nullable = false)\n",
      " |-- operating_system_vec: vector (nullable = true)\n",
      " |-- country_idx: double (nullable = false)\n",
      " |-- country_vec: vector (nullable = true)\n",
      " |-- season_idx: double (nullable = false)\n",
      " |-- season_vec: vector (nullable = true)\n",
      " |-- features: vector (nullable = true)\n",
      " |-- pred15: double (nullable = false)\n",
      " |-- forecast_1y: double (nullable = false)\n",
      "\n"
     ]
    }
   ],
   "execution_count": 82
  },
  {
   "metadata": {
    "ExecuteTime": {
     "end_time": "2025-07-27T14:56:08.034841Z",
     "start_time": "2025-07-27T14:56:07.930559Z"
    }
   },
   "cell_type": "code",
   "source": [
    "output_df = preds.select(\n",
    "    \"user_id\",\n",
    "    \"operating_system_idx\",\n",
    "    \"country_idx\",\n",
    "    \"season_idx\",\n",
    "    \"stickiness_ratio\",\n",
    "    \"auto_renew_off\",\n",
    "    \"free_trial\",\n",
    "    \"paywall\",\n",
    "    \"refund\",\n",
    "    \"renewal\",\n",
    "    \"subscribe\",\n",
    "    \"avg_event_hour\",\n",
    "    \"total_revenue\",\n",
    "    \"first_year_revenue\",\n",
    "\n",
    "    # 1-year forecasts\n",
    "    \"forecast_1y\"\n",
    ")"
   ],
   "id": "885cbd6a0a68c787",
   "outputs": [],
   "execution_count": 83
  },
  {
   "metadata": {
    "ExecuteTime": {
     "end_time": "2025-07-27T14:56:11.680016Z",
     "start_time": "2025-07-27T14:56:11.673031Z"
    }
   },
   "cell_type": "code",
   "source": "output_df.printSchema()",
   "id": "5711bb86e7cee6ef",
   "outputs": [
    {
     "name": "stdout",
     "output_type": "stream",
     "text": [
      "root\n",
      " |-- user_id: string (nullable = true)\n",
      " |-- operating_system_idx: double (nullable = false)\n",
      " |-- country_idx: double (nullable = false)\n",
      " |-- season_idx: double (nullable = false)\n",
      " |-- stickiness_ratio: double (nullable = true)\n",
      " |-- auto_renew_off: long (nullable = true)\n",
      " |-- free_trial: long (nullable = true)\n",
      " |-- paywall: long (nullable = true)\n",
      " |-- refund: long (nullable = true)\n",
      " |-- renewal: long (nullable = true)\n",
      " |-- subscribe: long (nullable = true)\n",
      " |-- avg_event_hour: double (nullable = true)\n",
      " |-- total_revenue: double (nullable = true)\n",
      " |-- first_year_revenue: double (nullable = true)\n",
      " |-- forecast_1y: double (nullable = false)\n",
      "\n"
     ]
    }
   ],
   "execution_count": 84
  },
  {
   "metadata": {
    "ExecuteTime": {
     "end_time": "2025-07-27T14:57:19.415907Z",
     "start_time": "2025-07-27T14:56:40.117678Z"
    }
   },
   "cell_type": "code",
   "source": [
    "# list all columns except the three we skip\n",
    "skip = {\"user_id\"}\n",
    "cols = [c for c in output_df.columns if c not in skip]\n",
    "\n",
    "# build one aggregation per column: count where value < 0\n",
    "agg_exprs = [\n",
    "    F.sum(F.when(F.col(c) < 0, 1).otherwise(0)).alias(c)\n",
    "    for c in cols\n",
    "]\n",
    "\n",
    "# run and display\n",
    "neg_counts_df = output_df.agg(*agg_exprs)\n",
    "neg_counts_df.show(truncate=False)"
   ],
   "id": "9c5737898fc354b5",
   "outputs": [
    {
     "name": "stderr",
     "output_type": "stream",
     "text": [
      "25/07/27 17:56:40 WARN WindowExec: No Partition Defined for Window operation! Moving all data to a single partition, this can cause serious performance degradation.\n",
      "25/07/27 17:56:40 WARN WindowExec: No Partition Defined for Window operation! Moving all data to a single partition, this can cause serious performance degradation.\n",
      "25/07/27 17:56:50 WARN WindowExec: No Partition Defined for Window operation! Moving all data to a single partition, this can cause serious performance degradation.\n",
      "25/07/27 17:56:50 WARN WindowExec: No Partition Defined for Window operation! Moving all data to a single partition, this can cause serious performance degradation.\n",
      "25/07/27 17:56:51 WARN WindowExec: No Partition Defined for Window operation! Moving all data to a single partition, this can cause serious performance degradation.\n",
      "25/07/27 17:56:51 WARN WindowExec: No Partition Defined for Window operation! Moving all data to a single partition, this can cause serious performance degradation.\n",
      "                                                                                \r"
     ]
    },
    {
     "name": "stdout",
     "output_type": "stream",
     "text": [
      "+--------------------+-----------+----------+----------------+--------------+----------+-------+------+-------+---------+--------------+-------------+------------------+-----------+\n",
      "|operating_system_idx|country_idx|season_idx|stickiness_ratio|auto_renew_off|free_trial|paywall|refund|renewal|subscribe|avg_event_hour|total_revenue|first_year_revenue|forecast_1y|\n",
      "+--------------------+-----------+----------+----------------+--------------+----------+-------+------+-------+---------+--------------+-------------+------------------+-----------+\n",
      "|0                   |0          |0         |0               |0             |0         |0      |0     |0      |0        |0             |0            |8                 |417542     |\n",
      "+--------------------+-----------+----------+----------------+--------------+----------+-------+------+-------+---------+--------------+-------------+------------------+-----------+\n",
      "\n"
     ]
    }
   ],
   "execution_count": 85
  },
  {
   "metadata": {
    "ExecuteTime": {
     "end_time": "2025-07-27T14:58:30.294059Z",
     "start_time": "2025-07-27T14:57:29.405930Z"
    }
   },
   "cell_type": "code",
   "source": "output_df.select(\"forecast_1y\").filter(F.col(\"forecast_1y\") < 0).distinct().show()",
   "id": "5e76c4b467bc8dbc",
   "outputs": [
    {
     "name": "stderr",
     "output_type": "stream",
     "text": [
      "25/07/27 17:57:29 WARN WindowExec: No Partition Defined for Window operation! Moving all data to a single partition, this can cause serious performance degradation.\n",
      "25/07/27 17:57:29 WARN WindowExec: No Partition Defined for Window operation! Moving all data to a single partition, this can cause serious performance degradation.\n",
      "25/07/27 17:57:39 WARN WindowExec: No Partition Defined for Window operation! Moving all data to a single partition, this can cause serious performance degradation.\n",
      "25/07/27 17:57:40 WARN WindowExec: No Partition Defined for Window operation! Moving all data to a single partition, this can cause serious performance degradation.\n",
      "25/07/27 17:57:40 WARN WindowExec: No Partition Defined for Window operation! Moving all data to a single partition, this can cause serious performance degradation.\n",
      "25/07/27 17:57:40 WARN WindowExec: No Partition Defined for Window operation! Moving all data to a single partition, this can cause serious performance degradation.\n",
      "[Stage 2476:>                                                       (0 + 1) / 1]\r"
     ]
    },
    {
     "name": "stdout",
     "output_type": "stream",
     "text": [
      "+--------------------+\n",
      "|         forecast_1y|\n",
      "+--------------------+\n",
      "|-0.07115095152852956|\n",
      "+--------------------+\n",
      "\n"
     ]
    },
    {
     "name": "stderr",
     "output_type": "stream",
     "text": [
      "                                                                                \r"
     ]
    }
   ],
   "execution_count": 86
  },
  {
   "metadata": {},
   "cell_type": "markdown",
   "source": "The above negative forecast can be basically (and plausibly) considered 0.",
   "id": "d87b9b010d40c5de"
  },
  {
   "metadata": {
    "ExecuteTime": {
     "end_time": "2025-07-27T14:58:35.947102Z",
     "start_time": "2025-07-27T14:58:35.769609Z"
    }
   },
   "cell_type": "code",
   "source": [
    "null_counts = output_df.select([\n",
    "    F.sum(F.when(F.col(c).isNull(), 1).otherwise(0)).alias(c)\n",
    "    for c in output_df.columns\n",
    "])"
   ],
   "id": "d27533ebdfb0431e",
   "outputs": [],
   "execution_count": 87
  },
  {
   "metadata": {
    "ExecuteTime": {
     "end_time": "2025-07-27T14:58:52.732272Z",
     "start_time": "2025-07-27T14:58:37.880518Z"
    }
   },
   "cell_type": "code",
   "source": "null_counts.show()",
   "id": "fd7d6cdb243efa24",
   "outputs": [
    {
     "name": "stderr",
     "output_type": "stream",
     "text": [
      "25/07/27 17:58:38 WARN WindowExec: No Partition Defined for Window operation! Moving all data to a single partition, this can cause serious performance degradation.\n",
      "25/07/27 17:58:38 WARN WindowExec: No Partition Defined for Window operation! Moving all data to a single partition, this can cause serious performance degradation.\n",
      "25/07/27 17:58:49 WARN WindowExec: No Partition Defined for Window operation! Moving all data to a single partition, this can cause serious performance degradation.\n",
      "25/07/27 17:58:49 WARN WindowExec: No Partition Defined for Window operation! Moving all data to a single partition, this can cause serious performance degradation.\n",
      "25/07/27 17:58:50 WARN WindowExec: No Partition Defined for Window operation! Moving all data to a single partition, this can cause serious performance degradation.\n",
      "25/07/27 17:58:50 WARN WindowExec: No Partition Defined for Window operation! Moving all data to a single partition, this can cause serious performance degradation.\n",
      "[Stage 2483:>                                                       (0 + 1) / 1]\r"
     ]
    },
    {
     "name": "stdout",
     "output_type": "stream",
     "text": [
      "+-------+--------------------+-----------+----------+----------------+--------------+----------+-------+------+-------+---------+--------------+-------------+------------------+-----------+\n",
      "|user_id|operating_system_idx|country_idx|season_idx|stickiness_ratio|auto_renew_off|free_trial|paywall|refund|renewal|subscribe|avg_event_hour|total_revenue|first_year_revenue|forecast_1y|\n",
      "+-------+--------------------+-----------+----------+----------------+--------------+----------+-------+------+-------+---------+--------------+-------------+------------------+-----------+\n",
      "|      0|                   0|          0|         0|               0|             0|         0|      0|     0|      0|        0|             0|            0|                 0|          0|\n",
      "+-------+--------------------+-----------+----------+----------------+--------------+----------+-------+------+-------+---------+--------------+-------------+------------------+-----------+\n",
      "\n"
     ]
    },
    {
     "name": "stderr",
     "output_type": "stream",
     "text": [
      "                                                                                \r"
     ]
    }
   ],
   "execution_count": 88
  },
  {
   "metadata": {
    "ExecuteTime": {
     "end_time": "2025-07-27T14:59:45.698047Z",
     "start_time": "2025-07-27T14:59:05.771557Z"
    }
   },
   "cell_type": "code",
   "source": [
    "# 1) repartition to use all cores\n",
    "num_parts = spark.sparkContext.defaultParallelism\n",
    "df_out = output_df.repartition(num_parts)\n",
    "print(\"After:\", df_out.rdd.getNumPartitions())"
   ],
   "id": "4a839985ef9d377",
   "outputs": [
    {
     "name": "stderr",
     "output_type": "stream",
     "text": [
      "25/07/27 17:59:05 WARN WindowExec: No Partition Defined for Window operation! Moving all data to a single partition, this can cause serious performance degradation.\n",
      "25/07/27 17:59:05 WARN WindowExec: No Partition Defined for Window operation! Moving all data to a single partition, this can cause serious performance degradation.\n",
      "25/07/27 17:59:16 WARN WindowExec: No Partition Defined for Window operation! Moving all data to a single partition, this can cause serious performance degradation.\n",
      "25/07/27 17:59:16 WARN WindowExec: No Partition Defined for Window operation! Moving all data to a single partition, this can cause serious performance degradation.\n",
      "25/07/27 17:59:17 WARN WindowExec: No Partition Defined for Window operation! Moving all data to a single partition, this can cause serious performance degradation.\n",
      "25/07/27 17:59:17 WARN WindowExec: No Partition Defined for Window operation! Moving all data to a single partition, this can cause serious performance degradation.\n",
      "[Stage 2490:>                                                       (0 + 1) / 1]\r"
     ]
    },
    {
     "name": "stdout",
     "output_type": "stream",
     "text": [
      "After: 8\n"
     ]
    }
   ],
   "execution_count": 89
  },
  {
   "metadata": {
    "ExecuteTime": {
     "end_time": "2025-07-27T15:00:29.487244Z",
     "start_time": "2025-07-27T14:59:45.725756Z"
    }
   },
   "cell_type": "code",
   "source": [
    "# 2) write as compressed JSON\n",
    "df_out.write \\\n",
    "    .mode(\"overwrite\") \\\n",
    "    .option(\"compression\", \"gzip\") \\\n",
    "    .json(\"/Users/macbookpro/PyCharmMiscProject/output_user_json\")"
   ],
   "id": "f278f04c37d2ee49",
   "outputs": [
    {
     "name": "stderr",
     "output_type": "stream",
     "text": [
      "25/07/27 17:59:45 WARN WindowExec: No Partition Defined for Window operation! Moving all data to a single partition, this can cause serious performance degradation.\n",
      "25/07/27 17:59:46 WARN WindowExec: No Partition Defined for Window operation! Moving all data to a single partition, this can cause serious performance degradation.\n",
      "25/07/27 17:59:56 WARN WindowExec: No Partition Defined for Window operation! Moving all data to a single partition, this can cause serious performance degradation.\n",
      "25/07/27 17:59:56 WARN WindowExec: No Partition Defined for Window operation! Moving all data to a single partition, this can cause serious performance degradation.\n",
      "25/07/27 17:59:57 WARN WindowExec: No Partition Defined for Window operation! Moving all data to a single partition, this can cause serious performance degradation.\n",
      "25/07/27 17:59:57 WARN WindowExec: No Partition Defined for Window operation! Moving all data to a single partition, this can cause serious performance degradation.\n",
      "                                                                                \r"
     ]
    }
   ],
   "execution_count": 90
  }
 ],
 "metadata": {
  "kernelspec": {
   "display_name": "Python 3",
   "language": "python",
   "name": "python3"
  },
  "language_info": {
   "codemirror_mode": {
    "name": "ipython",
    "version": 2
   },
   "file_extension": ".py",
   "mimetype": "text/x-python",
   "name": "python",
   "nbconvert_exporter": "python",
   "pygments_lexer": "ipython2",
   "version": "2.7.6"
  }
 },
 "nbformat": 4,
 "nbformat_minor": 5
}
