{
 "cells": [
  {
   "metadata": {
    "ExecuteTime": {
     "end_time": "2025-07-26T20:42:01.768783Z",
     "start_time": "2025-07-26T20:42:01.587594Z"
    }
   },
   "cell_type": "code",
   "source": [
    "from pyspark.sql import SparkSession\n",
    "from pyspark.sql import functions as F"
   ],
   "id": "ce63fc4209223735",
   "outputs": [],
   "execution_count": 1
  },
  {
   "metadata": {
    "ExecuteTime": {
     "end_time": "2025-07-26T20:42:32.530201Z",
     "start_time": "2025-07-26T20:42:19.612479Z"
    }
   },
   "cell_type": "code",
   "source": [
    "spark = (\n",
    "  SparkSession.builder\n",
    "    .appName(\"Codeway\")\n",
    "    .master(\"local[*]\")\n",
    "    .config(\"spark.driver.memory\", \"4g\")\n",
    "    .getOrCreate()\n",
    ")"
   ],
   "id": "4bec7a7d96fae763",
   "outputs": [
    {
     "name": "stderr",
     "output_type": "stream",
     "text": [
      "WARNING: Using incubator modules: jdk.incubator.vector\n",
      "Using Spark's default log4j profile: org/apache/spark/log4j2-defaults.properties\n",
      "Setting default log level to \"WARN\".\n",
      "To adjust logging level use sc.setLogLevel(newLevel). For SparkR, use setLogLevel(newLevel).\n",
      "25/07/26 23:42:25 WARN NativeCodeLoader: Unable to load native-hadoop library for your platform... using builtin-java classes where applicable\n",
      "25/07/26 23:42:26 WARN Utils: Service 'SparkUI' could not bind on port 4040. Attempting port 4041.\n"
     ]
    }
   ],
   "execution_count": 2
  },
  {
   "metadata": {},
   "cell_type": "markdown",
   "source": "Read the dataframe",
   "id": "f222ee70e5a2b7fa"
  },
  {
   "metadata": {
    "collapsed": true,
    "ExecuteTime": {
     "end_time": "2025-07-26T20:42:55.094794Z",
     "start_time": "2025-07-26T20:42:32.591818Z"
    }
   },
   "cell_type": "code",
   "source": "df_features = spark.read.json(\"/Users/macbookpro/PyCharmMiscProject/df_features_json\")",
   "id": "8897e6fbf4c3d5fb",
   "outputs": [
    {
     "name": "stderr",
     "output_type": "stream",
     "text": [
      "                                                                                \r"
     ]
    }
   ],
   "execution_count": 3
  },
  {
   "metadata": {
    "ExecuteTime": {
     "end_time": "2025-07-26T20:42:56.158499Z",
     "start_time": "2025-07-26T20:42:56.088803Z"
    }
   },
   "cell_type": "code",
   "source": [
    "# Order df_features chronologically by first_event_date\n",
    "df_ordered = df_features.orderBy(\"first_event_date\")"
   ],
   "id": "50fb9ee8077bee00",
   "outputs": [],
   "execution_count": 4
  },
  {
   "metadata": {
    "ExecuteTime": {
     "end_time": "2025-07-26T20:42:56.552888Z",
     "start_time": "2025-07-26T20:42:56.549872Z"
    }
   },
   "cell_type": "code",
   "source": "from pyspark.sql.window import Window",
   "id": "949a0296cf9a681",
   "outputs": [],
   "execution_count": 5
  },
  {
   "metadata": {
    "ExecuteTime": {
     "end_time": "2025-07-26T20:42:56.861622Z",
     "start_time": "2025-07-26T20:42:56.680188Z"
    }
   },
   "cell_type": "code",
   "source": [
    "w = Window.orderBy(\"first_event_date\")\n",
    "df_ordered = df_ordered.withColumn(\"user_index\", F.row_number().over(w))"
   ],
   "id": "85a7055e6e9396a3",
   "outputs": [],
   "execution_count": 6
  },
  {
   "metadata": {},
   "cell_type": "markdown",
   "source": "# Pre-processing (very short) for User-level Analysis",
   "id": "f8c083b1832ebdb3"
  },
  {
   "metadata": {
    "ExecuteTime": {
     "end_time": "2025-07-26T20:42:56.954827Z",
     "start_time": "2025-07-26T20:42:56.923335Z"
    }
   },
   "cell_type": "code",
   "source": "df_ordered = df_ordered.drop(\"first_event_date\")",
   "id": "c8c3dec42e1c4366",
   "outputs": [],
   "execution_count": 7
  },
  {
   "metadata": {
    "ExecuteTime": {
     "end_time": "2025-07-26T20:42:57.039882Z",
     "start_time": "2025-07-26T20:42:57.022443Z"
    }
   },
   "cell_type": "code",
   "source": "df_ordered.printSchema()",
   "id": "91503f3d8db9123",
   "outputs": [
    {
     "name": "stdout",
     "output_type": "stream",
     "text": [
      "root\n",
      " |-- auto_renew_off: long (nullable = true)\n",
      " |-- avg_event_hour: double (nullable = true)\n",
      " |-- country: string (nullable = true)\n",
      " |-- first_year_revenue: double (nullable = true)\n",
      " |-- free_trial: long (nullable = true)\n",
      " |-- operating_system: string (nullable = true)\n",
      " |-- paywall: long (nullable = true)\n",
      " |-- refund: long (nullable = true)\n",
      " |-- renewal: long (nullable = true)\n",
      " |-- season: string (nullable = true)\n",
      " |-- stickiness_ratio: double (nullable = true)\n",
      " |-- subscribe: long (nullable = true)\n",
      " |-- total_revenue: double (nullable = true)\n",
      " |-- user_id: string (nullable = true)\n",
      " |-- user_index: integer (nullable = false)\n",
      "\n"
     ]
    }
   ],
   "execution_count": 8
  },
  {
   "metadata": {
    "ExecuteTime": {
     "end_time": "2025-07-26T20:43:44.393229Z",
     "start_time": "2025-07-26T20:43:44.310549Z"
    }
   },
   "cell_type": "code",
   "source": [
    "from pyspark.ml import Pipeline\n",
    "from pyspark.ml.feature import StringIndexer, OneHotEncoder, VectorAssembler\n",
    "from pyspark.ml.regression import GBTRegressor\n",
    "from pyspark.ml.tuning import CrossValidator, ParamGridBuilder\n",
    "from pyspark.ml.evaluation import RegressionEvaluator"
   ],
   "id": "39383647c815c6ea",
   "outputs": [],
   "execution_count": 17
  },
  {
   "metadata": {},
   "cell_type": "markdown",
   "source": "0. ios = iOS",
   "id": "eb57e9e9a5d8a803"
  },
  {
   "metadata": {
    "ExecuteTime": {
     "end_time": "2025-07-26T20:42:58.317911Z",
     "start_time": "2025-07-26T20:42:58.226555Z"
    }
   },
   "cell_type": "code",
   "source": [
    "df_ordered = df_ordered.withColumn(\n",
    "    \"operating_system\",\n",
    "    F.when(F.lower(F.col(\"operating_system\")) == \"ios\", F.lit(\"iOS\"))\n",
    "    .otherwise(F.col(\"operating_system\"))\n",
    ")"
   ],
   "id": "33942152be64f847",
   "outputs": [],
   "execution_count": 9
  },
  {
   "metadata": {},
   "cell_type": "markdown",
   "source": "1) Time‐aware train/test split (80/20 by cohort_index)",
   "id": "5f05eadb806251ec"
  },
  {
   "metadata": {
    "ExecuteTime": {
     "end_time": "2025-07-26T20:43:07.233440Z",
     "start_time": "2025-07-26T20:43:00.710082Z"
    }
   },
   "cell_type": "code",
   "source": [
    "# Find cutoff for 80/20 split\n",
    "total_count = df_ordered.count()\n",
    "split_row = int(total_count * 0.8)"
   ],
   "id": "f88cc0f7cd224e0a",
   "outputs": [
    {
     "name": "stderr",
     "output_type": "stream",
     "text": [
      "                                                                                \r"
     ]
    }
   ],
   "execution_count": 10
  },
  {
   "metadata": {
    "ExecuteTime": {
     "end_time": "2025-07-26T20:43:07.498558Z",
     "start_time": "2025-07-26T20:43:07.296362Z"
    }
   },
   "cell_type": "code",
   "source": [
    "train      = df_ordered.filter(F.col(\"user_index\") <= split_row).withColumn(\"rand\", F.rand(seed=12345)).orderBy(\"rand\")\n",
    "test       = df_ordered.filter(F.col(\"user_index\")  > split_row)"
   ],
   "id": "b782b3c65bf32cbc",
   "outputs": [],
   "execution_count": 11
  },
  {
   "metadata": {},
   "cell_type": "markdown",
   "source": " 2) Preprocessing pipeline (fit once)",
   "id": "9bd087c34e167239"
  },
  {
   "metadata": {
    "ExecuteTime": {
     "end_time": "2025-07-26T20:43:08.131333Z",
     "start_time": "2025-07-26T20:43:08.128582Z"
    }
   },
   "cell_type": "code",
   "source": "from pyspark import StorageLevel",
   "id": "3133da0990ac433c",
   "outputs": [],
   "execution_count": 12
  },
  {
   "metadata": {
    "ExecuteTime": {
     "end_time": "2025-07-26T20:43:10.166196Z",
     "start_time": "2025-07-26T20:43:10.161710Z"
    }
   },
   "cell_type": "code",
   "source": "df_ordered.printSchema()",
   "id": "c585786e77b65695",
   "outputs": [
    {
     "name": "stdout",
     "output_type": "stream",
     "text": [
      "root\n",
      " |-- auto_renew_off: long (nullable = true)\n",
      " |-- avg_event_hour: double (nullable = true)\n",
      " |-- country: string (nullable = true)\n",
      " |-- first_year_revenue: double (nullable = true)\n",
      " |-- free_trial: long (nullable = true)\n",
      " |-- operating_system: string (nullable = true)\n",
      " |-- paywall: long (nullable = true)\n",
      " |-- refund: long (nullable = true)\n",
      " |-- renewal: long (nullable = true)\n",
      " |-- season: string (nullable = true)\n",
      " |-- stickiness_ratio: double (nullable = true)\n",
      " |-- subscribe: long (nullable = true)\n",
      " |-- total_revenue: double (nullable = true)\n",
      " |-- user_id: string (nullable = true)\n",
      " |-- user_index: integer (nullable = false)\n",
      "\n"
     ]
    }
   ],
   "execution_count": 13
  },
  {
   "metadata": {
    "ExecuteTime": {
     "end_time": "2025-07-26T20:44:43.221230Z",
     "start_time": "2025-07-26T20:43:49.250906Z"
    }
   },
   "cell_type": "code",
   "source": [
    "# For \"operating_system\"\n",
    "si_os = StringIndexer(inputCol=\"operating_system\", outputCol=\"operating_system_idx\", handleInvalid=\"keep\")\n",
    "oh_os = OneHotEncoder(inputCols=[\"operating_system_idx\"], outputCols=[\"operating_system_vec\"])\n",
    "\n",
    "# For \"country\"\n",
    "si_country = StringIndexer(inputCol=\"country\", outputCol=\"country_idx\", handleInvalid=\"keep\")\n",
    "oh_country = OneHotEncoder(inputCols=[\"country_idx\"], outputCols=[\"country_vec\"])\n",
    "\n",
    "# For \"season\" (from your sample, adjusted for naming consistency)\n",
    "si_season = StringIndexer(inputCol=\"season\", outputCol=\"season_idx\", handleInvalid=\"keep\")\n",
    "oh_season = OneHotEncoder(inputCols=[\"season_idx\"], outputCols=[\"season_vec\"])\n",
    "\n",
    "feature_cols = [\n",
    "    \"auto_renew_off\",\n",
    "    \"free_trial\",\n",
    "    \"paywall\",\n",
    "    \"refund\",\n",
    "    \"renewal\",\n",
    "    \"subscribe\",\n",
    "    \"avg_event_hour\",\n",
    "    \"total_revenue\",\n",
    "    \"first_year_revenue\",\n",
    "    \"stickiness_ratio\",\n",
    "    \"season_vec\",\n",
    "    \"country_vec\",\n",
    "    \"operating_system_vec\"\n",
    "]\n",
    "assembler  = VectorAssembler(inputCols=feature_cols, outputCol=\"features\")\n",
    "\n",
    "preproc    = Pipeline(stages=[\n",
    "    si_os, oh_os,\n",
    "    si_country, oh_country,\n",
    "    si_season, oh_season\n",
    "    , assembler])\n",
    "train = train.drop(\"rand\")\n",
    "pp_model   = preproc.fit(train)\n",
    "\n",
    "train_pp   = pp_model.transform(train).persist(StorageLevel.MEMORY_AND_DISK)\n",
    "test_pp    = pp_model.transform(test).persist(StorageLevel.MEMORY_AND_DISK)"
   ],
   "id": "b6f828b01a5188b1",
   "outputs": [
    {
     "name": "stderr",
     "output_type": "stream",
     "text": [
      "25/07/26 23:43:49 WARN WindowExec: No Partition Defined for Window operation! Moving all data to a single partition, this can cause serious performance degradation.\n",
      "25/07/26 23:43:49 WARN WindowExec: No Partition Defined for Window operation! Moving all data to a single partition, this can cause serious performance degradation.\n",
      "25/07/26 23:44:02 WARN WindowExec: No Partition Defined for Window operation! Moving all data to a single partition, this can cause serious performance degradation.\n",
      "25/07/26 23:44:02 WARN WindowExec: No Partition Defined for Window operation! Moving all data to a single partition, this can cause serious performance degradation.\n",
      "25/07/26 23:44:05 WARN WindowExec: No Partition Defined for Window operation! Moving all data to a single partition, this can cause serious performance degradation.\n",
      "25/07/26 23:44:05 WARN WindowExec: No Partition Defined for Window operation! Moving all data to a single partition, this can cause serious performance degradation.\n",
      "25/07/26 23:44:12 WARN WindowExec: No Partition Defined for Window operation! Moving all data to a single partition, this can cause serious performance degradation.\n",
      "25/07/26 23:44:12 WARN WindowExec: No Partition Defined for Window operation! Moving all data to a single partition, this can cause serious performance degradation.\n",
      "25/07/26 23:44:20 WARN WindowExec: No Partition Defined for Window operation! Moving all data to a single partition, this can cause serious performance degradation.\n",
      "25/07/26 23:44:20 WARN WindowExec: No Partition Defined for Window operation! Moving all data to a single partition, this can cause serious performance degradation.\n",
      "25/07/26 23:44:21 WARN WindowExec: No Partition Defined for Window operation! Moving all data to a single partition, this can cause serious performance degradation.\n",
      "25/07/26 23:44:21 WARN WindowExec: No Partition Defined for Window operation! Moving all data to a single partition, this can cause serious performance degradation.\n",
      "25/07/26 23:44:24 WARN WindowExec: No Partition Defined for Window operation! Moving all data to a single partition, this can cause serious performance degradation.\n",
      "25/07/26 23:44:24 WARN WindowExec: No Partition Defined for Window operation! Moving all data to a single partition, this can cause serious performance degradation.\n",
      "25/07/26 23:44:35 WARN WindowExec: No Partition Defined for Window operation! Moving all data to a single partition, this can cause serious performance degradation.\n",
      "25/07/26 23:44:35 WARN WindowExec: No Partition Defined for Window operation! Moving all data to a single partition, this can cause serious performance degradation.\n",
      "25/07/26 23:44:37 WARN WindowExec: No Partition Defined for Window operation! Moving all data to a single partition, this can cause serious performance degradation.\n",
      "25/07/26 23:44:37 WARN WindowExec: No Partition Defined for Window operation! Moving all data to a single partition, this can cause serious performance degradation.\n",
      "25/07/26 23:44:42 WARN WindowExec: No Partition Defined for Window operation! Moving all data to a single partition, this can cause serious performance degradation.\n",
      "25/07/26 23:44:42 WARN WindowExec: No Partition Defined for Window operation! Moving all data to a single partition, this can cause serious performance degradation.\n",
      "25/07/26 23:44:42 WARN SparkStringUtils: Truncated the string representation of a plan since it was too large. This behavior can be adjusted by setting 'spark.sql.debug.maxToStringFields'.\n",
      "25/07/26 23:44:43 WARN WindowExec: No Partition Defined for Window operation! Moving all data to a single partition, this can cause serious performance degradation.\n",
      "25/07/26 23:44:43 WARN WindowExec: No Partition Defined for Window operation! Moving all data to a single partition, this can cause serious performance degradation.\n",
      "25/07/26 23:44:43 WARN WindowExec: No Partition Defined for Window operation! Moving all data to a single partition, this can cause serious performance degradation.\n"
     ]
    }
   ],
   "execution_count": 18
  },
  {
   "metadata": {},
   "cell_type": "markdown",
   "source": "3) Define GBT regressor with explicit prediction columns",
   "id": "5cd0159f284916d4"
  },
  {
   "metadata": {
    "ExecuteTime": {
     "end_time": "2025-07-26T20:44:43.702947Z",
     "start_time": "2025-07-26T20:44:43.653875Z"
    }
   },
   "cell_type": "code",
   "source": [
    "gbt = GBTRegressor(\n",
    "    featuresCol=\"features\",\n",
    "    labelCol=\"total_revenue\",\n",
    "    predictionCol=\"pred15\",\n",
    "    seed=12345\n",
    ")"
   ],
   "id": "54b79b98f1124f73",
   "outputs": [],
   "execution_count": 19
  },
  {
   "metadata": {},
   "cell_type": "markdown",
   "source": " 4) Evaluators",
   "id": "ee230bc231f46"
  },
  {
   "metadata": {
    "ExecuteTime": {
     "end_time": "2025-07-26T20:44:43.852980Z",
     "start_time": "2025-07-26T20:44:43.833876Z"
    }
   },
   "cell_type": "code",
   "source": [
    "evaluator = RegressionEvaluator(\n",
    "    labelCol=\"total_revenue\",\n",
    "    predictionCol=\"pred15\",\n",
    "    metricName=\"mae\"\n",
    ")"
   ],
   "id": "9ecd3edf21654dc8",
   "outputs": [],
   "execution_count": 20
  },
  {
   "metadata": {},
   "cell_type": "markdown",
   "source": "5) Hyperparameter grids",
   "id": "fe2fa03087d5c0a7"
  },
  {
   "metadata": {
    "ExecuteTime": {
     "end_time": "2025-07-26T20:44:43.963225Z",
     "start_time": "2025-07-26T20:44:43.959462Z"
    }
   },
   "cell_type": "code",
   "source": [
    "paramGrid = (ParamGridBuilder()\n",
    "    .addGrid(gbt.maxDepth, [3])      # only one depth\n",
    "    .addGrid(gbt.maxIter,  [10])     # lower number of boosting iterations\n",
    "    .addGrid(gbt.stepSize, [0.1])    # keep existing, or try a bigger value for even faster training\n",
    "    .build()\n",
    ")"
   ],
   "id": "ca3bfc7950196dae",
   "outputs": [],
   "execution_count": 21
  },
  {
   "metadata": {},
   "cell_type": "markdown",
   "source": "6) Cross-validators",
   "id": "dc7e6301cbdae835"
  },
  {
   "metadata": {
    "ExecuteTime": {
     "end_time": "2025-07-26T20:45:31.381270Z",
     "start_time": "2025-07-26T20:45:31.376345Z"
    }
   },
   "cell_type": "code",
   "source": [
    "cv = CrossValidator(\n",
    "    estimator=gbt,\n",
    "    estimatorParamMaps=paramGrid,\n",
    "    evaluator=evaluator,\n",
    "    numFolds=3\n",
    ")"
   ],
   "id": "b9d89aecfffbe390",
   "outputs": [],
   "execution_count": 22
  },
  {
   "metadata": {
    "ExecuteTime": {
     "end_time": "2025-07-26T20:45:32.974083Z",
     "start_time": "2025-07-26T20:45:32.964344Z"
    }
   },
   "cell_type": "code",
   "source": "cv.setParallelism(4)",
   "id": "ddfb72a0e2a9356f",
   "outputs": [
    {
     "data": {
      "text/plain": [
       "CrossValidator_24f4f6eea8b6"
      ]
     },
     "execution_count": 23,
     "metadata": {},
     "output_type": "execute_result"
    }
   ],
   "execution_count": 23
  },
  {
   "metadata": {},
   "cell_type": "markdown",
   "source": "7) Train the model on preprocessed training data",
   "id": "7d54583e1577afb1"
  },
  {
   "metadata": {
    "ExecuteTime": {
     "end_time": "2025-07-26T20:53:58.973237Z",
     "start_time": "2025-07-26T20:45:35.894086Z"
    }
   },
   "cell_type": "code",
   "source": "cv_model = cv.fit(train_pp)",
   "id": "95a0f5ced250de89",
   "outputs": [
    {
     "name": "stderr",
     "output_type": "stream",
     "text": [
      "25/07/26 23:45:57 WARN WindowExec: No Partition Defined for Window operation! Moving all data to a single partition, this can cause serious performance degradation.\n",
      "25/07/26 23:45:57 WARN WindowExec: No Partition Defined for Window operation! Moving all data to a single partition, this can cause serious performance degradation.\n",
      "25/07/26 23:45:59 WARN WindowExec: No Partition Defined for Window operation! Moving all data to a single partition, this can cause serious performance degradation.\n",
      "25/07/26 23:45:59 WARN WindowExec: No Partition Defined for Window operation! Moving all data to a single partition, this can cause serious performance degradation.\n",
      "25/07/26 23:48:08 WARN InstanceBuilder: Failed to load implementation from:dev.ludovic.netlib.blas.JNIBLAS\n",
      "                                                                                \r"
     ]
    }
   ],
   "execution_count": 24
  },
  {
   "metadata": {},
   "cell_type": "markdown",
   "source": "8) Generate predictions on preprocessed test data",
   "id": "373943f63bb16b4d"
  },
  {
   "metadata": {
    "ExecuteTime": {
     "end_time": "2025-07-26T20:55:19.027762Z",
     "start_time": "2025-07-26T20:55:18.578406Z"
    }
   },
   "cell_type": "code",
   "source": "preds = cv_model.transform(test_pp)",
   "id": "90636cda09ac10af",
   "outputs": [],
   "execution_count": 26
  },
  {
   "metadata": {},
   "cell_type": "markdown",
   "source": "9) Annualize the 15-day forecasts if desired",
   "id": "80606117ccb4ebfa"
  },
  {
   "metadata": {
    "ExecuteTime": {
     "end_time": "2025-07-26T20:55:21.727809Z",
     "start_time": "2025-07-26T20:55:21.686030Z"
    }
   },
   "cell_type": "code",
   "source": [
    "factor     = 365.0 / 15.0\n",
    "\n",
    "preds = preds.withColumn(\"forecast_1y\", F.col(\"pred15\") * factor)"
   ],
   "id": "43bf4282abdd22dd",
   "outputs": [],
   "execution_count": 27
  },
  {
   "metadata": {},
   "cell_type": "markdown",
   "source": [
    " preds now contains:\n",
    "   - pred15\n",
    "   - forecast_1y\n",
    "   - plus all original user features for analysis"
   ],
   "id": "76abaad5cf126761"
  },
  {
   "metadata": {},
   "cell_type": "markdown",
   "source": "10) Evaluate",
   "id": "4ae87628721238db"
  },
  {
   "metadata": {
    "ExecuteTime": {
     "end_time": "2025-07-26T20:56:16.193728Z",
     "start_time": "2025-07-26T20:55:24.669189Z"
    }
   },
   "cell_type": "code",
   "source": "mae = evaluator.evaluate(preds)",
   "id": "c121462bcab62cd8",
   "outputs": [
    {
     "name": "stderr",
     "output_type": "stream",
     "text": [
      "25/07/26 23:55:41 WARN WindowExec: No Partition Defined for Window operation! Moving all data to a single partition, this can cause serious performance degradation.\n",
      "25/07/26 23:55:41 WARN WindowExec: No Partition Defined for Window operation! Moving all data to a single partition, this can cause serious performance degradation.\n",
      "25/07/26 23:55:42 WARN WindowExec: No Partition Defined for Window operation! Moving all data to a single partition, this can cause serious performance degradation.\n",
      "25/07/26 23:55:42 WARN WindowExec: No Partition Defined for Window operation! Moving all data to a single partition, this can cause serious performance degradation.\n",
      "                                                                                \r"
     ]
    }
   ],
   "execution_count": 28
  },
  {
   "metadata": {
    "ExecuteTime": {
     "end_time": "2025-07-26T20:56:16.222141Z",
     "start_time": "2025-07-26T20:56:16.218494Z"
    }
   },
   "cell_type": "code",
   "source": "print(\"15-day MAE:\", mae)",
   "id": "7c3451055fad169e",
   "outputs": [
    {
     "name": "stdout",
     "output_type": "stream",
     "text": [
      "15-day MAE: 0.016813497452963934\n"
     ]
    }
   ],
   "execution_count": 29
  },
  {
   "metadata": {},
   "cell_type": "markdown",
   "source": "1) Compute both averages together",
   "id": "66b6665a3c6669e1"
  },
  {
   "metadata": {
    "ExecuteTime": {
     "end_time": "2025-07-26T20:56:24.914708Z",
     "start_time": "2025-07-26T20:56:23.746017Z"
    }
   },
   "cell_type": "code",
   "source": [
    "mean_vals = test_pp.agg(\n",
    "    F.avg(\"total_revenue\" ).alias(\"true_mean\"),\n",
    ").first()\n",
    "\n",
    "true_mean = mean_vals[\"true_mean\"]"
   ],
   "id": "98a56930e2a05cbc",
   "outputs": [],
   "execution_count": 30
  },
  {
   "metadata": {
    "ExecuteTime": {
     "end_time": "2025-07-26T20:56:27.937462Z",
     "start_time": "2025-07-26T20:56:27.934753Z"
    }
   },
   "cell_type": "code",
   "source": "relative_mae_mean = mae / true_mean",
   "id": "85682d78b331d28d",
   "outputs": [],
   "execution_count": 31
  },
  {
   "metadata": {},
   "cell_type": "markdown",
   "source": "3) Print as percentages",
   "id": "278d5c6a83f90683"
  },
  {
   "metadata": {
    "ExecuteTime": {
     "end_time": "2025-07-26T20:56:30.877695Z",
     "start_time": "2025-07-26T20:56:30.874379Z"
    }
   },
   "cell_type": "code",
   "source": "print(f\"Relative MAE (mean): {relative_mae_mean:.2%}\")",
   "id": "822193503731d281",
   "outputs": [
    {
     "name": "stdout",
     "output_type": "stream",
     "text": [
      "Relative MAE (mean): 3.36%\n"
     ]
    }
   ],
   "execution_count": 32
  },
  {
   "metadata": {},
   "cell_type": "markdown",
   "source": [
    "preds is the DataFrame obtained after scoring and annualizing:\n",
    "it contains all user features plus pred15 and forecast_1y."
   ],
   "id": "65f8d4f42383f384"
  },
  {
   "metadata": {},
   "cell_type": "markdown",
   "source": "Select exactly the columns wanted in the output",
   "id": "353733d674762db7"
  },
  {
   "metadata": {
    "ExecuteTime": {
     "end_time": "2025-07-26T20:56:34.005217Z",
     "start_time": "2025-07-26T20:56:34.000425Z"
    }
   },
   "cell_type": "code",
   "source": "preds.printSchema()",
   "id": "780dd504effd53e9",
   "outputs": [
    {
     "name": "stdout",
     "output_type": "stream",
     "text": [
      "root\n",
      " |-- auto_renew_off: long (nullable = true)\n",
      " |-- avg_event_hour: double (nullable = true)\n",
      " |-- country: string (nullable = true)\n",
      " |-- first_year_revenue: double (nullable = true)\n",
      " |-- free_trial: long (nullable = true)\n",
      " |-- operating_system: string (nullable = true)\n",
      " |-- paywall: long (nullable = true)\n",
      " |-- refund: long (nullable = true)\n",
      " |-- renewal: long (nullable = true)\n",
      " |-- season: string (nullable = true)\n",
      " |-- stickiness_ratio: double (nullable = true)\n",
      " |-- subscribe: long (nullable = true)\n",
      " |-- total_revenue: double (nullable = true)\n",
      " |-- user_id: string (nullable = true)\n",
      " |-- user_index: integer (nullable = false)\n",
      " |-- operating_system_idx: double (nullable = false)\n",
      " |-- operating_system_vec: vector (nullable = true)\n",
      " |-- country_idx: double (nullable = false)\n",
      " |-- country_vec: vector (nullable = true)\n",
      " |-- season_idx: double (nullable = false)\n",
      " |-- season_vec: vector (nullable = true)\n",
      " |-- features: vector (nullable = true)\n",
      " |-- pred15: double (nullable = false)\n",
      " |-- forecast_1y: double (nullable = false)\n",
      "\n"
     ]
    }
   ],
   "execution_count": 33
  },
  {
   "metadata": {
    "ExecuteTime": {
     "end_time": "2025-07-26T21:02:16.675872Z",
     "start_time": "2025-07-26T21:02:16.649023Z"
    }
   },
   "cell_type": "code",
   "source": [
    "output_df = preds.select(\n",
    "    \"user_id\",\n",
    "    \"operating_system_idx\",\n",
    "    \"country_idx\",\n",
    "    \"season_idx\",\n",
    "    \"stickiness_ratio\",\n",
    "    \"auto_renew_off\",\n",
    "    \"free_trial\",\n",
    "    \"paywall\",\n",
    "    \"refund\",\n",
    "    \"renewal\",\n",
    "    \"subscribe\",\n",
    "    \"avg_event_hour\",\n",
    "    \"total_revenue\",\n",
    "    \"first_year_revenue\",\n",
    "\n",
    "    # your 1-year forecasts\n",
    "    \"forecast_1y\"\n",
    ")"
   ],
   "id": "885cbd6a0a68c787",
   "outputs": [],
   "execution_count": 35
  },
  {
   "metadata": {
    "ExecuteTime": {
     "end_time": "2025-07-26T21:02:23.972957Z",
     "start_time": "2025-07-26T21:02:23.968311Z"
    }
   },
   "cell_type": "code",
   "source": "output_df.printSchema()",
   "id": "5711bb86e7cee6ef",
   "outputs": [
    {
     "name": "stdout",
     "output_type": "stream",
     "text": [
      "root\n",
      " |-- user_id: string (nullable = true)\n",
      " |-- operating_system_idx: double (nullable = false)\n",
      " |-- country_idx: double (nullable = false)\n",
      " |-- season_idx: double (nullable = false)\n",
      " |-- stickiness_ratio: double (nullable = true)\n",
      " |-- auto_renew_off: long (nullable = true)\n",
      " |-- free_trial: long (nullable = true)\n",
      " |-- paywall: long (nullable = true)\n",
      " |-- refund: long (nullable = true)\n",
      " |-- renewal: long (nullable = true)\n",
      " |-- subscribe: long (nullable = true)\n",
      " |-- avg_event_hour: double (nullable = true)\n",
      " |-- total_revenue: double (nullable = true)\n",
      " |-- first_year_revenue: double (nullable = true)\n",
      " |-- forecast_1y: double (nullable = false)\n",
      "\n"
     ]
    }
   ],
   "execution_count": 36
  },
  {
   "metadata": {
    "ExecuteTime": {
     "end_time": "2025-07-26T21:02:30.152646Z",
     "start_time": "2025-07-26T21:02:30.047689Z"
    }
   },
   "cell_type": "code",
   "source": [
    "null_counts = output_df.select([\n",
    "    F.sum(F.when(F.col(c).isNull(), 1).otherwise(0)).alias(c)\n",
    "    for c in output_df.columns\n",
    "])"
   ],
   "id": "d27533ebdfb0431e",
   "outputs": [],
   "execution_count": 37
  },
  {
   "metadata": {
    "ExecuteTime": {
     "end_time": "2025-07-26T21:02:33.735901Z",
     "start_time": "2025-07-26T21:02:32.779479Z"
    }
   },
   "cell_type": "code",
   "source": "null_counts.show()",
   "id": "fd7d6cdb243efa24",
   "outputs": [
    {
     "name": "stdout",
     "output_type": "stream",
     "text": [
      "+-------+--------------------+-----------+----------+----------------+--------------+----------+-------+------+-------+---------+--------------+-------------+------------------+-----------+\n",
      "|user_id|operating_system_idx|country_idx|season_idx|stickiness_ratio|auto_renew_off|free_trial|paywall|refund|renewal|subscribe|avg_event_hour|total_revenue|first_year_revenue|forecast_1y|\n",
      "+-------+--------------------+-----------+----------+----------------+--------------+----------+-------+------+-------+---------+--------------+-------------+------------------+-----------+\n",
      "|      0|                   0|          0|         0|               0|             0|         0|      0|     0|      0|        0|             0|            0|                 0|          0|\n",
      "+-------+--------------------+-----------+----------+----------------+--------------+----------+-------+------+-------+---------+--------------+-------------+------------------+-----------+\n",
      "\n"
     ]
    },
    {
     "name": "stderr",
     "output_type": "stream",
     "text": [
      "                                                                                \r"
     ]
    }
   ],
   "execution_count": 38
  },
  {
   "metadata": {
    "ExecuteTime": {
     "end_time": "2025-07-26T21:16:06.681965Z",
     "start_time": "2025-07-26T21:15:48.535494Z"
    }
   },
   "cell_type": "code",
   "source": [
    "# 1) repartition to use all cores\n",
    "num_parts = spark.sparkContext.defaultParallelism\n",
    "df_out = output_df.repartition(num_parts)\n",
    "print(\"After:\", df_out.rdd.getNumPartitions())"
   ],
   "id": "4a839985ef9d377",
   "outputs": [
    {
     "name": "stderr",
     "output_type": "stream",
     "text": [
      "[Stage 607:>                                                        (0 + 1) / 1]\r"
     ]
    },
    {
     "name": "stdout",
     "output_type": "stream",
     "text": [
      "After: 8\n"
     ]
    }
   ],
   "execution_count": 42
  },
  {
   "metadata": {
    "ExecuteTime": {
     "end_time": "2025-07-26T21:16:42.188413Z",
     "start_time": "2025-07-26T21:16:24.293926Z"
    }
   },
   "cell_type": "code",
   "source": [
    "# 2) write as compressed JSON\n",
    "df_out.write \\\n",
    "    .mode(\"overwrite\") \\\n",
    "    .option(\"compression\", \"gzip\") \\\n",
    "    .json(\"/Users/macbookpro/PyCharmMiscProject/output_user_json\")"
   ],
   "id": "f278f04c37d2ee49",
   "outputs": [
    {
     "name": "stderr",
     "output_type": "stream",
     "text": [
      "                                                                                \r"
     ]
    }
   ],
   "execution_count": 44
  }
 ],
 "metadata": {
  "kernelspec": {
   "display_name": "Python 3",
   "language": "python",
   "name": "python3"
  },
  "language_info": {
   "codemirror_mode": {
    "name": "ipython",
    "version": 2
   },
   "file_extension": ".py",
   "mimetype": "text/x-python",
   "name": "python",
   "nbconvert_exporter": "python",
   "pygments_lexer": "ipython2",
   "version": "2.7.6"
  }
 },
 "nbformat": 4,
 "nbformat_minor": 5
}
