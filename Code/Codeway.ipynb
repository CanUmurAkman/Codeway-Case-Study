{
 "cells": [
  {
   "metadata": {
    "ExecuteTime": {
     "end_time": "2025-07-25T10:14:50.187139Z",
     "start_time": "2025-07-25T10:14:50.011237Z"
    }
   },
   "cell_type": "code",
   "source": [
    "from pyspark.sql import SparkSession\n",
    "from pyspark.sql import functions as F"
   ],
   "id": "2fcea6fdc33664e1",
   "outputs": [],
   "execution_count": 1
  },
  {
   "metadata": {
    "ExecuteTime": {
     "end_time": "2025-07-25T10:15:01.583023Z",
     "start_time": "2025-07-25T10:14:50.327299Z"
    }
   },
   "cell_type": "code",
   "source": [
    "# Before doing any DataFrame ops:\n",
    "from pyspark.sql import SparkSession\n",
    "\n",
    "spark = (\n",
    "  SparkSession.builder\n",
    "    .appName(\"Codeway\")\n",
    "    .master(\"local[*]\")\n",
    "    .config(\"spark.driver.memory\", \"4g\")\n",
    "    .getOrCreate()\n",
    ")"
   ],
   "id": "963db1567b6d8977",
   "outputs": [
    {
     "name": "stderr",
     "output_type": "stream",
     "text": [
      "WARNING: Using incubator modules: jdk.incubator.vector\n",
      "Using Spark's default log4j profile: org/apache/spark/log4j2-defaults.properties\n",
      "Setting default log level to \"WARN\".\n",
      "To adjust logging level use sc.setLogLevel(newLevel). For SparkR, use setLogLevel(newLevel).\n",
      "25/07/25 13:14:55 WARN NativeCodeLoader: Unable to load native-hadoop library for your platform... using builtin-java classes where applicable\n",
      "25/07/25 13:14:57 WARN Utils: Service 'SparkUI' could not bind on port 4040. Attempting port 4041.\n"
     ]
    }
   ],
   "execution_count": 2
  },
  {
   "metadata": {
    "ExecuteTime": {
     "end_time": "2025-07-25T10:15:05.453466Z",
     "start_time": "2025-07-25T10:15:01.604427Z"
    }
   },
   "cell_type": "code",
   "source": [
    "# read the Parquet file\n",
    "df = spark.read.parquet('/Users/macbookpro/Desktop/Codeway Case Study/ltvprediction_case.parquet')"
   ],
   "id": "aa6de5986ab25163",
   "outputs": [
    {
     "name": "stderr",
     "output_type": "stream",
     "text": [
      "                                                                                \r"
     ]
    }
   ],
   "execution_count": 3
  },
  {
   "metadata": {},
   "cell_type": "markdown",
   "source": "# Pre-processing",
   "id": "24b72aec9bed7241"
  },
  {
   "metadata": {
    "ExecuteTime": {
     "end_time": "2025-07-25T10:15:05.680600Z",
     "start_time": "2025-07-25T10:15:05.496680Z"
    }
   },
   "cell_type": "code",
   "source": [
    "df =  df \\\n",
    "    .withColumn(\"first_event_date\", F.to_date(F.col(\"first_event_date\"), \"yyyy-MM-dd\")) \\\n",
    "    .withColumn(\"event_date\",       F.to_date(F.col(\"event_date\"),       \"yyyy-MM-dd\"))"
   ],
   "id": "11fd38781c1a31e5",
   "outputs": [],
   "execution_count": 4
  },
  {
   "metadata": {
    "ExecuteTime": {
     "end_time": "2025-07-25T10:15:13.563579Z",
     "start_time": "2025-07-25T10:15:07.222743Z"
    }
   },
   "cell_type": "code",
   "source": [
    "df.agg(\n",
    "    F.min(F.col(\"event_date\")).alias(\"earliest_event_date\")\n",
    ").show()"
   ],
   "id": "c36d2fbbd234ffb5",
   "outputs": [
    {
     "name": "stderr",
     "output_type": "stream",
     "text": [
      "[Stage 1:==============>                                            (2 + 6) / 8]\r"
     ]
    },
    {
     "name": "stdout",
     "output_type": "stream",
     "text": [
      "+-------------------+\n",
      "|earliest_event_date|\n",
      "+-------------------+\n",
      "|         2022-08-19|\n",
      "+-------------------+\n",
      "\n"
     ]
    },
    {
     "name": "stderr",
     "output_type": "stream",
     "text": [
      "                                                                                \r"
     ]
    }
   ],
   "execution_count": 5
  },
  {
   "metadata": {
    "ExecuteTime": {
     "end_time": "2025-07-25T10:15:29.543018Z",
     "start_time": "2025-07-25T10:15:26.410889Z"
    }
   },
   "cell_type": "code",
   "source": [
    "# Show the latest event_date in df\n",
    "df.agg(\n",
    "    F.max(F.col(\"event_date\")).alias(\"latest_event_date\")\n",
    ").show()"
   ],
   "id": "7fe361495a5044ad",
   "outputs": [
    {
     "name": "stderr",
     "output_type": "stream",
     "text": [
      "[Stage 4:===================================================>       (7 + 1) / 8]\r"
     ]
    },
    {
     "name": "stdout",
     "output_type": "stream",
     "text": [
      "+-----------------+\n",
      "|latest_event_date|\n",
      "+-----------------+\n",
      "|       2022-12-31|\n",
      "+-----------------+\n",
      "\n"
     ]
    },
    {
     "name": "stderr",
     "output_type": "stream",
     "text": [
      "                                                                                \r"
     ]
    }
   ],
   "execution_count": 6
  },
  {
   "metadata": {
    "ExecuteTime": {
     "end_time": "2025-07-25T10:34:26.579802Z",
     "start_time": "2025-07-25T10:34:14.105276Z"
    }
   },
   "cell_type": "code",
   "source": [
    "# Identify user_ids with more than one distinct first_year_revenue\n",
    "users_multi_fyr = (\n",
    "    df\n",
    "    .groupBy(\"user_id\")\n",
    "    .agg(F.countDistinct(\"first_year_revenue\").alias(\"fyr_count\"))\n",
    "    .filter(F.col(\"fyr_count\") > 1)\n",
    "    .select(\"user_id\")\n",
    ")\n",
    "\n",
    "# Show those user_ids\n",
    "users_multi_fyr.show(truncate=False)"
   ],
   "id": "2311c7566f411d72",
   "outputs": [
    {
     "name": "stderr",
     "output_type": "stream",
     "text": [
      "                                                                                \r"
     ]
    },
    {
     "name": "stdout",
     "output_type": "stream",
     "text": [
      "+--------------+\n",
      "|user_id       |\n",
      "+--------------+\n",
      "|66298D8D5959-7|\n",
      "|037B19192323-5|\n",
      "|113C1010A5A5-8|\n",
      "|3042EBEB6666-8|\n",
      "|CBFC2C2C4141-F|\n",
      "|E84DEAEAD9D9-3|\n",
      "+--------------+\n",
      "\n"
     ]
    }
   ],
   "execution_count": 9
  },
  {
   "metadata": {},
   "cell_type": "markdown",
   "source": "There are 6 users with multiple \"first_year_revenue\"",
   "id": "66b6cfe028f1f0b1"
  },
  {
   "metadata": {
    "ExecuteTime": {
     "end_time": "2025-07-25T10:34:58.883307Z",
     "start_time": "2025-07-25T10:34:58.850890Z"
    }
   },
   "cell_type": "code",
   "source": "df.printSchema()",
   "id": "a8e64d0afd4663d",
   "outputs": [
    {
     "name": "stdout",
     "output_type": "stream",
     "text": [
      "root\n",
      " |-- user_id: string (nullable = true)\n",
      " |-- first_event_date: date (nullable = true)\n",
      " |-- operating_system: string (nullable = true)\n",
      " |-- country: string (nullable = true)\n",
      " |-- event_name: string (nullable = true)\n",
      " |-- event_time: long (nullable = true)\n",
      " |-- event_date: date (nullable = true)\n",
      " |-- revenue: double (nullable = true)\n",
      " |-- first_year_revenue: double (nullable = true)\n",
      "\n"
     ]
    }
   ],
   "execution_count": 10
  },
  {
   "metadata": {},
   "cell_type": "markdown",
   "source": "For each user, return the row where \"event_date\" is the latest among all the events of the user",
   "id": "88645ec4cee8ffc1"
  },
  {
   "metadata": {
    "ExecuteTime": {
     "end_time": "2025-07-25T10:35:13.029267Z",
     "start_time": "2025-07-25T10:35:12.826532Z"
    }
   },
   "cell_type": "code",
   "source": [
    "from pyspark.sql.window import Window\n",
    "\n",
    "# 1. Window for latest event per user\n",
    "w = Window.partitionBy(\"user_id\").orderBy(F.col(\"event_date\").desc())\n",
    "\n",
    "# 2. Pick each user’s most recent event\n",
    "latest_event = (\n",
    "    df\n",
    "    .withColumn(\"rn\", F.row_number().over(w))\n",
    "    .filter(F.col(\"rn\") == 1)\n",
    "    .drop(\"rn\")\n",
    "    .withColumn(\"last_event_date\", F.col(\"event_date\"))\n",
    ")"
   ],
   "id": "e69be4b7a6b0d4d3",
   "outputs": [],
   "execution_count": 11
  },
  {
   "metadata": {
    "ExecuteTime": {
     "end_time": "2025-07-25T10:35:31.040745Z",
     "start_time": "2025-07-25T10:35:18.041172Z"
    }
   },
   "cell_type": "code",
   "source": [
    "# Count how many user_ids appear more than once\n",
    "duplicate_count = (\n",
    "    latest_event\n",
    "    .groupBy(\"user_id\")\n",
    "    .agg(F.count(\"*\").alias(\"cnt\"))\n",
    "    .filter(F.col(\"cnt\") > 1)\n",
    "    .count()\n",
    ")\n",
    "\n",
    "if duplicate_count == 0:\n",
    "    print(\"No duplicate user_id values in latest_event.\")\n",
    "else:\n",
    "    print(f\"Found {duplicate_count} user_id(s) with duplicates in latest_event.\")"
   ],
   "id": "a2dd832182a6e656",
   "outputs": [
    {
     "name": "stderr",
     "output_type": "stream",
     "text": [
      "[Stage 27:===================================================>      (8 + 1) / 9]\r"
     ]
    },
    {
     "name": "stdout",
     "output_type": "stream",
     "text": [
      "No duplicate user_id values in latest_event.\n"
     ]
    },
    {
     "name": "stderr",
     "output_type": "stream",
     "text": [
      "                                                                                \r"
     ]
    }
   ],
   "execution_count": 12
  },
  {
   "metadata": {},
   "cell_type": "markdown",
   "source": [
    "This part is redundant, but just to make sure I still wanted to check: \\\n",
    "Only keep the rows where: \\\n",
    "\"first_event_date\" + 15 days >= \"event_date\""
   ],
   "id": "bb251c25211583d1"
  },
  {
   "metadata": {
    "ExecuteTime": {
     "end_time": "2025-07-25T10:38:25.656276Z",
     "start_time": "2025-07-25T10:38:25.605175Z"
    }
   },
   "cell_type": "code",
   "source": [
    "df_15 = df.filter(\n",
    "    F.date_add(F.col(\"first_event_date\"), 15) >= F.col(\"event_date\")\n",
    ")"
   ],
   "id": "c2a990e3430fdadb",
   "outputs": [],
   "execution_count": 16
  },
  {
   "metadata": {
    "ExecuteTime": {
     "end_time": "2025-07-25T10:38:35.209119Z",
     "start_time": "2025-07-25T10:38:31.918491Z"
    }
   },
   "cell_type": "code",
   "source": [
    "# compute counts and their difference\n",
    "orig_count  = df.count()\n",
    "first_count = df_15.count()\n",
    "rows_eliminated = orig_count - first_count\n",
    "\n",
    "print(f\"Rows eliminated from df to df_15: {rows_eliminated}\")"
   ],
   "id": "5092187ae5644081",
   "outputs": [
    {
     "name": "stderr",
     "output_type": "stream",
     "text": [
      "[Stage 40:==============>                                           (2 + 6) / 8]\r"
     ]
    },
    {
     "name": "stdout",
     "output_type": "stream",
     "text": [
      "Rows eliminated from df to df_15: 0\n"
     ]
    },
    {
     "name": "stderr",
     "output_type": "stream",
     "text": [
      "                                                                                \r"
     ]
    }
   ],
   "execution_count": 17
  },
  {
   "metadata": {},
   "cell_type": "markdown",
   "source": "It turns out that the data INDEED does not include any records for any user after the first 15 days of their registration.",
   "id": "c438c9e4904a21b9"
  },
  {
   "metadata": {},
   "cell_type": "markdown",
   "source": [
    "Check: \\\n",
    "\"first_event_date\" <= \"event_date\" \\\n",
    "\"revenue\" >= 0"
   ],
   "id": "4b497f620369f935"
  },
  {
   "metadata": {
    "ExecuteTime": {
     "end_time": "2025-07-25T10:39:13.346909Z",
     "start_time": "2025-07-25T10:39:04.327179Z"
    }
   },
   "cell_type": "code",
   "source": [
    "invalid_counts = df_15.agg(\n",
    "    F.sum(F.when(F.col(\"first_event_date\") > F.col(\"event_date\"), 1).otherwise(0))\n",
    "     .alias(\"invalid_date_order\"),\n",
    "    F.sum(F.when(F.col(\"revenue\") < 0, 1).otherwise(0))\n",
    "     .alias(\"negative_revenue\")\n",
    ")\n",
    "\n",
    "invalid_counts.show()"
   ],
   "id": "1004cc67f44acf7b",
   "outputs": [
    {
     "name": "stderr",
     "output_type": "stream",
     "text": [
      "[Stage 43:==============>                                           (2 + 6) / 8]\r"
     ]
    },
    {
     "name": "stdout",
     "output_type": "stream",
     "text": [
      "+------------------+----------------+\n",
      "|invalid_date_order|negative_revenue|\n",
      "+------------------+----------------+\n",
      "|                 0|            2040|\n",
      "+------------------+----------------+\n",
      "\n"
     ]
    },
    {
     "name": "stderr",
     "output_type": "stream",
     "text": [
      "                                                                                \r"
     ]
    }
   ],
   "execution_count": 18
  },
  {
   "metadata": {},
   "cell_type": "markdown",
   "source": [
    "Check: \\\n",
    "\"revenue\" = Null \\\n",
    "\"revenue\" = 0"
   ],
   "id": "f547f66a879263c3"
  },
  {
   "metadata": {
    "ExecuteTime": {
     "end_time": "2025-07-25T10:39:22.448041Z",
     "start_time": "2025-07-25T10:39:19.226676Z"
    }
   },
   "cell_type": "code",
   "source": [
    "df_15.agg(\n",
    "    F.sum(F.when(F.col(\"revenue\").isNull(), 1).otherwise(0))\n",
    "     .alias(\"revenue_null_count\"),\n",
    "    F.sum(F.when(F.col(\"revenue\") == 0, 1).otherwise(0))\n",
    "     .alias(\"revenue_zero_count\")\n",
    ").show()"
   ],
   "id": "33a6060de295f505",
   "outputs": [
    {
     "name": "stderr",
     "output_type": "stream",
     "text": [
      "[Stage 46:==============>                                           (2 + 6) / 8]\r"
     ]
    },
    {
     "name": "stdout",
     "output_type": "stream",
     "text": [
      "+------------------+------------------+\n",
      "|revenue_null_count|revenue_zero_count|\n",
      "+------------------+------------------+\n",
      "|           6818187|                96|\n",
      "+------------------+------------------+\n",
      "\n"
     ]
    },
    {
     "name": "stderr",
     "output_type": "stream",
     "text": [
      "                                                                                \r"
     ]
    }
   ],
   "execution_count": 19
  },
  {
   "metadata": {},
   "cell_type": "markdown",
   "source": [
    "Replace \"revenue\" = null with 0 \\\n",
    "Remove \"revenue\" < 0 (Remove the negative revenues (by definition, revenue is not negative.)"
   ],
   "id": "339ae00bfe745f8e"
  },
  {
   "metadata": {
    "ExecuteTime": {
     "end_time": "2025-07-25T10:49:04.776973Z",
     "start_time": "2025-07-25T10:49:04.530242Z"
    }
   },
   "cell_type": "code",
   "source": [
    "df_15_clean = (\n",
    "    df_15\n",
    "      .withColumn(\"revenue\", F.coalesce(F.col(\"revenue\"), F.lit(0)))\n",
    "      .filter(F.col(\"revenue\") >= 0)\n",
    ")"
   ],
   "id": "d85bb13d984181da",
   "outputs": [],
   "execution_count": 20
  },
  {
   "metadata": {
    "ExecuteTime": {
     "end_time": "2025-07-25T10:49:17.728295Z",
     "start_time": "2025-07-25T10:49:09.708513Z"
    }
   },
   "cell_type": "code",
   "source": [
    "invalid_counts_1 = df_15_clean.agg(\n",
    "    F.sum(F.when(F.col(\"first_event_date\") > F.col(\"event_date\"), 1).otherwise(0))\n",
    "     .alias(\"invalid_date_order\"),\n",
    "    F.sum(F.when(F.col(\"revenue\") < 0, 1).otherwise(0))\n",
    "     .alias(\"negative_revenue\")\n",
    ")\n",
    "\n",
    "invalid_counts_1.show()"
   ],
   "id": "b3ee86b36c170494",
   "outputs": [
    {
     "name": "stderr",
     "output_type": "stream",
     "text": [
      "[Stage 49:====================================>                     (5 + 3) / 8]\r"
     ]
    },
    {
     "name": "stdout",
     "output_type": "stream",
     "text": [
      "+------------------+----------------+\n",
      "|invalid_date_order|negative_revenue|\n",
      "+------------------+----------------+\n",
      "|                 0|               0|\n",
      "+------------------+----------------+\n",
      "\n"
     ]
    },
    {
     "name": "stderr",
     "output_type": "stream",
     "text": [
      "                                                                                \r"
     ]
    }
   ],
   "execution_count": 21
  },
  {
   "metadata": {
    "ExecuteTime": {
     "end_time": "2025-07-25T10:50:00.542816Z",
     "start_time": "2025-07-25T10:50:00.537690Z"
    }
   },
   "cell_type": "code",
   "source": "df_15_clean.printSchema()",
   "id": "2dc9a09a9bac289a",
   "outputs": [
    {
     "name": "stdout",
     "output_type": "stream",
     "text": [
      "root\n",
      " |-- user_id: string (nullable = true)\n",
      " |-- first_event_date: date (nullable = true)\n",
      " |-- operating_system: string (nullable = true)\n",
      " |-- country: string (nullable = true)\n",
      " |-- event_name: string (nullable = true)\n",
      " |-- event_time: long (nullable = true)\n",
      " |-- event_date: date (nullable = true)\n",
      " |-- revenue: double (nullable = false)\n",
      " |-- first_year_revenue: double (nullable = true)\n",
      "\n"
     ]
    }
   ],
   "execution_count": 22
  },
  {
   "metadata": {},
   "cell_type": "markdown",
   "source": "# Additional Pre-processing before User-level Analysis",
   "id": "cb51425d4f4bfc25"
  },
  {
   "metadata": {
    "ExecuteTime": {
     "end_time": "2025-07-25T10:50:06.858869Z",
     "start_time": "2025-07-25T10:50:06.806464Z"
    }
   },
   "cell_type": "code",
   "source": [
    "user_first = (\n",
    "    df_15_clean\n",
    "    .groupBy(\"user_id\")\n",
    "    .agg(\n",
    "        F.countDistinct(\"first_event_date\").alias(\"first_count\"),\n",
    "    )\n",
    ")"
   ],
   "id": "8bf78acd82332336",
   "outputs": [],
   "execution_count": 23
  },
  {
   "metadata": {
    "ExecuteTime": {
     "end_time": "2025-07-25T10:50:24.543448Z",
     "start_time": "2025-07-25T10:50:17.382203Z"
    }
   },
   "cell_type": "code",
   "source": "user_first.filter(F.col(\"first_count\") > 1).count()",
   "id": "bdbb86a5b7ab906",
   "outputs": [
    {
     "name": "stderr",
     "output_type": "stream",
     "text": [
      "                                                                                \r"
     ]
    },
    {
     "data": {
      "text/plain": [
       "36"
      ]
     },
     "execution_count": 24,
     "metadata": {},
     "output_type": "execute_result"
    }
   ],
   "execution_count": 24
  },
  {
   "metadata": {
    "ExecuteTime": {
     "end_time": "2025-07-25T10:50:44.190574Z",
     "start_time": "2025-07-25T10:50:44.055391Z"
    }
   },
   "cell_type": "code",
   "source": [
    "# 1. Identify users with exactly one distinct first_event_date\n",
    "single_date_users = (\n",
    "    df_15_clean\n",
    "      .groupBy(\"user_id\")\n",
    "      .agg(F.countDistinct(\"first_event_date\").alias(\"date_cnt\"))\n",
    "      .filter(F.col(\"date_cnt\") == 1)\n",
    "      .select(\"user_id\")\n",
    ")\n",
    "\n",
    "# 2. Keep only those users in df_15_clean\n",
    "df_15_clean_1 = df_15_clean.join(single_date_users, on=\"user_id\", how=\"inner\")"
   ],
   "id": "1da543eb3b9a1ba4",
   "outputs": [],
   "execution_count": 25
  },
  {
   "metadata": {
    "ExecuteTime": {
     "end_time": "2025-07-25T10:53:47.540810Z",
     "start_time": "2025-07-25T10:53:47.512848Z"
    }
   },
   "cell_type": "code",
   "source": [
    "user_first_1 = (\n",
    "    df_15_clean_1\n",
    "    .groupBy(\"user_id\")\n",
    "    .agg(\n",
    "        F.countDistinct(\"first_event_date\").alias(\"first_count\"),\n",
    "    )\n",
    ")"
   ],
   "id": "7fb283583ab5fedd",
   "outputs": [],
   "execution_count": 26
  },
  {
   "metadata": {
    "ExecuteTime": {
     "end_time": "2025-07-25T10:54:04.801461Z",
     "start_time": "2025-07-25T10:53:49.745808Z"
    }
   },
   "cell_type": "code",
   "source": "user_first_1.filter(F.col(\"first_count\") > 1).count()",
   "id": "154c274e7a2ca214",
   "outputs": [
    {
     "name": "stderr",
     "output_type": "stream",
     "text": [
      "                                                                                \r"
     ]
    },
    {
     "data": {
      "text/plain": [
       "0"
      ]
     },
     "execution_count": 27,
     "metadata": {},
     "output_type": "execute_result"
    }
   ],
   "execution_count": 27
  },
  {
   "metadata": {
    "ExecuteTime": {
     "end_time": "2025-07-25T10:54:22.841125Z",
     "start_time": "2025-07-25T10:54:06.542528Z"
    }
   },
   "cell_type": "code",
   "source": [
    "# 1. Compute distinct‐counts per user\n",
    "user_counts = (\n",
    "    df_15_clean_1\n",
    "    .groupBy(\"user_id\")\n",
    "    .agg(\n",
    "        F.countDistinct(\"operating_system\").alias(\"os_count\"),\n",
    "        F.countDistinct(\"country\").alias(\"country_count\")\n",
    "    )\n",
    ")\n",
    "\n",
    "# 2. Aggregate to get the three metrics\n",
    "summary_counts = user_counts.agg(\n",
    "    F.sum(F.when(F.col(\"os_count\")  > 1, 1).otherwise(0)).alias(\"users_multi_os\"),\n",
    "    F.sum(F.when(F.col(\"country_count\") > 1, 1).otherwise(0)).alias(\"users_multi_country\"),\n",
    "    F.sum(\n",
    "        F.when(\n",
    "            (F.col(\"os_count\") > 1) & (F.col(\"country_count\") > 1),\n",
    "            1\n",
    "        ).otherwise(0)\n",
    "    ).alias(\"users_multi_os_and_country\")\n",
    ")\n",
    "\n",
    "summary_counts.show()"
   ],
   "id": "936c285037cbf1b5",
   "outputs": [
    {
     "name": "stderr",
     "output_type": "stream",
     "text": [
      "[Stage 93:===================================================>      (8 + 1) / 9]\r"
     ]
    },
    {
     "name": "stdout",
     "output_type": "stream",
     "text": [
      "+--------------+-------------------+--------------------------+\n",
      "|users_multi_os|users_multi_country|users_multi_os_and_country|\n",
      "+--------------+-------------------+--------------------------+\n",
      "|             0|                  0|                         0|\n",
      "+--------------+-------------------+--------------------------+\n",
      "\n"
     ]
    },
    {
     "name": "stderr",
     "output_type": "stream",
     "text": [
      "                                                                                \r"
     ]
    }
   ],
   "execution_count": 28
  },
  {
   "metadata": {},
   "cell_type": "markdown",
   "source": "There were 36 users with multi-country and/or multi-OS, which happened to be exactly the users with multiple \"first_event_date\". This implies that the application stores the \"first_event_date\" for each user per the \"operating_system\" they use (not per \"country\", though).",
   "id": "33da182b9d8bf2c2"
  },
  {
   "metadata": {},
   "cell_type": "markdown",
   "source": "Use seasons in the  algorithm:",
   "id": "f0a7b66b8c4b60d"
  },
  {
   "metadata": {
    "ExecuteTime": {
     "end_time": "2025-07-25T10:54:50.477251Z",
     "start_time": "2025-07-25T10:54:50.383018Z"
    }
   },
   "cell_type": "code",
   "source": [
    "# 1. Extract month\n",
    "df_season = df_15_clean_1.withColumn(\"month\", F.month(\"first_event_date\"))\n",
    "\n",
    "# 2. Map month → season\n",
    "df_season = df_season.withColumn(\n",
    "    \"season\",\n",
    "    F.when(F.col(\"month\").isin(12,  1,  2), \"winter\")\n",
    "     .when(F.col(\"month\").isin( 3,  4,  5), \"spring\")\n",
    "     .when(F.col(\"month\").isin( 6,  7,  8), \"summer\")\n",
    "     .otherwise(\"autumn\")\n",
    ").drop(\"month\")"
   ],
   "id": "d0dfabd9ad72b820",
   "outputs": [],
   "execution_count": 29
  },
  {
   "metadata": {
    "ExecuteTime": {
     "end_time": "2025-07-25T10:54:55.461125Z",
     "start_time": "2025-07-25T10:54:55.441276Z"
    }
   },
   "cell_type": "code",
   "source": "df_season = df_season.filter(F.col(\"country\").isNotNull())",
   "id": "a5bd188240fc0677",
   "outputs": [],
   "execution_count": 30
  },
  {
   "metadata": {
    "ExecuteTime": {
     "end_time": "2025-07-25T10:55:09.798601Z",
     "start_time": "2025-07-25T10:54:57.739723Z"
    }
   },
   "cell_type": "code",
   "source": [
    "null_counts = df_season.agg(\n",
    "    *[\n",
    "        F.sum(F.when(F.col(c).isNull(), 1).otherwise(0)).alias(c)\n",
    "        for c in df_season.columns\n",
    "    ]\n",
    ")\n",
    "\n",
    "null_counts.show()"
   ],
   "id": "c03901652c2e9f9a",
   "outputs": [
    {
     "name": "stderr",
     "output_type": "stream",
     "text": [
      "[Stage 108:==================================================>      (8 + 1) / 9]\r"
     ]
    },
    {
     "name": "stdout",
     "output_type": "stream",
     "text": [
      "+-------+----------------+----------------+-------+----------+----------+----------+-------+------------------+------+\n",
      "|user_id|first_event_date|operating_system|country|event_name|event_time|event_date|revenue|first_year_revenue|season|\n",
      "+-------+----------------+----------------+-------+----------+----------+----------+-------+------------------+------+\n",
      "|      0|               0|               0|      0|         0|         0|         0|      0|                 0|     0|\n",
      "+-------+----------------+----------------+-------+----------+----------+----------+-------+------------------+------+\n",
      "\n"
     ]
    },
    {
     "name": "stderr",
     "output_type": "stream",
     "text": [
      "                                                                                \r"
     ]
    }
   ],
   "execution_count": 31
  },
  {
   "metadata": {
    "ExecuteTime": {
     "end_time": "2025-07-25T10:55:57.714881Z",
     "start_time": "2025-07-25T10:55:45.405516Z"
    }
   },
   "cell_type": "code",
   "source": [
    "# Identify user_ids with more than one distinct first_year_revenue\n",
    "users_multi_fyr = (\n",
    "    df_season\n",
    "    .groupBy(\"user_id\")\n",
    "    .agg(F.countDistinct(\"first_year_revenue\").alias(\"fyr_count\"))\n",
    "    .filter(F.col(\"fyr_count\") > 1)\n",
    "    .select(\"user_id\")\n",
    ")\n",
    "\n",
    "# Show those user_ids\n",
    "users_multi_fyr.show(truncate=False)"
   ],
   "id": "97166f390d83d8ca",
   "outputs": [
    {
     "name": "stderr",
     "output_type": "stream",
     "text": [
      "[Stage 129:==============>                                          (1 + 3) / 4]\r"
     ]
    },
    {
     "name": "stdout",
     "output_type": "stream",
     "text": [
      "+-------+\n",
      "|user_id|\n",
      "+-------+\n",
      "+-------+\n",
      "\n"
     ]
    },
    {
     "name": "stderr",
     "output_type": "stream",
     "text": [
      "                                                                                \r"
     ]
    }
   ],
   "execution_count": 32
  },
  {
   "metadata": {},
   "cell_type": "markdown",
   "source": "No user has multiple \"first_year_revenue\" values.",
   "id": "c7545a418cb750a"
  },
  {
   "metadata": {
    "ExecuteTime": {
     "end_time": "2025-07-24T15:03:51.466443Z",
     "start_time": "2025-07-24T15:03:51.430809Z"
    }
   },
   "cell_type": "code",
   "source": "df_season.printSchema()",
   "id": "3ef8860e77457977",
   "outputs": [
    {
     "name": "stdout",
     "output_type": "stream",
     "text": [
      "root\n",
      " |-- user_id: string (nullable = true)\n",
      " |-- first_event_date: date (nullable = true)\n",
      " |-- operating_system: string (nullable = true)\n",
      " |-- country: string (nullable = true)\n",
      " |-- event_name: string (nullable = true)\n",
      " |-- event_time: long (nullable = true)\n",
      " |-- event_date: date (nullable = true)\n",
      " |-- revenue: double (nullable = false)\n",
      " |-- first_year_revenue: double (nullable = true)\n",
      " |-- season: string (nullable = false)\n",
      "\n"
     ]
    }
   ],
   "execution_count": 27
  },
  {
   "metadata": {},
   "cell_type": "markdown",
   "source": "# Getting ready for the  analysis",
   "id": "2587ec111976a2fc"
  },
  {
   "metadata": {},
   "cell_type": "markdown",
   "source": "Extract “hour of day” from event_time (assumes event_time is UNIX seconds)",
   "id": "77cf56af41a57b7d"
  },
  {
   "metadata": {
    "ExecuteTime": {
     "end_time": "2025-07-25T10:56:07.970294Z",
     "start_time": "2025-07-25T10:56:07.892062Z"
    }
   },
   "cell_type": "code",
   "source": [
    "df_events = df_season \\\n",
    "  .withColumn(\"event_ts\",   F.from_unixtime(F.col(\"event_time\"))) \\\n",
    "  .withColumn(\"event_hour\", F.hour(F.col(\"event_ts\")))"
   ],
   "id": "336371fcdf4190d5",
   "outputs": [],
   "execution_count": 33
  },
  {
   "metadata": {},
   "cell_type": "markdown",
   "source": "Compute per-user aggregates: total_revenue, avg_event_hour, stickiness_ratio",
   "id": "f4e1f416d1441a39"
  },
  {
   "metadata": {
    "ExecuteTime": {
     "end_time": "2025-07-25T10:58:57.379183Z",
     "start_time": "2025-07-25T10:58:57.245655Z"
    }
   },
   "cell_type": "code",
   "source": [
    "user_agg = (\n",
    "  df_events\n",
    "    .groupBy(\"user_id\")\n",
    "    .agg(\n",
    "      F.sum(\"revenue\").alias(\"total_revenue\"),\n",
    "      F.avg(\"event_hour\").alias(\"avg_event_hour\"),\n",
    "      (F.countDistinct(\"event_date\")/F.lit(15)).alias(\"stickiness_ratio\")\n",
    "    )\n",
    ")"
   ],
   "id": "234ec28e8eb5cb4c",
   "outputs": [],
   "execution_count": 34
  },
  {
   "metadata": {},
   "cell_type": "markdown",
   "source": "Pivot event_name into per-user event-count features",
   "id": "e38cb0e1cf595192"
  },
  {
   "metadata": {
    "ExecuteTime": {
     "end_time": "2025-07-25T10:59:11.378416Z",
     "start_time": "2025-07-25T10:59:00.736429Z"
    }
   },
   "cell_type": "code",
   "source": "df_events.select(\"event_name\").distinct().show()",
   "id": "2003c7be3a6b8519",
   "outputs": [
    {
     "name": "stderr",
     "output_type": "stream",
     "text": [
      "[Stage 137:==================================================>      (8 + 1) / 9]\r"
     ]
    },
    {
     "name": "stdout",
     "output_type": "stream",
     "text": [
      "+--------------+\n",
      "|    event_name|\n",
      "+--------------+\n",
      "|       paywall|\n",
      "|auto_renew_off|\n",
      "|    free_trial|\n",
      "|     subscribe|\n",
      "|        refund|\n",
      "|       renewal|\n",
      "+--------------+\n",
      "\n"
     ]
    },
    {
     "name": "stderr",
     "output_type": "stream",
     "text": [
      "                                                                                \r"
     ]
    }
   ],
   "execution_count": 35
  },
  {
   "metadata": {
    "ExecuteTime": {
     "end_time": "2025-07-25T10:59:25.369868Z",
     "start_time": "2025-07-25T10:59:15.146552Z"
    }
   },
   "cell_type": "code",
   "source": [
    "user_events = (\n",
    "  df_events\n",
    "    .groupBy(\"user_id\")\n",
    "    .pivot(\"event_name\")\n",
    "    .count()\n",
    "    .na.fill(0)    # fill zero for missing event types\n",
    ")"
   ],
   "id": "72be2e175249aa99",
   "outputs": [
    {
     "name": "stderr",
     "output_type": "stream",
     "text": [
      "                                                                                \r"
     ]
    }
   ],
   "execution_count": 36
  },
  {
   "metadata": {
    "ExecuteTime": {
     "end_time": "2025-07-25T10:59:38.254336Z",
     "start_time": "2025-07-25T10:59:28.215102Z"
    }
   },
   "cell_type": "code",
   "source": "user_events.show(10)",
   "id": "e07a739e573278ec",
   "outputs": [
    {
     "name": "stderr",
     "output_type": "stream",
     "text": [
      "[Stage 174:>                                                        (0 + 1) / 1]\r"
     ]
    },
    {
     "name": "stdout",
     "output_type": "stream",
     "text": [
      "+--------------+--------------+----------+-------+------+-------+---------+\n",
      "|       user_id|auto_renew_off|free_trial|paywall|refund|renewal|subscribe|\n",
      "+--------------+--------------+----------+-------+------+-------+---------+\n",
      "|00004B4BB8B8-1|             0|         0|      1|     0|      0|        0|\n",
      "|0000CFCF6B6B-E|             0|         1|      1|     0|      1|        1|\n",
      "|00013737EEEE-2|             0|         1|      1|     0|      1|        1|\n",
      "|0001BCBCDADA-0|             0|         0|      1|     0|      0|        0|\n",
      "|00023A3A5959-6|             1|         1|      1|     0|      0|        0|\n",
      "|00024D4DD7D7-6|             0|         0|      1|     0|      0|        0|\n",
      "|00029191ACAC-0|             0|         0|      1|     0|      0|        0|\n",
      "|000358581B1B-F|             0|         0|      2|     0|      0|        0|\n",
      "|0003AEAE3F3F-F|             0|         0|      6|     0|      0|        0|\n",
      "|0003CECE2424-B|             0|         0|      4|     0|      0|        0|\n",
      "+--------------+--------------+----------+-------+------+-------+---------+\n",
      "only showing top 10 rows\n"
     ]
    },
    {
     "name": "stderr",
     "output_type": "stream",
     "text": [
      "                                                                                \r"
     ]
    }
   ],
   "execution_count": 37
  },
  {
   "metadata": {},
   "cell_type": "markdown",
   "source": "Check if there any users who are active on more than one season (highly unlikely due to our 15-day data, but just to make sure)",
   "id": "1367c30d007d46b1"
  },
  {
   "metadata": {
    "ExecuteTime": {
     "end_time": "2025-07-25T10:59:46.963852Z",
     "start_time": "2025-07-25T10:59:46.828064Z"
    }
   },
   "cell_type": "code",
   "source": [
    "# 1. Identify users with more than one distinct season\n",
    "multi_season_users = (\n",
    "    df_season\n",
    "    .groupBy(\"user_id\")\n",
    "    .agg(F.countDistinct(\"season\").alias(\"season_count\"))\n",
    "    .filter(F.col(\"season_count\") > 1)\n",
    "    .select(\"user_id\")\n",
    ")\n",
    "\n",
    "# 2. Show all rows in df_season for those users\n",
    "df_season_multi = df_season.join(multi_season_users, on=\"user_id\", how=\"inner\")"
   ],
   "id": "71c14b63c20b0677",
   "outputs": [],
   "execution_count": 38
  },
  {
   "metadata": {
    "ExecuteTime": {
     "end_time": "2025-07-25T11:00:15.594705Z",
     "start_time": "2025-07-25T10:59:52.222409Z"
    }
   },
   "cell_type": "code",
   "source": "df_season_multi.show(20)",
   "id": "8fb06f15846dbaa2",
   "outputs": [
    {
     "name": "stderr",
     "output_type": "stream",
     "text": [
      "[Stage 194:==============>                                          (1 + 3) / 4]\r"
     ]
    },
    {
     "name": "stdout",
     "output_type": "stream",
     "text": [
      "+-------+----------------+----------------+-------+----------+----------+----------+-------+------------------+------+\n",
      "|user_id|first_event_date|operating_system|country|event_name|event_time|event_date|revenue|first_year_revenue|season|\n",
      "+-------+----------------+----------------+-------+----------+----------+----------+-------+------------------+------+\n",
      "+-------+----------------+----------------+-------+----------+----------+----------+-------+------------------+------+\n",
      "\n"
     ]
    },
    {
     "name": "stderr",
     "output_type": "stream",
     "text": [
      "                                                                                \r"
     ]
    }
   ],
   "execution_count": 39
  },
  {
   "metadata": {},
   "cell_type": "markdown",
   "source": "No user is active during more than one season.",
   "id": "452efbd6e9824a49"
  },
  {
   "metadata": {},
   "cell_type": "markdown",
   "source": "Bring in your static features (OS, country, season)",
   "id": "b616055117b3e70d"
  },
  {
   "metadata": {
    "ExecuteTime": {
     "end_time": "2025-07-25T11:00:27.046976Z",
     "start_time": "2025-07-25T11:00:15.666270Z"
    }
   },
   "cell_type": "code",
   "source": "df_season.select(\"season\").distinct().show(10)",
   "id": "208b1e8d2e0fa8",
   "outputs": [
    {
     "name": "stderr",
     "output_type": "stream",
     "text": [
      "[Stage 202:==================================================>      (8 + 1) / 9]\r"
     ]
    },
    {
     "name": "stdout",
     "output_type": "stream",
     "text": [
      "+------+\n",
      "|season|\n",
      "+------+\n",
      "|winter|\n",
      "|summer|\n",
      "|autumn|\n",
      "+------+\n",
      "\n"
     ]
    },
    {
     "name": "stderr",
     "output_type": "stream",
     "text": [
      "                                                                                \r"
     ]
    }
   ],
   "execution_count": 40
  },
  {
   "metadata": {
    "ExecuteTime": {
     "end_time": "2025-07-25T11:01:13.656678Z",
     "start_time": "2025-07-25T11:01:13.646188Z"
    }
   },
   "cell_type": "code",
   "source": "df_season = df_season.dropDuplicates()",
   "id": "9b2d566da5a66bc4",
   "outputs": [],
   "execution_count": 42
  },
  {
   "metadata": {
    "ExecuteTime": {
     "end_time": "2025-07-25T11:01:47.710320Z",
     "start_time": "2025-07-25T11:01:17.692710Z"
    }
   },
   "cell_type": "code",
   "source": [
    "# This uses all columns to define “distinctness”\n",
    "unique_rows = df_season.distinct().count()\n",
    "print(f\"Distinct rows: {unique_rows}\")\n",
    "print(f\"Total rows:    {df_season.count()}\")"
   ],
   "id": "4654dfa19723a65d",
   "outputs": [
    {
     "name": "stderr",
     "output_type": "stream",
     "text": [
      "                                                                                \r"
     ]
    },
    {
     "name": "stdout",
     "output_type": "stream",
     "text": [
      "Distinct rows: 6974445\n"
     ]
    },
    {
     "name": "stderr",
     "output_type": "stream",
     "text": [
      "[Stage 228:==================================================>      (8 + 1) / 9]\r"
     ]
    },
    {
     "name": "stdout",
     "output_type": "stream",
     "text": [
      "Total rows:    6974445\n"
     ]
    },
    {
     "name": "stderr",
     "output_type": "stream",
     "text": [
      "                                                                                \r"
     ]
    }
   ],
   "execution_count": 43
  },
  {
   "metadata": {
    "ExecuteTime": {
     "end_time": "2025-07-25T11:01:59.882175Z",
     "start_time": "2025-07-25T11:01:59.832640Z"
    }
   },
   "cell_type": "code",
   "source": [
    "user_static = df_season \\\n",
    "  .select(\"user_id\", \"operating_system\", \"country\", \"season\", \"first_event_date\", \"first_year_revenue\") \\\n",
    "  .distinct()"
   ],
   "id": "e641a87c4f10600",
   "outputs": [],
   "execution_count": 44
  },
  {
   "metadata": {},
   "cell_type": "markdown",
   "source": "Drop exact duplicates across all columns",
   "id": "599a5927c3676114"
  },
  {
   "metadata": {},
   "cell_type": "markdown",
   "source": "Join everything into one features DataFrame",
   "id": "ee8613b79180594a"
  },
  {
   "metadata": {
    "ExecuteTime": {
     "end_time": "2025-07-25T11:02:24.399542Z",
     "start_time": "2025-07-25T11:02:24.258946Z"
    }
   },
   "cell_type": "code",
   "source": [
    "df_features = (\n",
    "  user_static\n",
    "    .join(user_agg,    on=\"user_id\", how=\"inner\")\n",
    "    .join(user_events, on=\"user_id\", how=\"left\")\n",
    ")"
   ],
   "id": "91e1aa4680dd09b7",
   "outputs": [],
   "execution_count": 45
  },
  {
   "metadata": {
    "ExecuteTime": {
     "end_time": "2025-07-25T11:03:21.250575Z",
     "start_time": "2025-07-25T11:03:21.244390Z"
    }
   },
   "cell_type": "code",
   "source": "df_features.printSchema()",
   "id": "58e6422549e8f091",
   "outputs": [
    {
     "name": "stdout",
     "output_type": "stream",
     "text": [
      "root\n",
      " |-- user_id: string (nullable = true)\n",
      " |-- operating_system: string (nullable = true)\n",
      " |-- country: string (nullable = true)\n",
      " |-- season: string (nullable = false)\n",
      " |-- first_event_date: date (nullable = true)\n",
      " |-- first_year_revenue: double (nullable = true)\n",
      " |-- total_revenue: double (nullable = true)\n",
      " |-- avg_event_hour: double (nullable = true)\n",
      " |-- stickiness_ratio: double (nullable = true)\n",
      " |-- auto_renew_off: long (nullable = true)\n",
      " |-- free_trial: long (nullable = true)\n",
      " |-- paywall: long (nullable = true)\n",
      " |-- refund: long (nullable = true)\n",
      " |-- renewal: long (nullable = true)\n",
      " |-- subscribe: long (nullable = true)\n",
      "\n"
     ]
    }
   ],
   "execution_count": 46
  },
  {
   "metadata": {},
   "cell_type": "markdown",
   "source": "# Write the dataframe",
   "id": "a93afdadef06fbf5"
  },
  {
   "metadata": {
    "ExecuteTime": {
     "end_time": "2025-07-25T11:03:49.973671Z",
     "start_time": "2025-07-25T11:03:29.709184Z"
    }
   },
   "cell_type": "code",
   "source": "df_features.count()",
   "id": "ef7e31a9079095a7",
   "outputs": [
    {
     "name": "stderr",
     "output_type": "stream",
     "text": [
      "                                                                                \r"
     ]
    },
    {
     "data": {
      "text/plain": [
       "2198579"
      ]
     },
     "execution_count": 47,
     "metadata": {},
     "output_type": "execute_result"
    }
   ],
   "execution_count": 47
  },
  {
   "metadata": {
    "ExecuteTime": {
     "end_time": "2025-07-25T11:04:08.906277Z",
     "start_time": "2025-07-25T11:03:52.395616Z"
    }
   },
   "cell_type": "code",
   "source": "df_features.rdd.getNumPartitions()",
   "id": "47498da84ec8b75a",
   "outputs": [
    {
     "name": "stderr",
     "output_type": "stream",
     "text": [
      "[Stage 255:==================================================>      (8 + 1) / 9]\r"
     ]
    },
    {
     "data": {
      "text/plain": [
       "9"
      ]
     },
     "execution_count": 48,
     "metadata": {},
     "output_type": "execute_result"
    }
   ],
   "execution_count": 48
  },
  {
   "metadata": {
    "ExecuteTime": {
     "end_time": "2025-07-25T11:04:30.563094Z",
     "start_time": "2025-07-25T11:04:30.537420Z"
    }
   },
   "cell_type": "code",
   "source": [
    "# master & driver memory\n",
    "print(\"master =\", spark.sparkContext.master)\n",
    "print(\"driver.memory =\", spark.sparkContext.getConf().get(\"spark.driver.memory\"))"
   ],
   "id": "f10fc87fee8961f6",
   "outputs": [
    {
     "name": "stdout",
     "output_type": "stream",
     "text": [
      "master = local[*]\n",
      "driver.memory = 4g\n"
     ]
    }
   ],
   "execution_count": 49
  },
  {
   "metadata": {
    "ExecuteTime": {
     "end_time": "2025-07-25T11:05:43.891938Z",
     "start_time": "2025-07-25T11:05:03.839550Z"
    }
   },
   "cell_type": "code",
   "source": [
    "# Write\n",
    "df_features \\\n",
    "  .repartition(50) \\\n",
    "  .write \\\n",
    "  .mode(\"overwrite\") \\\n",
    "  .json(\"/Users/macbookpro/PyCharmMiscProject/df_features_json\")"
   ],
   "id": "6bc3ed988b14cc8b",
   "outputs": [
    {
     "name": "stderr",
     "output_type": "stream",
     "text": [
      "                                                                                \r"
     ]
    }
   ],
   "execution_count": 50
  }
 ],
 "metadata": {
  "kernelspec": {
   "display_name": "Python 3",
   "language": "python",
   "name": "python3"
  },
  "language_info": {
   "codemirror_mode": {
    "name": "ipython",
    "version": 2
   },
   "file_extension": ".py",
   "mimetype": "text/x-python",
   "name": "python",
   "nbconvert_exporter": "python",
   "pygments_lexer": "ipython2",
   "version": "2.7.6"
  }
 },
 "nbformat": 4,
 "nbformat_minor": 5
}
