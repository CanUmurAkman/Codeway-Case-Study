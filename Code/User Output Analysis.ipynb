{
 "cells": [
  {
   "metadata": {
    "ExecuteTime": {
     "end_time": "2025-07-27T13:50:15.356348Z",
     "start_time": "2025-07-27T13:50:15.206624Z"
    }
   },
   "cell_type": "code",
   "source": [
    "from pyspark.sql import SparkSession\n",
    "from pyspark.sql import functions as F"
   ],
   "id": "fed0c6ccae027b2c",
   "outputs": [],
   "execution_count": 1
  },
  {
   "metadata": {
    "ExecuteTime": {
     "end_time": "2025-07-27T13:50:27.790649Z",
     "start_time": "2025-07-27T13:50:16.047990Z"
    }
   },
   "cell_type": "code",
   "source": [
    "spark = (\n",
    "  SparkSession.builder\n",
    "    .appName(\"Codeway\")\n",
    "    .master(\"local[*]\")\n",
    "    .config(\"spark.driver.memory\", \"4g\")\n",
    "    .getOrCreate()\n",
    ")"
   ],
   "id": "cd5089f6344ab38f",
   "outputs": [
    {
     "name": "stderr",
     "output_type": "stream",
     "text": [
      "WARNING: Using incubator modules: jdk.incubator.vector\n",
      "Using Spark's default log4j profile: org/apache/spark/log4j2-defaults.properties\n",
      "Setting default log level to \"WARN\".\n",
      "To adjust logging level use sc.setLogLevel(newLevel). For SparkR, use setLogLevel(newLevel).\n",
      "25/07/27 16:50:20 WARN NativeCodeLoader: Unable to load native-hadoop library for your platform... using builtin-java classes where applicable\n",
      "25/07/27 16:50:21 WARN Utils: Service 'SparkUI' could not bind on port 4040. Attempting port 4041.\n",
      "25/07/27 16:50:21 WARN Utils: Service 'SparkUI' could not bind on port 4041. Attempting port 4042.\n",
      "25/07/27 16:50:21 WARN Utils: Service 'SparkUI' could not bind on port 4042. Attempting port 4043.\n"
     ]
    }
   ],
   "execution_count": 2
  },
  {
   "metadata": {},
   "cell_type": "markdown",
   "source": "# Load the Model",
   "id": "e6fbf72117796733"
  },
  {
   "metadata": {
    "collapsed": true,
    "ExecuteTime": {
     "end_time": "2025-07-27T13:50:46.940772Z",
     "start_time": "2025-07-27T13:50:27.814854Z"
    }
   },
   "cell_type": "code",
   "source": [
    "from pyspark.ml import PipelineModel\n",
    "\n",
    "bestUserModel = PipelineModel.load(\"/Users/macbookpro/PyCharmMiscProject/models/user_ltv_model\")"
   ],
   "id": "3bf7c7a0b3ce9759",
   "outputs": [
    {
     "name": "stderr",
     "output_type": "stream",
     "text": [
      "                                                                                \r"
     ]
    }
   ],
   "execution_count": 3
  },
  {
   "metadata": {},
   "cell_type": "markdown",
   "source": "# Read the Dataframe",
   "id": "5d2fb49cdbe933a2"
  },
  {
   "metadata": {
    "ExecuteTime": {
     "end_time": "2025-07-27T15:11:32.381154Z",
     "start_time": "2025-07-27T15:11:32.257679Z"
    }
   },
   "cell_type": "code",
   "source": [
    "# re-load the static preds and do analyses\n",
    "userPreds = spark.read.parquet(\"/Users/macbookpro/PyCharmMiscProject/Output_Dataframes/user_preds.parquet\")\n",
    "userPreds = userPreds.drop(\"season_vec\", \"country_vec\", \"operating_system_vec\")"
   ],
   "id": "4e1bb17600f26db9",
   "outputs": [],
   "execution_count": 15
  },
  {
   "metadata": {
    "ExecuteTime": {
     "end_time": "2025-07-27T15:11:33.659137Z",
     "start_time": "2025-07-27T15:11:33.652664Z"
    }
   },
   "cell_type": "code",
   "source": "userPreds.printSchema()",
   "id": "a81da34133e062f9",
   "outputs": [
    {
     "name": "stdout",
     "output_type": "stream",
     "text": [
      "root\n",
      " |-- auto_renew_off: long (nullable = true)\n",
      " |-- avg_event_hour: double (nullable = true)\n",
      " |-- country: string (nullable = true)\n",
      " |-- first_year_revenue: double (nullable = true)\n",
      " |-- free_trial: long (nullable = true)\n",
      " |-- operating_system: string (nullable = true)\n",
      " |-- paywall: long (nullable = true)\n",
      " |-- refund: long (nullable = true)\n",
      " |-- renewal: long (nullable = true)\n",
      " |-- season: string (nullable = true)\n",
      " |-- stickiness_ratio: double (nullable = true)\n",
      " |-- subscribe: long (nullable = true)\n",
      " |-- total_revenue: double (nullable = true)\n",
      " |-- user_id: string (nullable = true)\n",
      " |-- user_index: integer (nullable = true)\n",
      " |-- operating_system_idx: double (nullable = true)\n",
      " |-- country_idx: double (nullable = true)\n",
      " |-- season_idx: double (nullable = true)\n",
      " |-- features: vector (nullable = true)\n",
      " |-- pred15: double (nullable = true)\n",
      " |-- forecast_1y: double (nullable = true)\n",
      "\n"
     ]
    }
   ],
   "execution_count": 16
  },
  {
   "metadata": {
    "ExecuteTime": {
     "end_time": "2025-07-27T15:11:35.670082Z",
     "start_time": "2025-07-27T15:11:35.666445Z"
    }
   },
   "cell_type": "code",
   "source": [
    "from pyspark.ml import PipelineModel\n",
    "from pyspark.ml.feature import VectorAssembler\n",
    "from pyspark.ml.regression import GBTRegressionModel\n",
    "import pandas as pd\n",
    "import matplotlib.pyplot as plt"
   ],
   "id": "30f4703ecd42c62f",
   "outputs": [],
   "execution_count": 17
  },
  {
   "metadata": {
    "ExecuteTime": {
     "end_time": "2025-07-27T15:06:52.498327Z",
     "start_time": "2025-07-27T15:06:49.723872Z"
    }
   },
   "cell_type": "code",
   "source": "test = spark.read.json(\"/Users/macbookpro/PyCharmMiscProject/test_set/user_test_set\")",
   "id": "a193051ac65eb8d0",
   "outputs": [
    {
     "name": "stderr",
     "output_type": "stream",
     "text": [
      "                                                                                \r"
     ]
    }
   ],
   "execution_count": 9
  },
  {
   "metadata": {},
   "cell_type": "markdown",
   "source": "# User-level Feature Importance",
   "id": "55060a1ef6d4b662"
  },
  {
   "metadata": {
    "ExecuteTime": {
     "end_time": "2025-07-27T15:12:22.868851Z",
     "start_time": "2025-07-27T15:12:19.339480Z"
    }
   },
   "cell_type": "code",
   "source": [
    "# ——— Load saved pipelines ———\n",
    "bestModel = PipelineModel.load(\"/Users/macbookpro/PyCharmMiscProject/models/user_ltv_model\")"
   ],
   "id": "a92d473921306651",
   "outputs": [],
   "execution_count": 18
  },
  {
   "metadata": {
    "ExecuteTime": {
     "end_time": "2025-07-27T15:14:42.775955Z",
     "start_time": "2025-07-27T15:14:42.546757Z"
    }
   },
   "cell_type": "code",
   "source": "bestModel.transform(test.limit(1)).select(\"features\").printSchema()",
   "id": "9bec05251283b7a3",
   "outputs": [
    {
     "name": "stdout",
     "output_type": "stream",
     "text": [
      "root\n",
      " |-- features: vector (nullable = true)\n",
      "\n"
     ]
    }
   ],
   "execution_count": 22
  },
  {
   "metadata": {
    "ExecuteTime": {
     "end_time": "2025-07-27T15:12:23.365974Z",
     "start_time": "2025-07-27T15:12:22.885301Z"
    }
   },
   "cell_type": "code",
   "source": [
    "# pull out the GBT stage\n",
    "gbt = next(s for s in bestModel.stages\n",
    "                if isinstance(s, GBTRegressionModel))\n",
    "\n",
    "# actually simpler: use your test set\n",
    "feat_df = bestModel.transform(test.limit(1)).select(\"features\")\n",
    "\n",
    "# 4) read feature names from metadata\n",
    "meta = feat_df.schema[\"features\"].metadata\n",
    "attrs = meta[\"ml_attr\"][\"attrs\"]\n",
    "# flatten all attr groups (numeric, binary, etc.)\n",
    "feature_names = [item[\"name\"] for group in attrs.values() for item in group]\n",
    "\n",
    "# 5) get importances\n",
    "importances = gbt.featureImportances.toArray().tolist()\n",
    "\n",
    "assert len(feature_names) == len(importances), \"Lengths still mismatch!\""
   ],
   "id": "185b8561509d2c13",
   "outputs": [],
   "execution_count": 19
  },
  {
   "metadata": {
    "ExecuteTime": {
     "end_time": "2025-07-27T15:32:03.138402Z",
     "start_time": "2025-07-27T15:32:03.036471Z"
    }
   },
   "cell_type": "code",
   "source": [
    "# 1) Pair names & importances safely\n",
    "pairs = list(zip(feature_names, importances))\n",
    "\n",
    "# 2) Build the DataFrame\n",
    "df_fi = pd.DataFrame(pairs, columns=[\"feature\", \"importance\"])\n",
    "\n",
    "# 3) Filter out zeros and sort\n",
    "df_fi = (\n",
    "    df_fi[df_fi[\"importance\"] > 0]\n",
    "      .sort_values(\"importance\", ascending=False)\n",
    "      .reset_index(drop=True)\n",
    ")\n",
    "\n",
    "# 4) Extract for plotting\n",
    "feat = df_fi[\"feature\"].tolist()\n",
    "imp  = df_fi[\"importance\"].tolist()\n",
    "\n",
    "# 5) Compute figure height dynamically\n",
    "num_feats       = len(feat)\n",
    "height_per_feat = 0.3  # inch per feature, tweak as needed\n",
    "fig_height      = num_feats * height_per_feat\n",
    "\n",
    "# 6) Plot all features\n",
    "plt.figure(figsize=(10, fig_height))\n",
    "plt.barh(feat[::-1], imp[::-1])\n",
    "plt.title(\"User Model Feature Importances\")\n",
    "plt.xlabel(\"Relative Importance\")\n",
    "plt.tight_layout()\n",
    "plt.show()"
   ],
   "id": "93d166fdfd20a297",
   "outputs": [
    {
     "data": {
      "text/plain": [
       "<Figure size 1000x150 with 1 Axes>"
      ],
      "image/png": "[encoded data removed]"
     },
     "metadata": {},
     "output_type": "display_data"
    }
   ],
   "execution_count": 27
  },
  {
   "metadata": {},
   "cell_type": "markdown",
   "source": "Note that the Feature Importance is shown for the ones that are > 0",
   "id": "254173fe394d6950"
  },
  {
   "metadata": {},
   "cell_type": "markdown",
   "source": "# User-level Residuals & Deciles",
   "id": "c8f8dc1827574d28"
  },
  {
   "metadata": {
    "ExecuteTime": {
     "end_time": "2025-07-27T15:35:39.534470Z",
     "start_time": "2025-07-27T15:35:39.529779Z"
    }
   },
   "cell_type": "code",
   "source": [
    "from pyspark.sql.window import Window\n",
    "from pyspark.storagelevel import StorageLevel"
   ],
   "id": "f510cd3d84fce03b",
   "outputs": [],
   "execution_count": 28
  },
  {
   "metadata": {
    "ExecuteTime": {
     "end_time": "2025-07-27T15:35:41.596712Z",
     "start_time": "2025-07-27T15:35:40.676333Z"
    }
   },
   "cell_type": "code",
   "source": [
    "# 0) If you ever cached an old DF, unpersist it so Spark forgets those part-files\n",
    "try:\n",
    "    userPreds.unpersist()\n",
    "except NameError:\n",
    "    pass\n",
    "\n",
    "# 1) Re-load the cohortPreds DataFrame from disk (fresh, uncached)\n",
    "userPreds = spark.read.parquet(\n",
    "    \"/Users/macbookpro/PyCharmMiscProject/Output_Dataframes/user_preds.parquet\"\n",
    ")\n",
    "\n",
    "# 2) (Optionally) cache it again for speed\n",
    "userPreds = userPreds.persist(StorageLevel.MEMORY_AND_DISK)"
   ],
   "id": "6aae082cd2862f4f",
   "outputs": [],
   "execution_count": 29
  },
  {
   "metadata": {
    "ExecuteTime": {
     "end_time": "2025-07-27T15:40:01.444392Z",
     "start_time": "2025-07-27T15:39:59.763069Z"
    }
   },
   "cell_type": "code",
   "source": [
    "# 1) Compute residuals\n",
    "res = (userPreds\n",
    "       .withColumn(\"residual\", F.col(\"pred15\") - F.col(\"total_revenue\"))\n",
    "      )\n",
    "\n",
    "# 2) Summary statistics\n",
    "res.select(\n",
    "    F.avg(\"residual\").alias(\"mean_residual\"),\n",
    "    F.stddev(\"residual\").alias(\"std_residual\"),\n",
    "    F.expr(\"percentile_approx(residual, 0.5)\").alias(\"median_residual\"),\n",
    ").show(truncate=False)"
   ],
   "id": "21d8ab184080a7d3",
   "outputs": [
    {
     "name": "stderr",
     "output_type": "stream",
     "text": [
      "[Stage 134:=========================================================(4 + 0) / 4]\r"
     ]
    },
    {
     "name": "stdout",
     "output_type": "stream",
     "text": [
      "+----------------------+-------------------+----------------------+\n",
      "|mean_residual         |std_residual       |median_residual       |\n",
      "+----------------------+-------------------+----------------------+\n",
      "|-0.0013371618433253253|0.10902104386604804|-0.0029240117066518996|\n",
      "+----------------------+-------------------+----------------------+\n",
      "\n"
     ]
    },
    {
     "name": "stderr",
     "output_type": "stream",
     "text": [
      "                                                                                \r"
     ]
    }
   ],
   "execution_count": 32
  },
  {
   "metadata": {
    "ExecuteTime": {
     "end_time": "2025-07-27T15:40:06.599928Z",
     "start_time": "2025-07-27T15:40:04.093588Z"
    }
   },
   "cell_type": "code",
   "source": [
    "# 3) Histograms of residuals (via pandas)\n",
    "res_pd = res.select(\"residual\").toPandas()\n",
    "\n",
    "plt.figure(figsize=(6,4))\n",
    "plt.hist(res_pd.residual, bins=40)\n",
    "plt.title(\"Residuals Histogram — Revenue\")\n",
    "plt.xlabel(\"pred15 − total_revenue\")\n",
    "plt.ylabel(\"count\")\n",
    "plt.tight_layout()\n",
    "plt.show()"
   ],
   "id": "da8c36aac6b76e93",
   "outputs": [
    {
     "data": {
      "text/plain": [
       "<Figure size 600x400 with 1 Axes>"
      ],
      "image/png": "[encoded data removed]"
     },
     "metadata": {},
     "output_type": "display_data"
    }
   ],
   "execution_count": 33
  }
 ],
 "metadata": {
  "kernelspec": {
   "display_name": "Python 3",
   "language": "python",
   "name": "python3"
  },
  "language_info": {
   "codemirror_mode": {
    "name": "ipython",
    "version": 2
   },
   "file_extension": ".py",
   "mimetype": "text/x-python",
   "name": "python",
   "nbconvert_exporter": "python",
   "pygments_lexer": "ipython2",
   "version": "2.7.6"
  }
 },
 "nbformat": 4,
 "nbformat_minor": 5
}
