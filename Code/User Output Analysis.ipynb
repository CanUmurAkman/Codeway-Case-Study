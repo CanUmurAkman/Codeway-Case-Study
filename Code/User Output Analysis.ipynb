{
 "cells": [
  {
   "metadata": {
    "ExecuteTime": {
     "end_time": "2025-07-27T19:02:53.256012Z",
     "start_time": "2025-07-27T19:02:51.816249Z"
    }
   },
   "cell_type": "code",
   "source": [
    "from pyspark.sql import SparkSession\n",
    "from pyspark.sql import functions as F"
   ],
   "id": "fed0c6ccae027b2c",
   "outputs": [],
   "execution_count": 1
  },
  {
   "metadata": {
    "ExecuteTime": {
     "end_time": "2025-07-27T19:03:21.077545Z",
     "start_time": "2025-07-27T19:02:53.272350Z"
    }
   },
   "cell_type": "code",
   "source": [
    "spark = (\n",
    "  SparkSession.builder\n",
    "    .appName(\"Codeway\")\n",
    "    .master(\"local[*]\")\n",
    "    .config(\"spark.driver.memory\", \"4g\")\n",
    "    .getOrCreate()\n",
    ")"
   ],
   "id": "cd5089f6344ab38f",
   "outputs": [
    {
     "name": "stderr",
     "output_type": "stream",
     "text": [
      "WARNING: Using incubator modules: jdk.incubator.vector\n",
      "Using Spark's default log4j profile: org/apache/spark/log4j2-defaults.properties\n",
      "Setting default log level to \"WARN\".\n",
      "To adjust logging level use sc.setLogLevel(newLevel). For SparkR, use setLogLevel(newLevel).\n",
      "25/07/27 22:03:15 WARN NativeCodeLoader: Unable to load native-hadoop library for your platform... using builtin-java classes where applicable\n"
     ]
    }
   ],
   "execution_count": 2
  },
  {
   "metadata": {},
   "cell_type": "markdown",
   "source": "# Load the Model",
   "id": "e6fbf72117796733"
  },
  {
   "metadata": {
    "collapsed": true,
    "ExecuteTime": {
     "end_time": "2025-07-27T19:09:25.431233Z",
     "start_time": "2025-07-27T19:09:09.404613Z"
    }
   },
   "cell_type": "code",
   "source": [
    "from pyspark.ml import PipelineModel\n",
    "\n",
    "bestUserModel = PipelineModel.load(\"/Users/macbookpro/PyCharmMiscProject/models/user_ltv_model\")"
   ],
   "id": "3bf7c7a0b3ce9759",
   "outputs": [
    {
     "name": "stderr",
     "output_type": "stream",
     "text": [
      "                                                                                \r"
     ]
    }
   ],
   "execution_count": 3
  },
  {
   "metadata": {},
   "cell_type": "markdown",
   "source": "# Read the Dataframe",
   "id": "5d2fb49cdbe933a2"
  },
  {
   "metadata": {
    "ExecuteTime": {
     "end_time": "2025-07-27T19:09:25.758838Z",
     "start_time": "2025-07-27T19:09:25.441868Z"
    }
   },
   "cell_type": "code",
   "source": [
    "# re-load the static preds\n",
    "userPreds = spark.read.parquet(\"/Users/macbookpro/PyCharmMiscProject/Output_Dataframes/user_preds.parquet\")\n",
    "userPreds = userPreds.drop(\"season_vec\", \"country_vec\", \"operating_system_vec\")"
   ],
   "id": "4e1bb17600f26db9",
   "outputs": [],
   "execution_count": 4
  },
  {
   "metadata": {
    "ExecuteTime": {
     "end_time": "2025-07-27T15:11:33.659137Z",
     "start_time": "2025-07-27T15:11:33.652664Z"
    }
   },
   "cell_type": "code",
   "source": "userPreds.printSchema()",
   "id": "a81da34133e062f9",
   "outputs": [
    {
     "name": "stdout",
     "output_type": "stream",
     "text": [
      "root\n",
      " |-- auto_renew_off: long (nullable = true)\n",
      " |-- avg_event_hour: double (nullable = true)\n",
      " |-- country: string (nullable = true)\n",
      " |-- first_year_revenue: double (nullable = true)\n",
      " |-- free_trial: long (nullable = true)\n",
      " |-- operating_system: string (nullable = true)\n",
      " |-- paywall: long (nullable = true)\n",
      " |-- refund: long (nullable = true)\n",
      " |-- renewal: long (nullable = true)\n",
      " |-- season: string (nullable = true)\n",
      " |-- stickiness_ratio: double (nullable = true)\n",
      " |-- subscribe: long (nullable = true)\n",
      " |-- total_revenue: double (nullable = true)\n",
      " |-- user_id: string (nullable = true)\n",
      " |-- user_index: integer (nullable = true)\n",
      " |-- operating_system_idx: double (nullable = true)\n",
      " |-- country_idx: double (nullable = true)\n",
      " |-- season_idx: double (nullable = true)\n",
      " |-- features: vector (nullable = true)\n",
      " |-- pred15: double (nullable = true)\n",
      " |-- forecast_1y: double (nullable = true)\n",
      "\n"
     ]
    }
   ],
   "execution_count": 16
  },
  {
   "metadata": {
    "ExecuteTime": {
     "end_time": "2025-07-27T19:09:29.592784Z",
     "start_time": "2025-07-27T19:09:25.805714Z"
    }
   },
   "cell_type": "code",
   "source": [
    "from pyspark.ml import PipelineModel\n",
    "from pyspark.ml.feature import VectorAssembler\n",
    "from pyspark.ml.regression import GBTRegressionModel\n",
    "import pandas as pd\n",
    "import matplotlib.pyplot as plt"
   ],
   "id": "30f4703ecd42c62f",
   "outputs": [],
   "execution_count": 5
  },
  {
   "metadata": {
    "ExecuteTime": {
     "end_time": "2025-07-27T19:09:33.063640Z",
     "start_time": "2025-07-27T19:09:29.983944Z"
    }
   },
   "cell_type": "code",
   "source": "test = spark.read.json(\"/Users/macbookpro/PyCharmMiscProject/test_set/user_test_set\")",
   "id": "a193051ac65eb8d0",
   "outputs": [
    {
     "name": "stderr",
     "output_type": "stream",
     "text": [
      "                                                                                \r"
     ]
    }
   ],
   "execution_count": 6
  },
  {
   "metadata": {},
   "cell_type": "markdown",
   "source": "# User-level Feature Importance",
   "id": "55060a1ef6d4b662"
  },
  {
   "metadata": {
    "ExecuteTime": {
     "end_time": "2025-07-27T19:09:37.323254Z",
     "start_time": "2025-07-27T19:09:33.131719Z"
    }
   },
   "cell_type": "code",
   "source": [
    "# ——— Load saved pipelines ———\n",
    "bestModel = PipelineModel.load(\"/Users/macbookpro/PyCharmMiscProject/models/user_ltv_model\")"
   ],
   "id": "a92d473921306651",
   "outputs": [],
   "execution_count": 7
  },
  {
   "metadata": {
    "ExecuteTime": {
     "end_time": "2025-07-27T19:09:44.808588Z",
     "start_time": "2025-07-27T19:09:44.206377Z"
    }
   },
   "cell_type": "code",
   "source": "bestModel.transform(test.limit(1)).select(\"features\").printSchema()",
   "id": "9bec05251283b7a3",
   "outputs": [
    {
     "name": "stdout",
     "output_type": "stream",
     "text": [
      "root\n",
      " |-- features: vector (nullable = true)\n",
      "\n"
     ]
    }
   ],
   "execution_count": 8
  },
  {
   "metadata": {
    "ExecuteTime": {
     "end_time": "2025-07-27T19:09:46.749747Z",
     "start_time": "2025-07-27T19:09:46.327290Z"
    }
   },
   "cell_type": "code",
   "source": [
    "# pull out the GBT stage\n",
    "gbt = next(s for s in bestModel.stages\n",
    "                if isinstance(s, GBTRegressionModel))\n",
    "\n",
    "# Use the test set\n",
    "feat_df = bestModel.transform(test.limit(1)).select(\"features\")\n",
    "\n",
    "# Read feature names from metadata\n",
    "meta = feat_df.schema[\"features\"].metadata\n",
    "attrs = meta[\"ml_attr\"][\"attrs\"]\n",
    "# flatten all attr groups (numeric, binary, etc.)\n",
    "feature_names = [item[\"name\"] for group in attrs.values() for item in group]\n",
    "\n",
    "# Get importances\n",
    "importances = gbt.featureImportances.toArray().tolist()\n",
    "\n",
    "assert len(feature_names) == len(importances), \"Lengths still mismatch!\""
   ],
   "id": "185b8561509d2c13",
   "outputs": [],
   "execution_count": 9
  },
  {
   "metadata": {
    "ExecuteTime": {
     "end_time": "2025-07-27T19:09:49.497081Z",
     "start_time": "2025-07-27T19:09:48.870961Z"
    }
   },
   "cell_type": "code",
   "source": [
    "# 1) Pair names & importances safely\n",
    "pairs = list(zip(feature_names, importances))\n",
    "\n",
    "# 2) Build the DataFrame\n",
    "df_fi = pd.DataFrame(pairs, columns=[\"feature\", \"importance\"])\n",
    "\n",
    "# 3) Filter out zeros and sort\n",
    "df_fi = (\n",
    "    df_fi[df_fi[\"importance\"] > 0]\n",
    "      .sort_values(\"importance\", ascending=False)\n",
    "      .reset_index(drop=True)\n",
    ")\n",
    "\n",
    "# 4) Extract for plotting\n",
    "feat = df_fi[\"feature\"].tolist()\n",
    "imp  = df_fi[\"importance\"].tolist()\n",
    "\n",
    "# 5) Compute figure height dynamically\n",
    "num_feats       = len(feat)\n",
    "height_per_feat = 0.3  # inch per feature, tweak as needed\n",
    "fig_height      = num_feats * height_per_feat\n",
    "\n",
    "# 6) Plot all features\n",
    "plt.figure(figsize=(10, fig_height))\n",
    "plt.barh(feat[::-1], imp[::-1])\n",
    "plt.title(\"User Model Feature Importances\")\n",
    "plt.xlabel(\"Relative Importance\")\n",
    "plt.tight_layout()\n",
    "plt.show()"
   ],
   "id": "93d166fdfd20a297",
   "outputs": [
    {
     "data": {
      "text/plain": [
       "<Figure size 1000x150 with 1 Axes>"
      ],
      "image/png": "[encoded data removed]"
     },
     "metadata": {},
     "output_type": "display_data"
    }
   ],
   "execution_count": 10
  },
  {
   "metadata": {},
   "cell_type": "markdown",
   "source": "Note that the Feature Importance is shown for the ones that are > 0",
   "id": "254173fe394d6950"
  },
  {
   "metadata": {},
   "cell_type": "markdown",
   "source": "# User-level Residuals & Deciles",
   "id": "c8f8dc1827574d28"
  },
  {
   "metadata": {
    "ExecuteTime": {
     "end_time": "2025-07-27T19:11:42.934856Z",
     "start_time": "2025-07-27T19:11:42.931545Z"
    }
   },
   "cell_type": "code",
   "source": [
    "from pyspark.sql.window import Window\n",
    "from pyspark.storagelevel import StorageLevel"
   ],
   "id": "f510cd3d84fce03b",
   "outputs": [],
   "execution_count": 11
  },
  {
   "metadata": {
    "ExecuteTime": {
     "end_time": "2025-07-27T19:11:46.066334Z",
     "start_time": "2025-07-27T19:11:45.827805Z"
    }
   },
   "cell_type": "code",
   "source": [
    "# Unpersist cached old DF so Spark forgets those part-files\n",
    "try:\n",
    "    userPreds.unpersist()\n",
    "except NameError:\n",
    "    pass\n",
    "\n",
    "# Re-load the cohortPreds DataFrame from disk (fresh, uncached)\n",
    "userPreds = spark.read.parquet(\n",
    "    \"/Users/macbookpro/PyCharmMiscProject/Output_Dataframes/user_preds.parquet\"\n",
    ")\n",
    "\n",
    "# Cache it again for speed\n",
    "userPreds = userPreds.persist(StorageLevel.MEMORY_AND_DISK)"
   ],
   "id": "6aae082cd2862f4f",
   "outputs": [],
   "execution_count": 12
  },
  {
   "metadata": {
    "ExecuteTime": {
     "end_time": "2025-07-27T19:11:59.732225Z",
     "start_time": "2025-07-27T19:11:49.608211Z"
    }
   },
   "cell_type": "code",
   "source": [
    "# Compute residuals\n",
    "res = (userPreds\n",
    "       .withColumn(\"residual\", F.col(\"pred15\") - F.col(\"total_revenue\"))\n",
    "      )\n",
    "\n",
    "# Summary statistics\n",
    "res.select(\n",
    "    F.avg(\"residual\").alias(\"mean_residual\"),\n",
    "    F.stddev(\"residual\").alias(\"std_residual\"),\n",
    "    F.expr(\"percentile_approx(residual, 0.5)\").alias(\"median_residual\"),\n",
    ").show(truncate=False)"
   ],
   "id": "21d8ab184080a7d3",
   "outputs": [
    {
     "name": "stderr",
     "output_type": "stream",
     "text": [
      "[Stage 82:===========================================>              (3 + 1) / 4]\r"
     ]
    },
    {
     "name": "stdout",
     "output_type": "stream",
     "text": [
      "+----------------------+-------------------+----------------------+\n",
      "|mean_residual         |std_residual       |median_residual       |\n",
      "+----------------------+-------------------+----------------------+\n",
      "|-0.0013371618433253253|0.10902104386604804|-0.0029240117066518996|\n",
      "+----------------------+-------------------+----------------------+\n",
      "\n"
     ]
    },
    {
     "name": "stderr",
     "output_type": "stream",
     "text": [
      "                                                                                \r"
     ]
    }
   ],
   "execution_count": 13
  },
  {
   "metadata": {
    "ExecuteTime": {
     "end_time": "2025-07-27T19:12:09.301602Z",
     "start_time": "2025-07-27T19:12:06.573866Z"
    }
   },
   "cell_type": "code",
   "source": [
    "# Histograms of residuals (via pandas)\n",
    "res_pd = res.select(\"residual\").toPandas()\n",
    "\n",
    "plt.figure(figsize=(6,4))\n",
    "plt.hist(res_pd.residual, bins=40)\n",
    "plt.title(\"Residuals Histogram — Revenue\")\n",
    "plt.xlabel(\"pred15 − total_revenue\")\n",
    "plt.ylabel(\"count\")\n",
    "plt.tight_layout()\n",
    "plt.show()"
   ],
   "id": "da8c36aac6b76e93",
   "outputs": [
    {
     "data": {
      "text/plain": [
       "<Figure size 600x400 with 1 Axes>"
      ],
      "image/png": "[encoded data removed]"
     },
     "metadata": {},
     "output_type": "display_data"
    }
   ],
   "execution_count": 14
  }
 ],
 "metadata": {
  "kernelspec": {
   "display_name": "Python 3",
   "language": "python",
   "name": "python3"
  },
  "language_info": {
   "codemirror_mode": {
    "name": "ipython",
    "version": 2
   },
   "file_extension": ".py",
   "mimetype": "text/x-python",
   "name": "python",
   "nbconvert_exporter": "python",
   "pygments_lexer": "ipython2",
   "version": "2.7.6"
  }
 },
 "nbformat": 4,
 "nbformat_minor": 5
}
