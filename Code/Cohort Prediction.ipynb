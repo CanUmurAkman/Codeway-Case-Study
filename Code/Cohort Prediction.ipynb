{
 "cells": [
  {
   "metadata": {
    "ExecuteTime": {
     "end_time": "2025-07-27T12:33:18.766207Z",
     "start_time": "2025-07-27T12:33:18.580041Z"
    }
   },
   "cell_type": "code",
   "source": [
    "from pyspark.sql import SparkSession\n",
    "from pyspark.sql import functions as F"
   ],
   "id": "7e820c461a197f03",
   "outputs": [],
   "execution_count": 1
  },
  {
   "metadata": {
    "ExecuteTime": {
     "end_time": "2025-07-27T12:33:38.841053Z",
     "start_time": "2025-07-27T12:33:32.564573Z"
    }
   },
   "cell_type": "code",
   "source": [
    "spark = (\n",
    "  SparkSession.builder\n",
    "    .appName(\"Codeway\")\n",
    "    .master(\"local[*]\")\n",
    "    .config(\"spark.driver.memory\", \"4g\")\n",
    "    .getOrCreate()\n",
    ")"
   ],
   "id": "6b9eebdbd3e25011",
   "outputs": [
    {
     "name": "stderr",
     "output_type": "stream",
     "text": [
      "Exception ignored in PyObject_HasAttr(); consider using PyObject_HasAttrWithError(), PyObject_GetOptionalAttr() or PyObject_GetAttr():\n",
      "Traceback (most recent call last):\n",
      "  File \"<frozen importlib._bootstrap>\", line 488, in _call_with_frames_removed\n",
      "AttributeError: partially initialized module 'pandas' from '/Users/macbookpro/PyCharmMiscProject/.venv/lib/python3.13/site-packages/pandas/__init__.py' has no attribute '_pandas_parser_CAPI' (most likely due to a circular import)\n",
      "25/07/27 15:33:32 WARN NativeCodeLoader: Unable to load native-hadoop library for your platform... using builtin-java classes where applicable\n",
      "25/07/27 15:33:34 WARN Utils: Service 'SparkUI' could not bind on port 4040. Attempting port 4041.\n"
     ]
    }
   ],
   "execution_count": 5
  },
  {
   "metadata": {
    "ExecuteTime": {
     "end_time": "2025-07-27T12:33:45.551390Z",
     "start_time": "2025-07-27T12:33:38.861338Z"
    }
   },
   "cell_type": "code",
   "source": "df_with_cohort = spark.read.json(\"/Users/macbookpro/PyCharmMiscProject/df_with_cohort_json\")",
   "id": "9df10686af744dc5",
   "outputs": [
    {
     "name": "stderr",
     "output_type": "stream",
     "text": [
      "                                                                                \r"
     ]
    }
   ],
   "execution_count": 6
  },
  {
   "metadata": {
    "ExecuteTime": {
     "end_time": "2025-07-27T12:33:45.691525Z",
     "start_time": "2025-07-27T12:33:45.619186Z"
    }
   },
   "cell_type": "code",
   "source": [
    "from pyspark.ml import Pipeline\n",
    "from pyspark.ml.feature import StringIndexer, OneHotEncoder, VectorAssembler\n",
    "from pyspark.ml.regression import GBTRegressor\n",
    "from pyspark.ml.tuning import CrossValidator, ParamGridBuilder\n",
    "from pyspark.ml.evaluation import RegressionEvaluator"
   ],
   "id": "4f97e953e59c6378",
   "outputs": [],
   "execution_count": 7
  },
  {
   "metadata": {},
   "cell_type": "markdown",
   "source": "1) Time‐aware train/test split (80/20 by cohort_index)",
   "id": "56537256ff6fd4b2"
  },
  {
   "metadata": {
    "ExecuteTime": {
     "end_time": "2025-07-27T12:33:53.762129Z",
     "start_time": "2025-07-27T12:33:51.158155Z"
    }
   },
   "cell_type": "code",
   "source": [
    "max_idx    = df_with_cohort.agg(F.max(\"cohort_index\")).first()[0]\n",
    "split_idx  = int(max_idx * 0.8)\n",
    "train      = df_with_cohort.filter(F.col(\"cohort_index\") <= split_idx).withColumn(\"rand\", F.rand(seed=12345)).orderBy(\"rand\")\n",
    "test       = df_with_cohort.filter(F.col(\"cohort_index\")  > split_idx)"
   ],
   "id": "5d2bacb87998282d",
   "outputs": [
    {
     "name": "stderr",
     "output_type": "stream",
     "text": [
      "                                                                                \r"
     ]
    }
   ],
   "execution_count": 8
  },
  {
   "metadata": {
    "ExecuteTime": {
     "end_time": "2025-07-27T14:17:23.175542Z",
     "start_time": "2025-07-27T14:17:21.528697Z"
    }
   },
   "cell_type": "code",
   "source": [
    "test.write \\\n",
    "    .mode(\"overwrite\") \\\n",
    "    .option(\"compression\", \"gzip\") \\\n",
    "    .json(\"/Users/macbookpro/PyCharmMiscProject/test_set/cohort_test_set\")"
   ],
   "id": "a8ca83c1e37d5598",
   "outputs": [],
   "execution_count": 82
  },
  {
   "metadata": {},
   "cell_type": "markdown",
   "source": " 2) Preprocessing pipeline (fit once)",
   "id": "9a1659f4639f759e"
  },
  {
   "metadata": {
    "ExecuteTime": {
     "end_time": "2025-07-27T12:33:56.097685Z",
     "start_time": "2025-07-27T12:33:56.094966Z"
    }
   },
   "cell_type": "code",
   "source": "from pyspark import StorageLevel",
   "id": "28b87804fca9a477",
   "outputs": [],
   "execution_count": 9
  },
  {
   "metadata": {
    "ExecuteTime": {
     "end_time": "2025-07-27T12:34:06.615222Z",
     "start_time": "2025-07-27T12:34:00.295358Z"
    }
   },
   "cell_type": "code",
   "source": [
    "si_season  = StringIndexer(inputCol=\"cohort_season\", outputCol=\"season_idx\", handleInvalid=\"keep\")\n",
    "oh_season  = OneHotEncoder(inputCols=[\"season_idx\"], outputCols=[\"season_vec\"])\n",
    "feature_cols = [\n",
    "    \"cohort_size\",\n",
    "    \"iOS\", \"iPadOS\",\n",
    "    \"avg_auto_renew_off\",\"std_auto_renew_off\",\n",
    "    \"avg_free_trial\",\"std_free_trial\",\n",
    "    \"avg_paywall\",\"std_paywall\",\n",
    "    \"avg_refund\",\"std_refund\",\n",
    "    \"avg_renewal\",\"std_renewal\",\n",
    "    \"avg_subscribe\",\"std_subscribe\",\n",
    "    \"mean_event_hour\",\"std_event_hour\",\n",
    "    \"mean_revenue_1y\",\"std_revenue_1y\",\n",
    "    \"season_vec\"\n",
    "]\n",
    "assembler  = VectorAssembler(inputCols=feature_cols, outputCol=\"features\")\n",
    "\n",
    "preproc    = Pipeline(stages=[si_season, oh_season, assembler])\n",
    "train = train.drop(\"rand\")\n",
    "pp_model   = preproc.fit(train)\n",
    "\n",
    "train_pp   = pp_model.transform(train).persist(StorageLevel.MEMORY_AND_DISK)\n",
    "test_pp    = pp_model.transform(test).persist(StorageLevel.MEMORY_AND_DISK)"
   ],
   "id": "d3e2cc61eb2b3f55",
   "outputs": [
    {
     "name": "stderr",
     "output_type": "stream",
     "text": [
      "25/07/27 15:34:06 WARN SparkStringUtils: Truncated the string representation of a plan since it was too large. This behavior can be adjusted by setting 'spark.sql.debug.maxToStringFields'.\n"
     ]
    }
   ],
   "execution_count": 10
  },
  {
   "metadata": {},
   "cell_type": "markdown",
   "source": "3) Define two GBT regressors with explicit prediction columns",
   "id": "a9878345b622a51e"
  },
  {
   "metadata": {
    "ExecuteTime": {
     "end_time": "2025-07-27T12:34:06.676968Z",
     "start_time": "2025-07-27T12:34:06.650707Z"
    }
   },
   "cell_type": "code",
   "source": [
    "gbt_mean = GBTRegressor(\n",
    "    featuresCol=\"features\",\n",
    "    labelCol=\"mean_revenue_15d\",\n",
    "    predictionCol=\"pred15_mean\",\n",
    "    seed=12345\n",
    ")\n",
    "gbt_std  = GBTRegressor(\n",
    "    featuresCol=\"features\",\n",
    "    labelCol=\"std_revenue_15d\",\n",
    "    predictionCol=\"pred15_std\",\n",
    "    seed=12345\n",
    ")"
   ],
   "id": "7b5a631f1c590606",
   "outputs": [],
   "execution_count": 11
  },
  {
   "metadata": {},
   "cell_type": "markdown",
   "source": " 4) Evaluators",
   "id": "ba44f6cc932c34a1"
  },
  {
   "metadata": {
    "ExecuteTime": {
     "end_time": "2025-07-27T12:34:06.756353Z",
     "start_time": "2025-07-27T12:34:06.743868Z"
    }
   },
   "cell_type": "code",
   "source": [
    "evaluator_mean = RegressionEvaluator(\n",
    "    labelCol=\"mean_revenue_15d\",\n",
    "    predictionCol=\"pred15_mean\",\n",
    "    metricName=\"mae\"\n",
    ")\n",
    "evaluator_std  = RegressionEvaluator(\n",
    "    labelCol=\"std_revenue_15d\",\n",
    "    predictionCol=\"pred15_std\",\n",
    "    metricName=\"mae\"\n",
    ")"
   ],
   "id": "d1f58c571d241532",
   "outputs": [],
   "execution_count": 12
  },
  {
   "metadata": {},
   "cell_type": "markdown",
   "source": "5) Hyperparameter grids",
   "id": "b8f6462e6904fc3"
  },
  {
   "metadata": {
    "ExecuteTime": {
     "end_time": "2025-07-27T12:34:09.353209Z",
     "start_time": "2025-07-27T12:34:09.347526Z"
    }
   },
   "cell_type": "code",
   "source": [
    "paramGrid_mean = (ParamGridBuilder()\n",
    "    .addGrid(gbt_mean.maxDepth, [3, 5])    # try shallow vs. a bit deeper\n",
    "    .addGrid(gbt_mean.maxIter,  [20])      # just one low-cost value\n",
    "    .addGrid(gbt_mean.stepSize, [0.1])\n",
    "    .build()\n",
    ")\n",
    "\n",
    "paramGrid_std  = (ParamGridBuilder()\n",
    "    .addGrid(gbt_std.maxDepth, [3, 5])\n",
    "    .addGrid(gbt_std.maxIter,  [20])\n",
    "    .addGrid(gbt_std.stepSize, [0.1])\n",
    "    .build()\n",
    ")"
   ],
   "id": "5589adc1fe7de327",
   "outputs": [],
   "execution_count": 13
  },
  {
   "metadata": {},
   "cell_type": "markdown",
   "source": "Define Pipeline for importing the model to other notebooks",
   "id": "5b44c23a85e0a301"
  },
  {
   "metadata": {
    "ExecuteTime": {
     "end_time": "2025-07-27T13:14:35.900857Z",
     "start_time": "2025-07-27T13:14:35.897250Z"
    }
   },
   "cell_type": "code",
   "source": [
    "from pyspark.ml import Pipeline\n",
    "\n",
    "# build a full pipeline that applies pp_model then the GBT\n",
    "pipeline_mean = Pipeline(stages=[pp_model, gbt_mean])\n",
    "pipeline_std  = Pipeline(stages=[pp_model, gbt_std])"
   ],
   "id": "4dd8c58d2c8cae87",
   "outputs": [],
   "execution_count": 26
  },
  {
   "metadata": {},
   "cell_type": "markdown",
   "source": "6) Cross-validators",
   "id": "28bec6a012aeac91"
  },
  {
   "metadata": {
    "ExecuteTime": {
     "end_time": "2025-07-27T13:14:43.868049Z",
     "start_time": "2025-07-27T13:14:43.863749Z"
    }
   },
   "cell_type": "code",
   "source": [
    "cv_mean = CrossValidator(\n",
    "    estimator=pipeline_mean,\n",
    "    estimatorParamMaps=paramGrid_mean,\n",
    "    evaluator=evaluator_mean,\n",
    "    numFolds=3\n",
    ")\n",
    "\n",
    "cv_std = CrossValidator(\n",
    "    estimator=pipeline_std,\n",
    "    estimatorParamMaps=paramGrid_std,\n",
    "    evaluator=evaluator_std,\n",
    "    numFolds=3\n",
    ")"
   ],
   "id": "4a23c8723d7b382d",
   "outputs": [],
   "execution_count": 27
  },
  {
   "metadata": {
    "ExecuteTime": {
     "end_time": "2025-07-27T13:14:46.715672Z",
     "start_time": "2025-07-27T13:14:46.709757Z"
    }
   },
   "cell_type": "code",
   "source": [
    "cv_mean.setParallelism(4)\n",
    "cv_std.setParallelism(4)"
   ],
   "id": "948f8d17f96440c",
   "outputs": [
    {
     "data": {
      "text/plain": [
       "CrossValidator_2f5b94b6d636"
      ]
     },
     "execution_count": 28,
     "metadata": {},
     "output_type": "execute_result"
    }
   ],
   "execution_count": 28
  },
  {
   "metadata": {},
   "cell_type": "markdown",
   "source": "7) Train both models on preprocessed training data & Save the 2 Models to Disk",
   "id": "aafadf95d5d27bc7"
  },
  {
   "metadata": {
    "ExecuteTime": {
     "end_time": "2025-07-27T13:51:23.704135Z",
     "start_time": "2025-07-27T13:49:44.261485Z"
    }
   },
   "cell_type": "code",
   "source": [
    "cv_model_mean = cv_mean.fit(train)\n",
    "bestModelMean = cv_model_mean.bestModel    # the PipelineModel tuned for the mean label\n",
    "bestModelMean.write().overwrite().save(\"/Users/macbookpro/PyCharmMiscProject/models/cohort_mean_model\")"
   ],
   "id": "4914401915c8ba6b",
   "outputs": [
    {
     "name": "stderr",
     "output_type": "stream",
     "text": [
      "                                                                                \r"
     ]
    }
   ],
   "execution_count": 62
  },
  {
   "metadata": {
    "ExecuteTime": {
     "end_time": "2025-07-27T13:53:09.847258Z",
     "start_time": "2025-07-27T13:51:33.808192Z"
    }
   },
   "cell_type": "code",
   "source": [
    "cv_model_std  = cv_std.fit(train)\n",
    "bestModelStd  = cv_model_std.bestModel # the PipelineModel tuned for the std label\n",
    "bestModelStd.write().overwrite().save(\"/Users/macbookpro/PyCharmMiscProject/models/cohort_std_model\")"
   ],
   "id": "8213bed42f5c81b7",
   "outputs": [],
   "execution_count": 63
  },
  {
   "metadata": {},
   "cell_type": "markdown",
   "source": "8) Generate predictions on preprocessed test data",
   "id": "2388db603e23bad4"
  },
  {
   "metadata": {
    "ExecuteTime": {
     "end_time": "2025-07-27T13:53:34.144862Z",
     "start_time": "2025-07-27T13:53:34.029340Z"
    }
   },
   "cell_type": "code",
   "source": "preds = cv_model_mean.transform(test)",
   "id": "2982d49b32bcf0f5",
   "outputs": [],
   "execution_count": 64
  },
  {
   "metadata": {
    "ExecuteTime": {
     "end_time": "2025-07-27T13:53:36.119802Z",
     "start_time": "2025-07-27T13:53:36.060976Z"
    }
   },
   "cell_type": "code",
   "source": [
    "preds = preds.drop(\"season_idx\", \"season_vec\", \"country_vec\", \"features\")\n",
    "preds = cv_model_std.transform(preds)"
   ],
   "id": "824ed191f3d09762",
   "outputs": [],
   "execution_count": 65
  },
  {
   "metadata": {},
   "cell_type": "markdown",
   "source": "9) Annualize the 15-day forecasts if desired",
   "id": "b089b22fd9728b02"
  },
  {
   "metadata": {
    "ExecuteTime": {
     "end_time": "2025-07-27T13:53:37.639797Z",
     "start_time": "2025-07-27T13:53:37.616850Z"
    }
   },
   "cell_type": "code",
   "source": [
    "factor     = 365.0 / 15.0\n",
    "std_factor = (365.0 / 15.0) ** 0.5\n",
    "\n",
    "preds = preds.withColumn(\"forecast_mean_1y\", F.col(\"pred15_mean\") * factor) \\\n",
    "             .withColumn(\"forecast_std_1y\",  F.col(\"pred15_std\")  * std_factor)"
   ],
   "id": "ede02e63aabb1cf2",
   "outputs": [],
   "execution_count": 66
  },
  {
   "metadata": {
    "ExecuteTime": {
     "end_time": "2025-07-27T13:53:40.205402Z",
     "start_time": "2025-07-27T13:53:39.182854Z"
    }
   },
   "cell_type": "code",
   "source": [
    "# write \"preds\" out once—and forget Spark ML for downstream analysis\n",
    "preds.write.mode(\"overwrite\").parquet(\"/Users/macbookpro/PyCharmMiscProject/Output_Dataframes/cohort_preds.parquet\")"
   ],
   "id": "fa3066c0e8e45c48",
   "outputs": [
    {
     "name": "stderr",
     "output_type": "stream",
     "text": [
      "                                                                                \r"
     ]
    }
   ],
   "execution_count": 67
  },
  {
   "metadata": {},
   "cell_type": "markdown",
   "source": [
    " preds now contains:\n",
    "   - pred15_mean, pred15_std\n",
    "   - forecast_mean_1y, forecast_std_1y\n",
    "   - plus all original cohort features for analysis"
   ],
   "id": "1ced426e6fbece65"
  },
  {
   "metadata": {},
   "cell_type": "markdown",
   "source": "# Evaluate",
   "id": "c2173446483e4550"
  },
  {
   "metadata": {
    "ExecuteTime": {
     "end_time": "2025-07-27T13:53:42.144719Z",
     "start_time": "2025-07-27T13:53:41.868054Z"
    }
   },
   "cell_type": "code",
   "source": [
    "mae_mean = evaluator_mean.evaluate(preds)\n",
    "mae_std = evaluator_std.evaluate(preds)"
   ],
   "id": "1416b3731b79846f",
   "outputs": [],
   "execution_count": 68
  },
  {
   "metadata": {
    "ExecuteTime": {
     "end_time": "2025-07-27T13:53:43.550444Z",
     "start_time": "2025-07-27T13:53:43.546288Z"
    }
   },
   "cell_type": "code",
   "source": [
    "print(\"15-day MAE (mean):\", mae_mean)\n",
    "print(\"15-day MAE (std) :\", mae_std)"
   ],
   "id": "9642af39d7e3c350",
   "outputs": [
    {
     "name": "stdout",
     "output_type": "stream",
     "text": [
      "15-day MAE (mean): 0.020836992115998255\n",
      "15-day MAE (std) : 0.09661682129958578\n"
     ]
    }
   ],
   "execution_count": 69
  },
  {
   "metadata": {},
   "cell_type": "markdown",
   "source": "1) Compute both averages together",
   "id": "f5cc203e61bfe1fa"
  },
  {
   "metadata": {
    "ExecuteTime": {
     "end_time": "2025-07-27T13:53:48.421778Z",
     "start_time": "2025-07-27T13:53:48.057141Z"
    }
   },
   "cell_type": "code",
   "source": [
    "mean_vals = test_pp.agg(\n",
    "    F.avg(\"mean_revenue_15d\" ).alias(\"mean_true_mean\"),\n",
    "    F.avg(\"std_revenue_15d\"  ).alias(\"mean_true_std\")\n",
    ").first()\n",
    "\n",
    "mean_true_mean = mean_vals[\"mean_true_mean\"]\n",
    "mean_true_std  = mean_vals[\"mean_true_std\"]"
   ],
   "id": "95b4cf74492200a1",
   "outputs": [],
   "execution_count": 70
  },
  {
   "metadata": {
    "ExecuteTime": {
     "end_time": "2025-07-27T13:53:49.948372Z",
     "start_time": "2025-07-27T13:53:49.945229Z"
    }
   },
   "cell_type": "code",
   "source": [
    "relative_mae_mean = mae_mean / mean_true_mean\n",
    "relative_mae_std  = mae_std  / mean_true_std"
   ],
   "id": "e927df740d72b3ac",
   "outputs": [],
   "execution_count": 71
  },
  {
   "metadata": {},
   "cell_type": "markdown",
   "source": "2) Print as percentages",
   "id": "7079df139113ef20"
  },
  {
   "metadata": {
    "ExecuteTime": {
     "end_time": "2025-07-27T13:53:52.144777Z",
     "start_time": "2025-07-27T13:53:52.140592Z"
    }
   },
   "cell_type": "code",
   "source": [
    "print(f\"Relative MAE (mean): {relative_mae_mean:.2%}\")\n",
    "print(f\"Relative MAE (std) : {relative_mae_std:.2%}\")"
   ],
   "id": "b777daf284594086",
   "outputs": [
    {
     "name": "stdout",
     "output_type": "stream",
     "text": [
      "Relative MAE (mean): 4.12%\n",
      "Relative MAE (std) : 3.41%\n"
     ]
    }
   ],
   "execution_count": 72
  },
  {
   "metadata": {},
   "cell_type": "markdown",
   "source": "# Write the Output",
   "id": "753c91d6bc40dde7"
  },
  {
   "metadata": {},
   "cell_type": "markdown",
   "source": [
    "preds is the DataFrame obtained after scoring and annualizing:\n",
    "it contains all cohort features plus forecast_mean_1y & forecast_std_1y."
   ],
   "id": "1ea3b75e6f98c48"
  },
  {
   "metadata": {},
   "cell_type": "markdown",
   "source": "Select exactly the columns wanted in the output",
   "id": "c05823bf6bc12e06"
  },
  {
   "metadata": {
    "ExecuteTime": {
     "end_time": "2025-07-27T13:53:54.599444Z",
     "start_time": "2025-07-27T13:53:54.495477Z"
    }
   },
   "cell_type": "code",
   "source": [
    "output_df = preds.select(\n",
    "    \"cohort_index\",\n",
    "    \"first_event_date\",\n",
    "    \"cohort_season\",\n",
    "    \"cohort_size\",\n",
    "\n",
    "    # original cohort features\n",
    "    \"iOS\", \"iPadOS\", \"avg_stickiness_ratio\",\n",
    "    \"avg_auto_renew_off\", \"std_auto_renew_off\",\n",
    "    \"avg_free_trial\",      \"std_free_trial\",\n",
    "    \"avg_paywall\",         \"std_paywall\",\n",
    "    \"avg_refund\",          \"std_refund\",\n",
    "    \"avg_renewal\",         \"std_renewal\",\n",
    "    \"avg_subscribe\",       \"std_subscribe\",\n",
    "    \"mean_event_hour\",     \"std_event_hour\",\n",
    "    \"mean_revenue_1y\",     \"std_revenue_1y\",\n",
    "\n",
    "    # 1-year forecasts\n",
    "    \"forecast_mean_1y\",\n",
    "    \"forecast_std_1y\"\n",
    ")"
   ],
   "id": "26770d6c0b0c015b",
   "outputs": [],
   "execution_count": 73
  },
  {
   "metadata": {
    "ExecuteTime": {
     "end_time": "2025-07-27T13:54:02.024564Z",
     "start_time": "2025-07-27T13:54:01.406935Z"
    }
   },
   "cell_type": "code",
   "source": [
    "# list all columns except the three we skip\n",
    "skip = {\"cohort_index\", \"first_event_date\", \"cohort_season\"}\n",
    "cols = [c for c in output_df.columns if c not in skip]\n",
    "\n",
    "# build one aggregation per column: count where value < 0\n",
    "agg_exprs = [\n",
    "    F.sum(F.when(F.col(c) < 0, 1).otherwise(0)).alias(c)\n",
    "    for c in cols\n",
    "]\n",
    "\n",
    "# run and display\n",
    "neg_counts_df = output_df.agg(*agg_exprs)\n",
    "neg_counts_df.show(truncate=False)"
   ],
   "id": "7dcb0e11825387ef",
   "outputs": [
    {
     "name": "stdout",
     "output_type": "stream",
     "text": [
      "+-----------+---+------+--------------------+------------------+------------------+--------------+--------------+-----------+-----------+----------+----------+-----------+-----------+-------------+-------------+---------------+--------------+---------------+--------------+----------------+---------------+\n",
      "|cohort_size|iOS|iPadOS|avg_stickiness_ratio|avg_auto_renew_off|std_auto_renew_off|avg_free_trial|std_free_trial|avg_paywall|std_paywall|avg_refund|std_refund|avg_renewal|std_renewal|avg_subscribe|std_subscribe|mean_event_hour|std_event_hour|mean_revenue_1y|std_revenue_1y|forecast_mean_1y|forecast_std_1y|\n",
      "+-----------+---+------+--------------------+------------------+------------------+--------------+--------------+-----------+-----------+----------+----------+-----------+-----------+-------------+-------------+---------------+--------------+---------------+--------------+----------------+---------------+\n",
      "|0          |0  |0     |0                   |0                 |0                 |0             |0             |0          |0          |0         |0         |0          |0          |0            |0            |0              |0             |0              |0             |0               |0              |\n",
      "+-----------+---+------+--------------------+------------------+------------------+--------------+--------------+-----------+-----------+----------+----------+-----------+-----------+-------------+-------------+---------------+--------------+---------------+--------------+----------------+---------------+\n",
      "\n"
     ]
    }
   ],
   "execution_count": 74
  },
  {
   "metadata": {
    "ExecuteTime": {
     "end_time": "2025-07-27T13:54:07.664030Z",
     "start_time": "2025-07-27T13:54:07.590241Z"
    }
   },
   "cell_type": "code",
   "source": [
    "null_counts = output_df.select([\n",
    "    F.sum(F.when(F.col(c).isNull(), 1).otherwise(0)).alias(c)\n",
    "    for c in output_df.columns\n",
    "])"
   ],
   "id": "649ac386f912fe55",
   "outputs": [],
   "execution_count": 75
  },
  {
   "metadata": {
    "ExecuteTime": {
     "end_time": "2025-07-27T13:54:09.761166Z",
     "start_time": "2025-07-27T13:54:09.577228Z"
    }
   },
   "cell_type": "code",
   "source": "null_counts.show()",
   "id": "771728bd4df4ef38",
   "outputs": [
    {
     "name": "stdout",
     "output_type": "stream",
     "text": [
      "+------------+----------------+-------------+-----------+---+------+--------------------+------------------+------------------+--------------+--------------+-----------+-----------+----------+----------+-----------+-----------+-------------+-------------+---------------+--------------+---------------+--------------+----------------+---------------+\n",
      "|cohort_index|first_event_date|cohort_season|cohort_size|iOS|iPadOS|avg_stickiness_ratio|avg_auto_renew_off|std_auto_renew_off|avg_free_trial|std_free_trial|avg_paywall|std_paywall|avg_refund|std_refund|avg_renewal|std_renewal|avg_subscribe|std_subscribe|mean_event_hour|std_event_hour|mean_revenue_1y|std_revenue_1y|forecast_mean_1y|forecast_std_1y|\n",
      "+------------+----------------+-------------+-----------+---+------+--------------------+------------------+------------------+--------------+--------------+-----------+-----------+----------+----------+-----------+-----------+-------------+-------------+---------------+--------------+---------------+--------------+----------------+---------------+\n",
      "|           0|               0|            0|          0|  0|     0|                   0|                 0|                 0|             0|             0|          0|          0|         0|         0|          0|          0|            0|            0|              0|             0|              0|             0|               0|              0|\n",
      "+------------+----------------+-------------+-----------+---+------+--------------------+------------------+------------------+--------------+--------------+-----------+-----------+----------+----------+-----------+-----------+-------------+-------------+---------------+--------------+---------------+--------------+----------------+---------------+\n",
      "\n"
     ]
    }
   ],
   "execution_count": 76
  },
  {
   "metadata": {
    "ExecuteTime": {
     "end_time": "2025-07-27T13:54:16.230898Z",
     "start_time": "2025-07-27T13:54:16.080743Z"
    }
   },
   "cell_type": "code",
   "source": "output_df.show(10, truncate=False)",
   "id": "78ef973f352ea7a5",
   "outputs": [
    {
     "name": "stdout",
     "output_type": "stream",
     "text": [
      "+------------+----------------+-------------+-----------+------------------+--------------------+--------------------+-------------------+-------------------+-------------------+-------------------+------------------+------------------+----------+----------+--------------------+-------------------+--------------------+-------------------+------------------+------------------+------------------+------------------+------------------+------------------+\n",
      "|cohort_index|first_event_date|cohort_season|cohort_size|iOS               |iPadOS              |avg_stickiness_ratio|avg_auto_renew_off |std_auto_renew_off |avg_free_trial     |std_free_trial     |avg_paywall       |std_paywall       |avg_refund|std_refund|avg_renewal         |std_renewal        |avg_subscribe       |std_subscribe      |mean_event_hour   |std_event_hour    |mean_revenue_1y   |std_revenue_1y    |forecast_mean_1y  |forecast_std_1y   |\n",
      "+------------+----------------+-------------+-----------+------------------+--------------------+--------------------+-------------------+-------------------+-------------------+-------------------+------------------+------------------+----------+----------+--------------------+-------------------+--------------------+-------------------+------------------+------------------+------------------+------------------+------------------+------------------+\n",
      "|98          |2022-11-24      |autumn       |16106      |0.9839811250465665|0.016018874953433505|0.08713936835133775 |0.10915186886874456|0.31500910573896596|0.14435614056873214|0.35251982209831256|3.064882652427667 |5.040051926006349 |0.0       |0.0       |0.02719483422327083 |0.17193470790409984|0.047249472246367816|0.21392724241993002|11.573539848526222|5.150125069283935 |2.6844015739475973|18.814001538294985|11.66598312449326 |14.42434395437364 |\n",
      "|108         |2022-12-04      |winter       |14447      |0.9857409842873953|0.014259015712604692|0.08900117671488794 |0.11663321104727625|0.3233573102879611 |0.15989478784522737|0.36840495329672557|2.954523430469994 |4.872833383607362 |0.0       |0.0       |0.028794905516716273|0.17452717305441473|0.051290925451650864|0.22059812972000312|11.546808210468239|5.1757841212068945|2.7925086384716553|19.278953441607808|12.176995062742082|13.990672554615045|\n",
      "|113         |2022-12-09      |winter       |17265      |0.9842455835505358|0.015754416449464233|0.0882787913891287  |0.12418187083695337|0.3329448870053299 |0.1643788010425717 |0.371722077917596  |2.912945264986968 |6.2133548353033925|0.0       |0.0       |0.030871705763104548|0.17954758896260892|0.05548798146539241 |0.2296946780912191 |11.562391204849556|5.221612818726153 |3.3202530437300912|21.760274954618957|13.566215578298635|14.544680828229057|\n",
      "|109         |2022-12-05      |winter       |14414      |0.9880671569307617|0.01193284306923824 |0.08853892049396321 |0.11468017205494659|0.32146477480848185|0.1554738448730401 |0.3627511069826219 |2.8557652282503123|4.072089715870618 |0.0       |0.0       |0.0298321076730956  |0.1777095095688473 |0.05251838490356598 |0.22307769185559945|11.511057235095613|5.208586297583754 |2.7546713750520326|18.85186549000413 |12.297403739517394|13.390951931887706|\n",
      "|102         |2022-11-28      |autumn       |20315      |0.9896135860201821|0.010386413979817868|0.08751497251620123 |0.11218311592419394|0.3177755923680913 |0.14821560423332514|0.35629079918709994|3.1736155550086145|5.005769330424678 |0.0       |0.0       |0.025203051932069898|0.16350859734722697|0.044499138567560916|0.20739655170968374|11.502107475290542|5.127376685801281 |2.4857871892690135|18.161478866822826|10.54410490594127 |13.5497502923975  |\n",
      "|117         |2022-12-13      |winter       |14737      |0.9884644093099002|0.011535590690099748|0.08899142747279992 |0.1305557440455995 |0.3395335495161447 |0.17316957318314447|0.3787651418190538 |2.8822691185451585|4.520107814567245 |0.0       |0.0       |0.03121395127909344 |0.1819116694551474 |0.058627943272036374|0.23551198890924685|11.44981747336454 |5.120479548714478 |2.8435464986089447|18.827855748701605|13.33083378679535 |13.983616851364738|\n",
      "|106         |2022-12-02      |winter       |16463      |0.9853611127983964|0.014638887201603596|0.0873757314381731  |0.11553179857863087|0.32194457973812535|0.1524023568000972 |0.35959034647144794|2.9670776893640283|4.921693676923996 |0.0       |0.0       |0.026605114499179978|0.17117426593678986|0.046103383344469416|0.21087081483514375|11.530468800213328|5.1793920391519475|2.541083964040577 |18.221341495804687|11.574937363017087|13.976542347834497|\n",
      "|114         |2022-12-10      |winter       |14613      |0.9846711831930473|0.015328816806952713|0.08844179839868511 |0.1230411277629508 |0.3311929234622611 |0.16478478067474167|0.3719200784671185 |2.9158968042154245|5.537837626464504 |0.0       |0.0       |0.030315472524464517|0.17849981763026143|0.053924587695887226|0.2270852552981042 |11.512363316660368|5.15504896555247  |3.0348745124204486|20.327318344197593|13.319565332322142|14.56410278134832 |\n",
      "|118         |2022-12-14      |winter       |16790      |0.98868374032162  |0.011316259678379988|0.08845344451061998 |0.11685527099463967|0.32384258857621107|0.15884455032757594|0.3666807833084781 |2.9571173317450863|4.570642101788023 |0.0       |0.0       |0.027933293627159024|0.17186376699003875|0.04997022036926742 |0.21898065566246278|11.531686127471788|5.069155659423789 |2.5112638802858855|17.906354365908772|12.16284956735236 |13.508192663932915|\n",
      "|110         |2022-12-06      |winter       |13393      |0.9870828044500859|0.012917195549914134|0.0880659050747896  |0.11625475994922721|0.3240176010980194 |0.15642499813335325|0.36470737817166293|2.9282460987082803|5.134467567904058 |0.0       |0.0       |0.02695437915328903 |0.16873038386046185|0.05129545284850295 |0.2209461610555974 |11.44833432898487 |5.176136786272123 |2.6608070036586287|19.055368161443482|12.166920883954548|14.111551778532732|\n",
      "+------------+----------------+-------------+-----------+------------------+--------------------+--------------------+-------------------+-------------------+-------------------+-------------------+------------------+------------------+----------+----------+--------------------+-------------------+--------------------+-------------------+------------------+------------------+------------------+------------------+------------------+------------------+\n",
      "only showing top 10 rows\n"
     ]
    }
   ],
   "execution_count": 77
  },
  {
   "metadata": {
    "ExecuteTime": {
     "end_time": "2025-07-27T13:54:23.841423Z",
     "start_time": "2025-07-27T13:54:23.717904Z"
    }
   },
   "cell_type": "code",
   "source": [
    "# 1) repartition to use all cores\n",
    "num_parts = spark.sparkContext.defaultParallelism\n",
    "df_out = output_df.repartition(num_parts)\n",
    "print(\"After:\", df_out.rdd.getNumPartitions())"
   ],
   "id": "c95f07d327355884",
   "outputs": [
    {
     "name": "stdout",
     "output_type": "stream",
     "text": [
      "After: 8\n"
     ]
    }
   ],
   "execution_count": 78
  },
  {
   "metadata": {
    "ExecuteTime": {
     "end_time": "2025-07-27T13:54:25.629578Z",
     "start_time": "2025-07-27T13:54:25.268520Z"
    }
   },
   "cell_type": "code",
   "source": [
    "# 2) write as compressed JSON\n",
    "df_out.write \\\n",
    "    .mode(\"overwrite\") \\\n",
    "    .option(\"compression\", \"gzip\") \\\n",
    "    .json(\"/Users/macbookpro/PyCharmMiscProject/output_cohort_json\")"
   ],
   "id": "11ee4bcf5b8b4e33",
   "outputs": [],
   "execution_count": 79
  }
 ],
 "metadata": {
  "kernelspec": {
   "display_name": "Python 3",
   "language": "python",
   "name": "python3"
  },
  "language_info": {
   "codemirror_mode": {
    "name": "ipython",
    "version": 2
   },
   "file_extension": ".py",
   "mimetype": "text/x-python",
   "name": "python",
   "nbconvert_exporter": "python",
   "pygments_lexer": "ipython2",
   "version": "2.7.6"
  }
 },
 "nbformat": 4,
 "nbformat_minor": 5
}
