{
 "cells": [
  {
   "metadata": {
    "ExecuteTime": {
     "end_time": "2025-07-26T21:06:06.511646Z",
     "start_time": "2025-07-26T21:06:06.301562Z"
    }
   },
   "cell_type": "code",
   "source": [
    "from pyspark.sql import SparkSession\n",
    "from pyspark.sql import functions as F"
   ],
   "id": "7e820c461a197f03",
   "outputs": [],
   "execution_count": 2
  },
  {
   "metadata": {
    "ExecuteTime": {
     "end_time": "2025-07-26T21:06:21.440181Z",
     "start_time": "2025-07-26T21:06:06.977330Z"
    }
   },
   "cell_type": "code",
   "source": [
    "spark = (\n",
    "  SparkSession.builder\n",
    "    .appName(\"Codeway\")\n",
    "    .master(\"local[*]\")\n",
    "    .config(\"spark.driver.memory\", \"4g\")\n",
    "    .getOrCreate()\n",
    ")"
   ],
   "id": "6b9eebdbd3e25011",
   "outputs": [
    {
     "name": "stderr",
     "output_type": "stream",
     "text": [
      "WARNING: Using incubator modules: jdk.incubator.vector\n",
      "Using Spark's default log4j profile: org/apache/spark/log4j2-defaults.properties\n",
      "Setting default log level to \"WARN\".\n",
      "To adjust logging level use sc.setLogLevel(newLevel). For SparkR, use setLogLevel(newLevel).\n",
      "25/07/27 00:06:13 WARN NativeCodeLoader: Unable to load native-hadoop library for your platform... using builtin-java classes where applicable\n",
      "25/07/27 00:06:15 WARN Utils: Service 'SparkUI' could not bind on port 4040. Attempting port 4041.\n",
      "25/07/27 00:06:15 WARN Utils: Service 'SparkUI' could not bind on port 4041. Attempting port 4042.\n"
     ]
    }
   ],
   "execution_count": 3
  },
  {
   "metadata": {
    "ExecuteTime": {
     "end_time": "2025-07-26T21:06:29.075900Z",
     "start_time": "2025-07-26T21:06:21.668247Z"
    }
   },
   "cell_type": "code",
   "source": "df_with_cohort = spark.read.json(\"/Users/macbookpro/PyCharmMiscProject/df_with_cohort_json\")",
   "id": "9df10686af744dc5",
   "outputs": [
    {
     "name": "stderr",
     "output_type": "stream",
     "text": [
      "                                                                                \r"
     ]
    }
   ],
   "execution_count": 4
  },
  {
   "metadata": {
    "ExecuteTime": {
     "end_time": "2025-07-26T21:06:29.136216Z",
     "start_time": "2025-07-26T21:06:29.123527Z"
    }
   },
   "cell_type": "code",
   "source": "df_with_cohort.printSchema()",
   "id": "729b63c7b3a02f1",
   "outputs": [
    {
     "name": "stdout",
     "output_type": "stream",
     "text": [
      "root\n",
      " |-- avg_auto_renew_off: double (nullable = true)\n",
      " |-- avg_free_trial: double (nullable = true)\n",
      " |-- avg_paywall: double (nullable = true)\n",
      " |-- avg_refund: double (nullable = true)\n",
      " |-- avg_renewal: double (nullable = true)\n",
      " |-- avg_stickiness_ratio: double (nullable = true)\n",
      " |-- avg_subscribe: double (nullable = true)\n",
      " |-- cohort_index: long (nullable = true)\n",
      " |-- cohort_season: string (nullable = true)\n",
      " |-- cohort_size: long (nullable = true)\n",
      " |-- first_event_date: string (nullable = true)\n",
      " |-- iOS: double (nullable = true)\n",
      " |-- iPadOS: double (nullable = true)\n",
      " |-- mean_event_hour: double (nullable = true)\n",
      " |-- mean_revenue_15d: double (nullable = true)\n",
      " |-- mean_revenue_1y: double (nullable = true)\n",
      " |-- std_auto_renew_off: double (nullable = true)\n",
      " |-- std_event_hour: double (nullable = true)\n",
      " |-- std_free_trial: double (nullable = true)\n",
      " |-- std_paywall: double (nullable = true)\n",
      " |-- std_refund: double (nullable = true)\n",
      " |-- std_renewal: double (nullable = true)\n",
      " |-- std_revenue_15d: double (nullable = true)\n",
      " |-- std_revenue_1y: double (nullable = true)\n",
      " |-- std_subscribe: double (nullable = true)\n",
      "\n"
     ]
    }
   ],
   "execution_count": 5
  },
  {
   "metadata": {
    "ExecuteTime": {
     "end_time": "2025-07-26T21:06:29.481582Z",
     "start_time": "2025-07-26T21:06:29.358310Z"
    }
   },
   "cell_type": "code",
   "source": [
    "from pyspark.ml import Pipeline\n",
    "from pyspark.ml.feature import StringIndexer, OneHotEncoder, VectorAssembler\n",
    "from pyspark.ml.regression import GBTRegressor\n",
    "from pyspark.ml.tuning import CrossValidator, ParamGridBuilder\n",
    "from pyspark.ml.evaluation import RegressionEvaluator"
   ],
   "id": "4f97e953e59c6378",
   "outputs": [],
   "execution_count": 6
  },
  {
   "metadata": {},
   "cell_type": "markdown",
   "source": "1) Time‐aware train/test split (80/20 by cohort_index)",
   "id": "56537256ff6fd4b2"
  },
  {
   "metadata": {
    "ExecuteTime": {
     "end_time": "2025-07-26T21:06:32.829197Z",
     "start_time": "2025-07-26T21:06:29.540674Z"
    }
   },
   "cell_type": "code",
   "source": [
    "max_idx    = df_with_cohort.agg(F.max(\"cohort_index\")).first()[0]\n",
    "split_idx  = int(max_idx * 0.8)\n",
    "train      = df_with_cohort.filter(F.col(\"cohort_index\") <= split_idx).withColumn(\"rand\", F.rand(seed=12345)).orderBy(\"rand\")\n",
    "test       = df_with_cohort.filter(F.col(\"cohort_index\")  > split_idx)"
   ],
   "id": "5d2bacb87998282d",
   "outputs": [
    {
     "name": "stderr",
     "output_type": "stream",
     "text": [
      "                                                                                \r"
     ]
    }
   ],
   "execution_count": 7
  },
  {
   "metadata": {},
   "cell_type": "markdown",
   "source": " 2) Preprocessing pipeline (fit once)",
   "id": "9a1659f4639f759e"
  },
  {
   "metadata": {
    "ExecuteTime": {
     "end_time": "2025-07-26T21:06:33.440054Z",
     "start_time": "2025-07-26T21:06:33.437107Z"
    }
   },
   "cell_type": "code",
   "source": "from pyspark import StorageLevel",
   "id": "28b87804fca9a477",
   "outputs": [],
   "execution_count": 8
  },
  {
   "metadata": {
    "ExecuteTime": {
     "end_time": "2025-07-26T21:06:38.674083Z",
     "start_time": "2025-07-26T21:06:33.501781Z"
    }
   },
   "cell_type": "code",
   "source": [
    "si_season  = StringIndexer(inputCol=\"cohort_season\", outputCol=\"season_idx\", handleInvalid=\"keep\")\n",
    "oh_season  = OneHotEncoder(inputCols=[\"season_idx\"], outputCols=[\"season_vec\"])\n",
    "feature_cols = [\n",
    "    \"cohort_size\",\n",
    "    \"iOS\", \"iPadOS\",\n",
    "    \"avg_auto_renew_off\",\"std_auto_renew_off\",\n",
    "    \"avg_free_trial\",\"std_free_trial\",\n",
    "    \"avg_paywall\",\"std_paywall\",\n",
    "    \"avg_refund\",\"std_refund\",\n",
    "    \"avg_renewal\",\"std_renewal\",\n",
    "    \"avg_subscribe\",\"std_subscribe\",\n",
    "    \"mean_event_hour\",\"std_event_hour\",\n",
    "    \"mean_revenue_1y\",\"std_revenue_1y\",\n",
    "    \"season_vec\"\n",
    "]\n",
    "assembler  = VectorAssembler(inputCols=feature_cols, outputCol=\"features\")\n",
    "\n",
    "preproc    = Pipeline(stages=[si_season, oh_season, assembler])\n",
    "train = train.drop(\"rand\")\n",
    "pp_model   = preproc.fit(train)\n",
    "\n",
    "train_pp   = pp_model.transform(train).persist(StorageLevel.MEMORY_AND_DISK)\n",
    "test_pp    = pp_model.transform(test).persist(StorageLevel.MEMORY_AND_DISK)"
   ],
   "id": "d3e2cc61eb2b3f55",
   "outputs": [
    {
     "name": "stderr",
     "output_type": "stream",
     "text": [
      "25/07/27 00:06:38 WARN SparkStringUtils: Truncated the string representation of a plan since it was too large. This behavior can be adjusted by setting 'spark.sql.debug.maxToStringFields'.\n"
     ]
    }
   ],
   "execution_count": 9
  },
  {
   "metadata": {},
   "cell_type": "markdown",
   "source": "3) Define two GBT regressors with explicit prediction columns",
   "id": "a9878345b622a51e"
  },
  {
   "metadata": {
    "ExecuteTime": {
     "end_time": "2025-07-26T21:06:38.742316Z",
     "start_time": "2025-07-26T21:06:38.716977Z"
    }
   },
   "cell_type": "code",
   "source": [
    "gbt_mean = GBTRegressor(\n",
    "    featuresCol=\"features\",\n",
    "    labelCol=\"mean_revenue_15d\",\n",
    "    predictionCol=\"pred15_mean\",\n",
    "    seed=12345\n",
    ")\n",
    "gbt_std  = GBTRegressor(\n",
    "    featuresCol=\"features\",\n",
    "    labelCol=\"std_revenue_15d\",\n",
    "    predictionCol=\"pred15_std\",\n",
    "    seed=12345\n",
    ")"
   ],
   "id": "7b5a631f1c590606",
   "outputs": [],
   "execution_count": 10
  },
  {
   "metadata": {},
   "cell_type": "markdown",
   "source": " 4) Evaluators",
   "id": "ba44f6cc932c34a1"
  },
  {
   "metadata": {
    "ExecuteTime": {
     "end_time": "2025-07-26T21:06:38.865328Z",
     "start_time": "2025-07-26T21:06:38.845799Z"
    }
   },
   "cell_type": "code",
   "source": [
    "evaluator_mean = RegressionEvaluator(\n",
    "    labelCol=\"mean_revenue_15d\",\n",
    "    predictionCol=\"pred15_mean\",\n",
    "    metricName=\"mae\"\n",
    ")\n",
    "evaluator_std  = RegressionEvaluator(\n",
    "    labelCol=\"std_revenue_15d\",\n",
    "    predictionCol=\"pred15_std\",\n",
    "    metricName=\"mae\"\n",
    ")"
   ],
   "id": "d1f58c571d241532",
   "outputs": [],
   "execution_count": 11
  },
  {
   "metadata": {},
   "cell_type": "markdown",
   "source": "5) Hyperparameter grids",
   "id": "b8f6462e6904fc3"
  },
  {
   "metadata": {
    "ExecuteTime": {
     "end_time": "2025-07-26T21:06:38.878250Z",
     "start_time": "2025-07-26T21:06:38.875424Z"
    }
   },
   "cell_type": "code",
   "source": [
    "paramGrid_mean = (ParamGridBuilder()\n",
    "    .addGrid(gbt_mean.maxDepth, [3, 5])    # try shallow vs. a bit deeper\n",
    "    .addGrid(gbt_mean.maxIter,  [20])      # just one low-cost value\n",
    "    .addGrid(gbt_mean.stepSize, [0.1])\n",
    "    .build()\n",
    ")\n",
    "\n",
    "paramGrid_std  = (ParamGridBuilder()\n",
    "    .addGrid(gbt_std.maxDepth, [3, 5])\n",
    "    .addGrid(gbt_std.maxIter,  [20])\n",
    "    .addGrid(gbt_std.stepSize, [0.1])\n",
    "    .build()\n",
    ")"
   ],
   "id": "5589adc1fe7de327",
   "outputs": [],
   "execution_count": 12
  },
  {
   "metadata": {},
   "cell_type": "markdown",
   "source": "6) Cross-validators",
   "id": "28bec6a012aeac91"
  },
  {
   "metadata": {
    "ExecuteTime": {
     "end_time": "2025-07-26T21:06:38.945417Z",
     "start_time": "2025-07-26T21:06:38.942546Z"
    }
   },
   "cell_type": "code",
   "source": [
    "cv_mean = CrossValidator(\n",
    "    estimator=gbt_mean,\n",
    "    estimatorParamMaps=paramGrid_mean,\n",
    "    evaluator=evaluator_mean,\n",
    "    numFolds=3\n",
    ")\n",
    "\n",
    "cv_std = CrossValidator(\n",
    "    estimator=gbt_std,\n",
    "    estimatorParamMaps=paramGrid_std,\n",
    "    evaluator=evaluator_std,\n",
    "    numFolds=3\n",
    ")"
   ],
   "id": "4a23c8723d7b382d",
   "outputs": [],
   "execution_count": 13
  },
  {
   "metadata": {
    "ExecuteTime": {
     "end_time": "2025-07-26T21:06:39.781766Z",
     "start_time": "2025-07-26T21:06:39.773290Z"
    }
   },
   "cell_type": "code",
   "source": [
    "cv_mean.setParallelism(4)\n",
    "cv_std.setParallelism(4)"
   ],
   "id": "948f8d17f96440c",
   "outputs": [
    {
     "data": {
      "text/plain": [
       "CrossValidator_a8ae3d77c3f2"
      ]
     },
     "execution_count": 14,
     "metadata": {},
     "output_type": "execute_result"
    }
   ],
   "execution_count": 14
  },
  {
   "metadata": {},
   "cell_type": "markdown",
   "source": "7) Train both models on preprocessed training data",
   "id": "aafadf95d5d27bc7"
  },
  {
   "metadata": {
    "ExecuteTime": {
     "end_time": "2025-07-26T21:11:55.066763Z",
     "start_time": "2025-07-26T21:06:39.853263Z"
    }
   },
   "cell_type": "code",
   "source": "cv_model_mean = cv_mean.fit(train_pp)",
   "id": "8213bed42f5c81b7",
   "outputs": [
    {
     "name": "stderr",
     "output_type": "stream",
     "text": [
      "25/07/27 00:08:20 WARN InstanceBuilder: Failed to load implementation from:dev.ludovic.netlib.blas.JNIBLAS\n",
      "25/07/27 00:09:01 WARN BlockManager: Asked to remove block broadcast_579_piece0, which does not exist\n",
      "                                                                                \r"
     ]
    }
   ],
   "execution_count": 15
  },
  {
   "metadata": {
    "ExecuteTime": {
     "end_time": "2025-07-26T21:13:48.873437Z",
     "start_time": "2025-07-26T21:11:55.406451Z"
    }
   },
   "cell_type": "code",
   "source": "cv_model_std  = cv_std.fit(train_pp)",
   "id": "140c0f1e310860e1",
   "outputs": [],
   "execution_count": 16
  },
  {
   "metadata": {},
   "cell_type": "markdown",
   "source": "8) Generate predictions on preprocessed test data",
   "id": "2388db603e23bad4"
  },
  {
   "metadata": {
    "ExecuteTime": {
     "end_time": "2025-07-26T21:13:49.373311Z",
     "start_time": "2025-07-26T21:13:49.290876Z"
    }
   },
   "cell_type": "code",
   "source": [
    "preds = cv_model_mean.transform(test_pp)\n",
    "preds = cv_model_std .transform(preds)"
   ],
   "id": "aa452d4429e2897e",
   "outputs": [],
   "execution_count": 17
  },
  {
   "metadata": {},
   "cell_type": "markdown",
   "source": "9) Annualize the 15-day forecasts if desired",
   "id": "b089b22fd9728b02"
  },
  {
   "metadata": {
    "ExecuteTime": {
     "end_time": "2025-07-26T21:13:49.448568Z",
     "start_time": "2025-07-26T21:13:49.409001Z"
    }
   },
   "cell_type": "code",
   "source": [
    "factor     = 365.0 / 15.0\n",
    "std_factor = (365.0 / 15.0) ** 0.5\n",
    "\n",
    "preds = preds.withColumn(\"forecast_mean_1y\", F.col(\"pred15_mean\") * factor) \\\n",
    "             .withColumn(\"forecast_std_1y\",  F.col(\"pred15_std\")  * std_factor)"
   ],
   "id": "ede02e63aabb1cf2",
   "outputs": [],
   "execution_count": 18
  },
  {
   "metadata": {},
   "cell_type": "markdown",
   "source": [
    " preds now contains:\n",
    "   - pred15_mean, pred15_std\n",
    "   - forecast_mean_1y, forecast_std_1y\n",
    "   - plus all original cohort features for analysis"
   ],
   "id": "1ced426e6fbece65"
  },
  {
   "metadata": {},
   "cell_type": "markdown",
   "source": "10) Evaluate",
   "id": "c2173446483e4550"
  },
  {
   "metadata": {
    "ExecuteTime": {
     "end_time": "2025-07-26T21:13:50.728300Z",
     "start_time": "2025-07-26T21:13:49.464847Z"
    }
   },
   "cell_type": "code",
   "source": [
    "mae_mean = evaluator_mean.evaluate(preds)\n",
    "mae_std = evaluator_std.evaluate(preds)"
   ],
   "id": "1416b3731b79846f",
   "outputs": [
    {
     "name": "stderr",
     "output_type": "stream",
     "text": [
      "                                                                                \r"
     ]
    }
   ],
   "execution_count": 19
  },
  {
   "metadata": {
    "ExecuteTime": {
     "end_time": "2025-07-26T21:13:51.136969Z",
     "start_time": "2025-07-26T21:13:51.135116Z"
    }
   },
   "cell_type": "code",
   "source": [
    "print(\"15-day MAE (mean):\", mae_mean)\n",
    "print(\"15-day MAE (std) :\", mae_std)"
   ],
   "id": "9642af39d7e3c350",
   "outputs": [
    {
     "name": "stdout",
     "output_type": "stream",
     "text": [
      "15-day MAE (mean): 0.020836992115998255\n",
      "15-day MAE (std) : 0.09661682129958578\n"
     ]
    }
   ],
   "execution_count": 20
  },
  {
   "metadata": {},
   "cell_type": "markdown",
   "source": "1) Compute both averages together",
   "id": "f5cc203e61bfe1fa"
  },
  {
   "metadata": {
    "ExecuteTime": {
     "end_time": "2025-07-26T21:13:52.117977Z",
     "start_time": "2025-07-26T21:13:51.172976Z"
    }
   },
   "cell_type": "code",
   "source": [
    "mean_vals = test_pp.agg(\n",
    "    F.avg(\"mean_revenue_15d\" ).alias(\"mean_true_mean\"),\n",
    "    F.avg(\"std_revenue_15d\"  ).alias(\"mean_true_std\")\n",
    ").first()\n",
    "\n",
    "mean_true_mean = mean_vals[\"mean_true_mean\"]\n",
    "mean_true_std  = mean_vals[\"mean_true_std\"]"
   ],
   "id": "95b4cf74492200a1",
   "outputs": [],
   "execution_count": 21
  },
  {
   "metadata": {
    "ExecuteTime": {
     "end_time": "2025-07-26T21:13:52.169684Z",
     "start_time": "2025-07-26T21:13:52.167988Z"
    }
   },
   "cell_type": "code",
   "source": [
    "relative_mae_mean = mae_mean / mean_true_mean\n",
    "relative_mae_std  = mae_std  / mean_true_std"
   ],
   "id": "e927df740d72b3ac",
   "outputs": [],
   "execution_count": 22
  },
  {
   "metadata": {},
   "cell_type": "markdown",
   "source": "3) Print as percentages",
   "id": "7079df139113ef20"
  },
  {
   "metadata": {
    "ExecuteTime": {
     "end_time": "2025-07-26T21:13:52.210946Z",
     "start_time": "2025-07-26T21:13:52.209034Z"
    }
   },
   "cell_type": "code",
   "source": [
    "print(f\"Relative MAE (mean): {relative_mae_mean:.2%}\")\n",
    "print(f\"Relative MAE (std) : {relative_mae_std:.2%}\")"
   ],
   "id": "b777daf284594086",
   "outputs": [
    {
     "name": "stdout",
     "output_type": "stream",
     "text": [
      "Relative MAE (mean): 4.12%\n",
      "Relative MAE (std) : 3.41%\n"
     ]
    }
   ],
   "execution_count": 23
  },
  {
   "metadata": {},
   "cell_type": "markdown",
   "source": "# Write the output",
   "id": "753c91d6bc40dde7"
  },
  {
   "metadata": {},
   "cell_type": "markdown",
   "source": [
    "preds is the DataFrame obtained after scoring and annualizing:\n",
    "it contains all cohort features plus forecast_mean_1y & forecast_std_1y."
   ],
   "id": "1ea3b75e6f98c48"
  },
  {
   "metadata": {},
   "cell_type": "markdown",
   "source": "Select exactly the columns wanted in the output",
   "id": "c05823bf6bc12e06"
  },
  {
   "metadata": {
    "ExecuteTime": {
     "end_time": "2025-07-26T21:13:52.252447Z",
     "start_time": "2025-07-26T21:13:52.247534Z"
    }
   },
   "cell_type": "code",
   "source": "preds.printSchema()",
   "id": "a204629264ae9ced",
   "outputs": [
    {
     "name": "stdout",
     "output_type": "stream",
     "text": [
      "root\n",
      " |-- avg_auto_renew_off: double (nullable = true)\n",
      " |-- avg_free_trial: double (nullable = true)\n",
      " |-- avg_paywall: double (nullable = true)\n",
      " |-- avg_refund: double (nullable = true)\n",
      " |-- avg_renewal: double (nullable = true)\n",
      " |-- avg_stickiness_ratio: double (nullable = true)\n",
      " |-- avg_subscribe: double (nullable = true)\n",
      " |-- cohort_index: long (nullable = true)\n",
      " |-- cohort_season: string (nullable = true)\n",
      " |-- cohort_size: long (nullable = true)\n",
      " |-- first_event_date: string (nullable = true)\n",
      " |-- iOS: double (nullable = true)\n",
      " |-- iPadOS: double (nullable = true)\n",
      " |-- mean_event_hour: double (nullable = true)\n",
      " |-- mean_revenue_15d: double (nullable = true)\n",
      " |-- mean_revenue_1y: double (nullable = true)\n",
      " |-- std_auto_renew_off: double (nullable = true)\n",
      " |-- std_event_hour: double (nullable = true)\n",
      " |-- std_free_trial: double (nullable = true)\n",
      " |-- std_paywall: double (nullable = true)\n",
      " |-- std_refund: double (nullable = true)\n",
      " |-- std_renewal: double (nullable = true)\n",
      " |-- std_revenue_15d: double (nullable = true)\n",
      " |-- std_revenue_1y: double (nullable = true)\n",
      " |-- std_subscribe: double (nullable = true)\n",
      " |-- season_idx: double (nullable = false)\n",
      " |-- season_vec: vector (nullable = true)\n",
      " |-- features: vector (nullable = true)\n",
      " |-- pred15_mean: double (nullable = false)\n",
      " |-- pred15_std: double (nullable = false)\n",
      " |-- forecast_mean_1y: double (nullable = false)\n",
      " |-- forecast_std_1y: double (nullable = false)\n",
      "\n"
     ]
    }
   ],
   "execution_count": 24
  },
  {
   "metadata": {
    "ExecuteTime": {
     "end_time": "2025-07-26T21:13:52.345280Z",
     "start_time": "2025-07-26T21:13:52.287453Z"
    }
   },
   "cell_type": "code",
   "source": [
    "output_df = preds.select(\n",
    "    \"cohort_index\",\n",
    "    \"first_event_date\",\n",
    "    \"cohort_season\",\n",
    "    \"cohort_size\",\n",
    "\n",
    "    # original cohort features\n",
    "    \"iOS\", \"iPadOS\", \"avg_stickiness_ratio\",\n",
    "    \"avg_auto_renew_off\", \"std_auto_renew_off\",\n",
    "    \"avg_free_trial\",      \"std_free_trial\",\n",
    "    \"avg_paywall\",         \"std_paywall\",\n",
    "    \"avg_refund\",          \"std_refund\",\n",
    "    \"avg_renewal\",         \"std_renewal\",\n",
    "    \"avg_subscribe\",       \"std_subscribe\",\n",
    "    \"mean_event_hour\",     \"std_event_hour\",\n",
    "    \"mean_revenue_1y\",     \"std_revenue_1y\",\n",
    "\n",
    "    # 1-year forecasts\n",
    "    \"forecast_mean_1y\",\n",
    "    \"forecast_std_1y\"\n",
    ")"
   ],
   "id": "26770d6c0b0c015b",
   "outputs": [],
   "execution_count": 25
  },
  {
   "metadata": {
    "ExecuteTime": {
     "end_time": "2025-07-26T21:13:52.366904Z",
     "start_time": "2025-07-26T21:13:52.363950Z"
    }
   },
   "cell_type": "code",
   "source": "output_df.printSchema()",
   "id": "3819754e1c89263c",
   "outputs": [
    {
     "name": "stdout",
     "output_type": "stream",
     "text": [
      "root\n",
      " |-- cohort_index: long (nullable = true)\n",
      " |-- first_event_date: string (nullable = true)\n",
      " |-- cohort_season: string (nullable = true)\n",
      " |-- cohort_size: long (nullable = true)\n",
      " |-- iOS: double (nullable = true)\n",
      " |-- iPadOS: double (nullable = true)\n",
      " |-- avg_stickiness_ratio: double (nullable = true)\n",
      " |-- avg_auto_renew_off: double (nullable = true)\n",
      " |-- std_auto_renew_off: double (nullable = true)\n",
      " |-- avg_free_trial: double (nullable = true)\n",
      " |-- std_free_trial: double (nullable = true)\n",
      " |-- avg_paywall: double (nullable = true)\n",
      " |-- std_paywall: double (nullable = true)\n",
      " |-- avg_refund: double (nullable = true)\n",
      " |-- std_refund: double (nullable = true)\n",
      " |-- avg_renewal: double (nullable = true)\n",
      " |-- std_renewal: double (nullable = true)\n",
      " |-- avg_subscribe: double (nullable = true)\n",
      " |-- std_subscribe: double (nullable = true)\n",
      " |-- mean_event_hour: double (nullable = true)\n",
      " |-- std_event_hour: double (nullable = true)\n",
      " |-- mean_revenue_1y: double (nullable = true)\n",
      " |-- std_revenue_1y: double (nullable = true)\n",
      " |-- forecast_mean_1y: double (nullable = false)\n",
      " |-- forecast_std_1y: double (nullable = false)\n",
      "\n"
     ]
    }
   ],
   "execution_count": 26
  },
  {
   "metadata": {
    "ExecuteTime": {
     "end_time": "2025-07-26T21:13:52.550867Z",
     "start_time": "2025-07-26T21:13:52.430853Z"
    }
   },
   "cell_type": "code",
   "source": [
    "null_counts = output_df.select([\n",
    "    F.sum(F.when(F.col(c).isNull(), 1).otherwise(0)).alias(c)\n",
    "    for c in output_df.columns\n",
    "])"
   ],
   "id": "649ac386f912fe55",
   "outputs": [],
   "execution_count": 27
  },
  {
   "metadata": {
    "ExecuteTime": {
     "end_time": "2025-07-26T21:13:53.761732Z",
     "start_time": "2025-07-26T21:13:52.566223Z"
    }
   },
   "cell_type": "code",
   "source": "null_counts.show()",
   "id": "771728bd4df4ef38",
   "outputs": [
    {
     "name": "stdout",
     "output_type": "stream",
     "text": [
      "+------------+----------------+-------------+-----------+---+------+--------------------+------------------+------------------+--------------+--------------+-----------+-----------+----------+----------+-----------+-----------+-------------+-------------+---------------+--------------+---------------+--------------+----------------+---------------+\n",
      "|cohort_index|first_event_date|cohort_season|cohort_size|iOS|iPadOS|avg_stickiness_ratio|avg_auto_renew_off|std_auto_renew_off|avg_free_trial|std_free_trial|avg_paywall|std_paywall|avg_refund|std_refund|avg_renewal|std_renewal|avg_subscribe|std_subscribe|mean_event_hour|std_event_hour|mean_revenue_1y|std_revenue_1y|forecast_mean_1y|forecast_std_1y|\n",
      "+------------+----------------+-------------+-----------+---+------+--------------------+------------------+------------------+--------------+--------------+-----------+-----------+----------+----------+-----------+-----------+-------------+-------------+---------------+--------------+---------------+--------------+----------------+---------------+\n",
      "|           0|               0|            0|          0|  0|     0|                   0|                 0|                 0|             0|             0|          0|          0|         0|         0|          0|          0|            0|            0|              0|             0|              0|             0|               0|              0|\n",
      "+------------+----------------+-------------+-----------+---+------+--------------------+------------------+------------------+--------------+--------------+-----------+-----------+----------+----------+-----------+-----------+-------------+-------------+---------------+--------------+---------------+--------------+----------------+---------------+\n",
      "\n"
     ]
    }
   ],
   "execution_count": 28
  },
  {
   "metadata": {
    "ExecuteTime": {
     "end_time": "2025-07-26T21:13:54.120011Z",
     "start_time": "2025-07-26T21:13:53.840524Z"
    }
   },
   "cell_type": "code",
   "source": "output_df.show(10, truncate=False)",
   "id": "78ef973f352ea7a5",
   "outputs": [
    {
     "name": "stdout",
     "output_type": "stream",
     "text": [
      "+------------+----------------+-------------+-----------+------------------+--------------------+--------------------+-------------------+-------------------+-------------------+-------------------+------------------+------------------+----------+----------+--------------------+-------------------+--------------------+-------------------+------------------+------------------+------------------+------------------+------------------+------------------+\n",
      "|cohort_index|first_event_date|cohort_season|cohort_size|iOS               |iPadOS              |avg_stickiness_ratio|avg_auto_renew_off |std_auto_renew_off |avg_free_trial     |std_free_trial     |avg_paywall       |std_paywall       |avg_refund|std_refund|avg_renewal         |std_renewal        |avg_subscribe       |std_subscribe      |mean_event_hour   |std_event_hour    |mean_revenue_1y   |std_revenue_1y    |forecast_mean_1y  |forecast_std_1y   |\n",
      "+------------+----------------+-------------+-----------+------------------+--------------------+--------------------+-------------------+-------------------+-------------------+-------------------+------------------+------------------+----------+----------+--------------------+-------------------+--------------------+-------------------+------------------+------------------+------------------+------------------+------------------+------------------+\n",
      "|98          |2022-11-24      |autumn       |16106      |0.9839811250465665|0.016018874953433505|0.08713936835133775 |0.10915186886874456|0.31500910573896596|0.14435614056873214|0.35251982209831256|3.064882652427667 |5.040051926006349 |0.0       |0.0       |0.02719483422327083 |0.17193470790409984|0.047249472246367816|0.21392724241993002|11.573539848526222|5.150125069283935 |2.6844015739475973|18.814001538294985|11.66598312449326 |14.42434395437364 |\n",
      "|108         |2022-12-04      |winter       |14447      |0.9857409842873953|0.014259015712604692|0.08900117671488794 |0.11663321104727625|0.3233573102879611 |0.15989478784522737|0.36840495329672557|2.954523430469994 |4.872833383607362 |0.0       |0.0       |0.028794905516716273|0.17452717305441473|0.051290925451650864|0.22059812972000312|11.546808210468239|5.1757841212068945|2.7925086384716553|19.278953441607808|12.176995062742082|13.990672554615045|\n",
      "|113         |2022-12-09      |winter       |17265      |0.9842455835505358|0.015754416449464233|0.0882787913891287  |0.12418187083695337|0.3329448870053299 |0.1643788010425717 |0.371722077917596  |2.912945264986968 |6.2133548353033925|0.0       |0.0       |0.030871705763104548|0.17954758896260892|0.05548798146539241 |0.2296946780912191 |11.562391204849556|5.221612818726153 |3.3202530437300912|21.760274954618957|13.566215578298635|14.544680828229057|\n",
      "|109         |2022-12-05      |winter       |14414      |0.9880671569307617|0.01193284306923824 |0.08853892049396321 |0.11468017205494659|0.32146477480848185|0.1554738448730401 |0.3627511069826219 |2.8557652282503123|4.072089715870618 |0.0       |0.0       |0.0298321076730956  |0.1777095095688473 |0.05251838490356598 |0.22307769185559945|11.511057235095613|5.208586297583754 |2.7546713750520326|18.85186549000413 |12.297403739517394|13.390951931887706|\n",
      "|102         |2022-11-28      |autumn       |20315      |0.9896135860201821|0.010386413979817868|0.08751497251620123 |0.11218311592419394|0.3177755923680913 |0.14821560423332514|0.35629079918709994|3.1736155550086145|5.005769330424678 |0.0       |0.0       |0.025203051932069898|0.16350859734722697|0.044499138567560916|0.20739655170968374|11.502107475290542|5.127376685801281 |2.4857871892690135|18.161478866822826|10.54410490594127 |13.5497502923975  |\n",
      "|117         |2022-12-13      |winter       |14737      |0.9884644093099002|0.011535590690099748|0.08899142747279992 |0.1305557440455995 |0.3395335495161447 |0.17316957318314447|0.3787651418190538 |2.8822691185451585|4.520107814567245 |0.0       |0.0       |0.03121395127909344 |0.1819116694551474 |0.058627943272036374|0.23551198890924685|11.44981747336454 |5.120479548714478 |2.8435464986089447|18.827855748701605|13.33083378679535 |13.983616851364738|\n",
      "|106         |2022-12-02      |winter       |16463      |0.9853611127983964|0.014638887201603596|0.0873757314381731  |0.11553179857863087|0.32194457973812535|0.1524023568000972 |0.35959034647144794|2.9670776893640283|4.921693676923996 |0.0       |0.0       |0.026605114499179978|0.17117426593678986|0.046103383344469416|0.21087081483514375|11.530468800213328|5.1793920391519475|2.541083964040577 |18.221341495804687|11.574937363017087|13.976542347834497|\n",
      "|114         |2022-12-10      |winter       |14613      |0.9846711831930473|0.015328816806952713|0.08844179839868511 |0.1230411277629508 |0.3311929234622611 |0.16478478067474167|0.3719200784671185 |2.9158968042154245|5.537837626464504 |0.0       |0.0       |0.030315472524464517|0.17849981763026143|0.053924587695887226|0.2270852552981042 |11.512363316660368|5.15504896555247  |3.0348745124204486|20.327318344197593|13.319565332322142|14.56410278134832 |\n",
      "|118         |2022-12-14      |winter       |16790      |0.98868374032162  |0.011316259678379988|0.08845344451061998 |0.11685527099463967|0.32384258857621107|0.15884455032757594|0.3666807833084781 |2.9571173317450863|4.570642101788023 |0.0       |0.0       |0.027933293627159024|0.17186376699003875|0.04997022036926742 |0.21898065566246278|11.531686127471788|5.069155659423789 |2.5112638802858855|17.906354365908772|12.16284956735236 |13.508192663932915|\n",
      "|110         |2022-12-06      |winter       |13393      |0.9870828044500859|0.012917195549914134|0.0880659050747896  |0.11625475994922721|0.3240176010980194 |0.15642499813335325|0.36470737817166293|2.9282460987082803|5.134467567904058 |0.0       |0.0       |0.02695437915328903 |0.16873038386046185|0.05129545284850295 |0.2209461610555974 |11.44833432898487 |5.176136786272123 |2.6608070036586287|19.055368161443482|12.166920883954548|14.111551778532732|\n",
      "+------------+----------------+-------------+-----------+------------------+--------------------+--------------------+-------------------+-------------------+-------------------+-------------------+------------------+------------------+----------+----------+--------------------+-------------------+--------------------+-------------------+------------------+------------------+------------------+------------------+------------------+------------------+\n",
      "only showing top 10 rows\n"
     ]
    }
   ],
   "execution_count": 29
  },
  {
   "metadata": {
    "ExecuteTime": {
     "end_time": "2025-07-26T21:13:54.735334Z",
     "start_time": "2025-07-26T21:13:54.603410Z"
    }
   },
   "cell_type": "code",
   "source": [
    "# 1) repartition to use all cores\n",
    "num_parts = spark.sparkContext.defaultParallelism\n",
    "df_out = output_df.repartition(num_parts)\n",
    "print(\"After:\", df_out.rdd.getNumPartitions())"
   ],
   "id": "c95f07d327355884",
   "outputs": [
    {
     "name": "stdout",
     "output_type": "stream",
     "text": [
      "After: 8\n"
     ]
    }
   ],
   "execution_count": 30
  },
  {
   "metadata": {
    "ExecuteTime": {
     "end_time": "2025-07-26T21:13:56.276293Z",
     "start_time": "2025-07-26T21:13:54.739457Z"
    }
   },
   "cell_type": "code",
   "source": [
    "# 2) write as compressed JSON\n",
    "df_out.write \\\n",
    "    .mode(\"overwrite\") \\\n",
    "    .option(\"compression\", \"gzip\") \\\n",
    "    .json(\"/Users/macbookpro/PyCharmMiscProject/output_cohort_json\")"
   ],
   "id": "11ee4bcf5b8b4e33",
   "outputs": [
    {
     "name": "stderr",
     "output_type": "stream",
     "text": [
      "                                                                                \r"
     ]
    }
   ],
   "execution_count": 31
  }
 ],
 "metadata": {
  "kernelspec": {
   "display_name": "Python 3",
   "language": "python",
   "name": "python3"
  },
  "language_info": {
   "codemirror_mode": {
    "name": "ipython",
    "version": 2
   },
   "file_extension": ".py",
   "mimetype": "text/x-python",
   "name": "python",
   "nbconvert_exporter": "python",
   "pygments_lexer": "ipython2",
   "version": "2.7.6"
  }
 },
 "nbformat": 4,
 "nbformat_minor": 5
}
