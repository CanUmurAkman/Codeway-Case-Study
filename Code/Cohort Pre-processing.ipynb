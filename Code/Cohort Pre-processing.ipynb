{
 "cells": [
  {
   "metadata": {
    "ExecuteTime": {
     "end_time": "2025-07-26T18:30:02.121839Z",
     "start_time": "2025-07-26T18:30:01.927762Z"
    }
   },
   "cell_type": "code",
   "source": [
    "from pyspark.sql import SparkSession\n",
    "from pyspark.sql import functions as F"
   ],
   "id": "5c3697c2fca5daa2",
   "outputs": [],
   "execution_count": 2
  },
  {
   "metadata": {
    "ExecuteTime": {
     "end_time": "2025-07-26T18:30:15.242340Z",
     "start_time": "2025-07-26T18:30:03.377244Z"
    }
   },
   "cell_type": "code",
   "source": [
    "spark = (\n",
    "  SparkSession.builder\n",
    "    .appName(\"Codeway\")\n",
    "    .master(\"local[*]\")\n",
    "    .config(\"spark.driver.memory\", \"4g\")\n",
    "    .getOrCreate()\n",
    ")"
   ],
   "id": "643d986f71d0a5c6",
   "outputs": [
    {
     "name": "stderr",
     "output_type": "stream",
     "text": [
      "WARNING: Using incubator modules: jdk.incubator.vector\n",
      "Using Spark's default log4j profile: org/apache/spark/log4j2-defaults.properties\n",
      "Setting default log level to \"WARN\".\n",
      "To adjust logging level use sc.setLogLevel(newLevel). For SparkR, use setLogLevel(newLevel).\n",
      "25/07/26 21:30:09 WARN NativeCodeLoader: Unable to load native-hadoop library for your platform... using builtin-java classes where applicable\n"
     ]
    }
   ],
   "execution_count": 3
  },
  {
   "metadata": {},
   "cell_type": "markdown",
   "source": "Read the dataframe",
   "id": "76aff7a2b80dfe2f"
  },
  {
   "cell_type": "code",
   "id": "initial_id",
   "metadata": {
    "collapsed": true,
    "ExecuteTime": {
     "end_time": "2025-07-26T18:30:30.720009Z",
     "start_time": "2025-07-26T18:30:15.260669Z"
    }
   },
   "source": "df_features = spark.read.json(\"/Users/macbookpro/PyCharmMiscProject/df_features_json\")",
   "outputs": [
    {
     "name": "stderr",
     "output_type": "stream",
     "text": [
      "                                                                                \r"
     ]
    }
   ],
   "execution_count": 4
  },
  {
   "metadata": {
    "ExecuteTime": {
     "end_time": "2025-07-26T09:39:35.886718Z",
     "start_time": "2025-07-26T09:39:35.861578Z"
    }
   },
   "cell_type": "code",
   "source": "df_features.printSchema()",
   "id": "66929035abc824cc",
   "outputs": [
    {
     "name": "stdout",
     "output_type": "stream",
     "text": [
      "root\n",
      " |-- auto_renew_off: long (nullable = true)\n",
      " |-- avg_event_hour: double (nullable = true)\n",
      " |-- country: string (nullable = true)\n",
      " |-- first_event_date: string (nullable = true)\n",
      " |-- first_year_revenue: double (nullable = true)\n",
      " |-- free_trial: long (nullable = true)\n",
      " |-- operating_system: string (nullable = true)\n",
      " |-- paywall: long (nullable = true)\n",
      " |-- refund: long (nullable = true)\n",
      " |-- renewal: long (nullable = true)\n",
      " |-- season: string (nullable = true)\n",
      " |-- stickiness_ratio: double (nullable = true)\n",
      " |-- subscribe: long (nullable = true)\n",
      " |-- total_revenue: double (nullable = true)\n",
      " |-- user_id: string (nullable = true)\n",
      "\n"
     ]
    }
   ],
   "execution_count": 4
  },
  {
   "metadata": {
    "ExecuteTime": {
     "end_time": "2025-07-26T09:39:45.301456Z",
     "start_time": "2025-07-26T09:39:37.802842Z"
    }
   },
   "cell_type": "code",
   "source": [
    "# 1. Group by user_id and count occurrences\n",
    "dup_df = (\n",
    "    df_features\n",
    "      .groupBy(\"user_id\")\n",
    "      .agg(F.count(\"*\").alias(\"cnt\"))\n",
    "      .filter(\"cnt > 1\")\n",
    ")\n",
    "\n",
    "# 2. Check if any duplicates exist\n",
    "dup_count = dup_df.count()\n",
    "if dup_count == 0:\n",
    "    print(\"✅ All user_id values are unique.\")\n",
    "else:\n",
    "    print(f\"⚠️ Found {dup_count} user_id(s) appearing more than once:\")\n",
    "    dup_df.show(truncate=False)"
   ],
   "id": "4b295d99579c3455",
   "outputs": [
    {
     "name": "stderr",
     "output_type": "stream",
     "text": [
      "[Stage 4:>                                                          (0 + 8) / 8]\r"
     ]
    },
    {
     "name": "stdout",
     "output_type": "stream",
     "text": [
      "✅ All user_id values are unique.\n"
     ]
    },
    {
     "name": "stderr",
     "output_type": "stream",
     "text": [
      "                                                                                \r"
     ]
    }
   ],
   "execution_count": 5
  },
  {
   "metadata": {},
   "cell_type": "markdown",
   "source": "Build an expression for each column that sums 1 whenever it's null",
   "id": "e578d4e100d7f924"
  },
  {
   "metadata": {
    "ExecuteTime": {
     "end_time": "2025-07-26T09:39:45.563630Z",
     "start_time": "2025-07-26T09:39:45.325729Z"
    }
   },
   "cell_type": "code",
   "source": [
    "null_count_exprs = [\n",
    "    F.sum(F.when(F.col(c).isNull(), 1).otherwise(0)).alias(c)\n",
    "    for c in df_features.columns\n",
    "]\n",
    "\n",
    "null_counts = df_features.select(null_count_exprs)"
   ],
   "id": "ed4320ff83b6dbfa",
   "outputs": [],
   "execution_count": 6
  },
  {
   "metadata": {
    "ExecuteTime": {
     "end_time": "2025-07-26T09:39:52.104315Z",
     "start_time": "2025-07-26T09:39:46.631233Z"
    }
   },
   "cell_type": "code",
   "source": "null_counts.show(truncate=False)",
   "id": "2be60bc9ebdaec49",
   "outputs": [
    {
     "name": "stderr",
     "output_type": "stream",
     "text": [
      "[Stage 8:====================================================>      (8 + 1) / 9]\r"
     ]
    },
    {
     "name": "stdout",
     "output_type": "stream",
     "text": [
      "+--------------+--------------+-------+----------------+------------------+----------+----------------+-------+------+-------+------+----------------+---------+-------------+-------+\n",
      "|auto_renew_off|avg_event_hour|country|first_event_date|first_year_revenue|free_trial|operating_system|paywall|refund|renewal|season|stickiness_ratio|subscribe|total_revenue|user_id|\n",
      "+--------------+--------------+-------+----------------+------------------+----------+----------------+-------+------+-------+------+----------------+---------+-------------+-------+\n",
      "|0             |0             |0      |0               |0                 |0         |0               |0      |0     |0      |0     |0               |0        |0            |0      |\n",
      "+--------------+--------------+-------+----------------+------------------+----------+----------------+-------+------+-------+------+----------------+---------+-------------+-------+\n",
      "\n"
     ]
    },
    {
     "name": "stderr",
     "output_type": "stream",
     "text": [
      "                                                                                \r"
     ]
    }
   ],
   "execution_count": 7
  },
  {
   "metadata": {},
   "cell_type": "markdown",
   "source": "# Pre-processing for Cohort-level Analysis",
   "id": "3a00ec766589fe2"
  },
  {
   "metadata": {
    "ExecuteTime": {
     "end_time": "2025-07-26T09:39:52.191178Z",
     "start_time": "2025-07-26T09:39:52.126063Z"
    }
   },
   "cell_type": "code",
   "source": [
    "check = df_features \\\n",
    "      .groupBy(\"first_event_date\") \\\n",
    "      .agg(\n",
    "         # diversity (distinct‐count) of categorical fields\n",
    "          F.countDistinct(\"country\"         ).alias(\"n_countries\"),\n",
    "          F.countDistinct(\"operating_system\").alias(\"n_operating_systems\"),\n",
    "          F.countDistinct(\"season\"          ).alias(\"n_seasons\")\n",
    "      )"
   ],
   "id": "f4498649a2aa60c5",
   "outputs": [],
   "execution_count": 8
  },
  {
   "metadata": {},
   "cell_type": "markdown",
   "source": "Since each cohort is active only in one single season, only one season represents each cohort.",
   "id": "1834989698df1b7"
  },
  {
   "metadata": {
    "ExecuteTime": {
     "end_time": "2025-07-26T18:30:30.778881Z",
     "start_time": "2025-07-26T18:30:30.776536Z"
    }
   },
   "cell_type": "code",
   "source": "from pyspark.sql.window import Window",
   "id": "92600565824a341a",
   "outputs": [],
   "execution_count": 5
  },
  {
   "metadata": {},
   "cell_type": "markdown",
   "source": "Normalize “ios” → “iOS” (and leave everything else untouched)",
   "id": "b65c75279a5160b4"
  },
  {
   "metadata": {
    "ExecuteTime": {
     "end_time": "2025-07-26T18:30:31.227765Z",
     "start_time": "2025-07-26T18:30:31.081200Z"
    }
   },
   "cell_type": "code",
   "source": [
    "df_features = df_features.withColumn(\n",
    "    \"operating_system\",\n",
    "    F.when(F.lower(F.col(\"operating_system\")) == \"ios\", F.lit(\"iOS\"))\n",
    "     .otherwise(F.col(\"operating_system\"))\n",
    ")"
   ],
   "id": "6ee3615af9c514c5",
   "outputs": [],
   "execution_count": 6
  },
  {
   "metadata": {},
   "cell_type": "markdown",
   "source": "2) Aggregate to get cohort-level stats",
   "id": "254f814e723f7ac"
  },
  {
   "metadata": {
    "ExecuteTime": {
     "end_time": "2025-07-26T18:30:31.626622Z",
     "start_time": "2025-07-26T18:30:31.290645Z"
    }
   },
   "cell_type": "code",
   "source": [
    "base_agg = (\n",
    "    df_features\n",
    "      .groupBy(\"first_event_date\")\n",
    "      .agg(\n",
    "          F.first(\"season\")        .alias(\"cohort_season\"),\n",
    "          F.count(\"user_id\")       .alias(\"cohort_size\"),\n",
    "\n",
    "          # user‐level stats averaged up\n",
    "          F.avg(\"stickiness_ratio\").alias(\"avg_stickiness_ratio\"),\n",
    "          F.avg(\"auto_renew_off\" ) .alias(\"avg_auto_renew_off\"),\n",
    "          F.stddev(\"auto_renew_off\").alias(\"std_auto_renew_off\"),\n",
    "          F.avg(\"free_trial\"      ).alias(\"avg_free_trial\"),\n",
    "          F.stddev(\"free_trial\"   ).alias(\"std_free_trial\"),\n",
    "          F.avg(\"paywall\"         ).alias(\"avg_paywall\"),\n",
    "          F.stddev(\"paywall\"      ).alias(\"std_paywall\"),\n",
    "          F.avg(\"refund\"          ).alias(\"avg_refund\"),\n",
    "          F.stddev(\"refund\"       ).alias(\"std_refund\"),\n",
    "          F.avg(\"renewal\"         ).alias(\"avg_renewal\"),\n",
    "          F.stddev(\"renewal\"      ).alias(\"std_renewal\"),\n",
    "          F.avg(\"subscribe\"       ).alias(\"avg_subscribe\"),\n",
    "          F.stddev(\"subscribe\"    ).alias(\"std_subscribe\"),\n",
    "\n",
    "          # engagement hour & revenues\n",
    "          F.avg(\"avg_event_hour\"  ).alias(\"mean_event_hour\"),\n",
    "          F.stddev(\"avg_event_hour\").alias(\"std_event_hour\"),\n",
    "          F.avg(\"total_revenue\"    ).alias(\"mean_revenue_15d\"),\n",
    "          F.stddev(\"total_revenue\" ).alias(\"std_revenue_15d\"),\n",
    "          F.avg(\"first_year_revenue\"   ).alias(\"mean_revenue_1y\"),\n",
    "          F.stddev(\"first_year_revenue\").alias(\"std_revenue_1y\")\n",
    "      )\n",
    ")"
   ],
   "id": "a5a83d6249d3a981",
   "outputs": [],
   "execution_count": 7
  },
  {
   "metadata": {},
   "cell_type": "markdown",
   "source": "3. Compute OS counts and percentage per cohort",
   "id": "e222bc5a94f5ea39"
  },
  {
   "metadata": {
    "ExecuteTime": {
     "end_time": "2025-07-26T18:30:31.975507Z",
     "start_time": "2025-07-26T18:30:31.697022Z"
    }
   },
   "cell_type": "code",
   "source": [
    "os_counts = (\n",
    "    df_features\n",
    "      .groupBy(\"first_event_date\", \"operating_system\")\n",
    "      .agg(F.count(\"*\").alias(\"os_count\"))\n",
    ")\n",
    "\n",
    "os_pct = (\n",
    "    os_counts\n",
    "      .join(base_agg.select(\"first_event_date\", \"cohort_size\"), on=\"first_event_date\")\n",
    "      .withColumn(\"os_pct\", F.col(\"os_count\") / F.col(\"cohort_size\"))\n",
    ")"
   ],
   "id": "8d6b88ea8f1c30d",
   "outputs": [],
   "execution_count": 8
  },
  {
   "metadata": {},
   "cell_type": "markdown",
   "source": "4. Pivot to wide format: one column per OS giving its pct share",
   "id": "5ac9d10c67f3de8c"
  },
  {
   "metadata": {
    "ExecuteTime": {
     "end_time": "2025-07-26T18:30:49.787645Z",
     "start_time": "2025-07-26T18:30:32.037920Z"
    }
   },
   "cell_type": "code",
   "source": [
    "os_pivot = (\n",
    "    os_pct\n",
    "      .groupBy(\"first_event_date\")\n",
    "      .pivot(\"operating_system\")\n",
    "      .agg(F.first(\"os_pct\"))\n",
    ")"
   ],
   "id": "f9dd312cb6f0babc",
   "outputs": [
    {
     "name": "stderr",
     "output_type": "stream",
     "text": [
      "                                                                                \r"
     ]
    }
   ],
   "execution_count": 9
  },
  {
   "metadata": {},
   "cell_type": "markdown",
   "source": "5) Join base_agg with OS-pct pivot",
   "id": "76b82453fd2dc08d"
  },
  {
   "metadata": {
    "ExecuteTime": {
     "end_time": "2025-07-26T18:30:50.047704Z",
     "start_time": "2025-07-26T18:30:49.860468Z"
    }
   },
   "cell_type": "code",
   "source": "cohort_agg = base_agg.join(os_pivot, on=\"first_event_date\", how=\"left\")",
   "id": "2f4bdc6b1bfb3f64",
   "outputs": [],
   "execution_count": 10
  },
  {
   "metadata": {},
   "cell_type": "markdown",
   "source": "6) Add 1-based cohort_index ordered by date",
   "id": "dfb44d3461e38731"
  },
  {
   "metadata": {
    "ExecuteTime": {
     "end_time": "2025-07-26T09:40:29.957196Z",
     "start_time": "2025-07-26T09:40:29.949342Z"
    }
   },
   "cell_type": "code",
   "source": "cohort_agg.printSchema()",
   "id": "670a85f53285a6f9",
   "outputs": [
    {
     "name": "stdout",
     "output_type": "stream",
     "text": [
      "root\n",
      " |-- first_event_date: string (nullable = true)\n",
      " |-- cohort_season: string (nullable = true)\n",
      " |-- cohort_size: long (nullable = false)\n",
      " |-- avg_auto_renew_off: double (nullable = true)\n",
      " |-- std_auto_renew_off: double (nullable = true)\n",
      " |-- avg_free_trial: double (nullable = true)\n",
      " |-- std_free_trial: double (nullable = true)\n",
      " |-- avg_paywall: double (nullable = true)\n",
      " |-- std_paywall: double (nullable = true)\n",
      " |-- avg_refund: double (nullable = true)\n",
      " |-- std_refund: double (nullable = true)\n",
      " |-- avg_renewal: double (nullable = true)\n",
      " |-- std_renewal: double (nullable = true)\n",
      " |-- avg_subscribe: double (nullable = true)\n",
      " |-- std_subscribe: double (nullable = true)\n",
      " |-- mean_event_hour: double (nullable = true)\n",
      " |-- std_event_hour: double (nullable = true)\n",
      " |-- mean_revenue_15d: double (nullable = true)\n",
      " |-- std_revenue_15d: double (nullable = true)\n",
      " |-- mean_revenue_1y: double (nullable = true)\n",
      " |-- std_revenue_1y: double (nullable = true)\n",
      " |-- iOS: double (nullable = true)\n",
      " |-- iPadOS: double (nullable = true)\n",
      "\n"
     ]
    }
   ],
   "execution_count": 15
  },
  {
   "metadata": {
    "ExecuteTime": {
     "end_time": "2025-07-26T18:30:50.431506Z",
     "start_time": "2025-07-26T18:30:50.144828Z"
    }
   },
   "cell_type": "code",
   "source": [
    "w = Window.orderBy(\"first_event_date\")\n",
    "df_with_cohort = (\n",
    "    cohort_agg\n",
    "      .withColumn(\"cohort_index\", F.row_number().over(w))\n",
    ")"
   ],
   "id": "72f11a65fb466c61",
   "outputs": [],
   "execution_count": 11
  },
  {
   "metadata": {
    "ExecuteTime": {
     "end_time": "2025-07-26T09:40:37.323407Z",
     "start_time": "2025-07-26T09:40:37.318774Z"
    }
   },
   "cell_type": "code",
   "source": "df_with_cohort.printSchema()",
   "id": "d74dbc3be2f3d483",
   "outputs": [
    {
     "name": "stdout",
     "output_type": "stream",
     "text": [
      "root\n",
      " |-- first_event_date: string (nullable = true)\n",
      " |-- cohort_season: string (nullable = true)\n",
      " |-- cohort_size: long (nullable = false)\n",
      " |-- avg_auto_renew_off: double (nullable = true)\n",
      " |-- std_auto_renew_off: double (nullable = true)\n",
      " |-- avg_free_trial: double (nullable = true)\n",
      " |-- std_free_trial: double (nullable = true)\n",
      " |-- avg_paywall: double (nullable = true)\n",
      " |-- std_paywall: double (nullable = true)\n",
      " |-- avg_refund: double (nullable = true)\n",
      " |-- std_refund: double (nullable = true)\n",
      " |-- avg_renewal: double (nullable = true)\n",
      " |-- std_renewal: double (nullable = true)\n",
      " |-- avg_subscribe: double (nullable = true)\n",
      " |-- std_subscribe: double (nullable = true)\n",
      " |-- mean_event_hour: double (nullable = true)\n",
      " |-- std_event_hour: double (nullable = true)\n",
      " |-- mean_revenue_15d: double (nullable = true)\n",
      " |-- std_revenue_15d: double (nullable = true)\n",
      " |-- mean_revenue_1y: double (nullable = true)\n",
      " |-- std_revenue_1y: double (nullable = true)\n",
      " |-- iOS: double (nullable = true)\n",
      " |-- iPadOS: double (nullable = true)\n",
      " |-- cohort_index: integer (nullable = false)\n",
      "\n"
     ]
    }
   ],
   "execution_count": 17
  },
  {
   "metadata": {},
   "cell_type": "markdown",
   "source": "Build an aggregate of null‐counts per column",
   "id": "4fe90907eda75178"
  },
  {
   "metadata": {
    "ExecuteTime": {
     "end_time": "2025-07-26T18:31:10.019348Z",
     "start_time": "2025-07-26T18:31:09.742875Z"
    }
   },
   "cell_type": "code",
   "source": [
    "null_counts = df_with_cohort.select([\n",
    "    F.sum(F.when(F.col(c).isNull(), 1).otherwise(0)).alias(c)\n",
    "    for c in df_with_cohort.columns\n",
    "])"
   ],
   "id": "58f4839d39a8ce03",
   "outputs": [],
   "execution_count": 13
  },
  {
   "metadata": {
    "ExecuteTime": {
     "end_time": "2025-07-26T18:31:40.163126Z",
     "start_time": "2025-07-26T18:31:11.386385Z"
    }
   },
   "cell_type": "code",
   "source": [
    "# display the results\n",
    "null_counts.show(truncate=False)"
   ],
   "id": "1a00e898c0d9f284",
   "outputs": [
    {
     "name": "stderr",
     "output_type": "stream",
     "text": [
      "25/07/26 21:31:11 WARN SparkStringUtils: Truncated the string representation of a plan since it was too large. This behavior can be adjusted by setting 'spark.sql.debug.maxToStringFields'.\n",
      "[Stage 29:>                                                         (0 + 1) / 1]\r"
     ]
    },
    {
     "name": "stdout",
     "output_type": "stream",
     "text": [
      "+----------------+-------------+-----------+--------------------+------------------+------------------+--------------+--------------+-----------+-----------+----------+----------+-----------+-----------+-------------+-------------+---------------+--------------+----------------+---------------+---------------+--------------+---+------+------------+\n",
      "|first_event_date|cohort_season|cohort_size|avg_stickiness_ratio|avg_auto_renew_off|std_auto_renew_off|avg_free_trial|std_free_trial|avg_paywall|std_paywall|avg_refund|std_refund|avg_renewal|std_renewal|avg_subscribe|std_subscribe|mean_event_hour|std_event_hour|mean_revenue_15d|std_revenue_15d|mean_revenue_1y|std_revenue_1y|iOS|iPadOS|cohort_index|\n",
      "+----------------+-------------+-----------+--------------------+------------------+------------------+--------------+--------------+-----------+-----------+----------+----------+-----------+-----------+-------------+-------------+---------------+--------------+----------------+---------------+---------------+--------------+---+------+------------+\n",
      "|0               |0            |0          |0                   |0                 |0                 |0             |0             |0          |0          |0         |0         |0          |0          |0            |0            |0              |0             |0               |0              |0              |0             |0  |0     |0           |\n",
      "+----------------+-------------+-----------+--------------------+------------------+------------------+--------------+--------------+-----------+-----------+----------+----------+-----------+-----------+-------------+-------------+---------------+--------------+----------------+---------------+---------------+--------------+---+------+------------+\n",
      "\n"
     ]
    },
    {
     "name": "stderr",
     "output_type": "stream",
     "text": [
      "                                                                                \r"
     ]
    }
   ],
   "execution_count": 14
  },
  {
   "metadata": {},
   "cell_type": "markdown",
   "source": "# Write",
   "id": "8b95c01591bd8c4f"
  },
  {
   "metadata": {
    "ExecuteTime": {
     "end_time": "2025-07-26T18:32:05.347345Z",
     "start_time": "2025-07-26T18:31:40.293869Z"
    }
   },
   "cell_type": "code",
   "source": [
    "# 1) repartition to use all cores\n",
    "num_parts = spark.sparkContext.defaultParallelism\n",
    "df_out = df_with_cohort.repartition(num_parts)\n",
    "print(\"After:\", df_out.rdd.getNumPartitions())"
   ],
   "id": "2ccf1946953f7df5",
   "outputs": [
    {
     "name": "stderr",
     "output_type": "stream",
     "text": [
      "25/07/26 21:31:40 WARN WindowExec: No Partition Defined for Window operation! Moving all data to a single partition, this can cause serious performance degradation.\n",
      "25/07/26 21:31:40 WARN WindowExec: No Partition Defined for Window operation! Moving all data to a single partition, this can cause serious performance degradation.\n",
      "25/07/26 21:31:48 WARN WindowExec: No Partition Defined for Window operation! Moving all data to a single partition, this can cause serious performance degradation.\n",
      "25/07/26 21:31:48 WARN WindowExec: No Partition Defined for Window operation! Moving all data to a single partition, this can cause serious performance degradation.\n",
      "25/07/26 21:32:02 WARN WindowExec: No Partition Defined for Window operation! Moving all data to a single partition, this can cause serious performance degradation.\n",
      "25/07/26 21:32:02 WARN WindowExec: No Partition Defined for Window operation! Moving all data to a single partition, this can cause serious performance degradation.\n",
      "25/07/26 21:32:03 WARN WindowExec: No Partition Defined for Window operation! Moving all data to a single partition, this can cause serious performance degradation.\n",
      "25/07/26 21:32:03 WARN WindowExec: No Partition Defined for Window operation! Moving all data to a single partition, this can cause serious performance degradation.\n",
      "25/07/26 21:32:04 WARN WindowExec: No Partition Defined for Window operation! Moving all data to a single partition, this can cause serious performance degradation.\n",
      "25/07/26 21:32:04 WARN WindowExec: No Partition Defined for Window operation! Moving all data to a single partition, this can cause serious performance degradation.\n",
      "25/07/26 21:32:05 WARN WindowExec: No Partition Defined for Window operation! Moving all data to a single partition, this can cause serious performance degradation.\n",
      "25/07/26 21:32:05 WARN WindowExec: No Partition Defined for Window operation! Moving all data to a single partition, this can cause serious performance degradation.\n"
     ]
    },
    {
     "name": "stdout",
     "output_type": "stream",
     "text": [
      "After: 8\n"
     ]
    }
   ],
   "execution_count": 15
  },
  {
   "metadata": {
    "ExecuteTime": {
     "end_time": "2025-07-26T18:33:05.414587Z",
     "start_time": "2025-07-26T18:32:46.402516Z"
    }
   },
   "cell_type": "code",
   "source": [
    "# 2) write as compressed JSON\n",
    "df_out.write \\\n",
    "    .mode(\"overwrite\") \\\n",
    "    .option(\"compression\", \"gzip\") \\\n",
    "    .json(\"/Users/macbookpro/PyCharmMiscProject/df_with_cohort_json\")"
   ],
   "id": "5b0164e261db7f8f",
   "outputs": [
    {
     "name": "stderr",
     "output_type": "stream",
     "text": [
      "25/07/26 21:32:46 WARN WindowExec: No Partition Defined for Window operation! Moving all data to a single partition, this can cause serious performance degradation.\n",
      "25/07/26 21:32:46 WARN WindowExec: No Partition Defined for Window operation! Moving all data to a single partition, this can cause serious performance degradation.\n",
      "25/07/26 21:32:51 WARN WindowExec: No Partition Defined for Window operation! Moving all data to a single partition, this can cause serious performance degradation.\n",
      "25/07/26 21:32:51 WARN WindowExec: No Partition Defined for Window operation! Moving all data to a single partition, this can cause serious performance degradation.\n",
      "25/07/26 21:32:55 WARN WindowExec: No Partition Defined for Window operation! Moving all data to a single partition, this can cause serious performance degradation.\n",
      "25/07/26 21:32:55 WARN WindowExec: No Partition Defined for Window operation! Moving all data to a single partition, this can cause serious performance degradation.\n",
      "25/07/26 21:33:02 WARN WindowExec: No Partition Defined for Window operation! Moving all data to a single partition, this can cause serious performance degradation.\n",
      "25/07/26 21:33:02 WARN WindowExec: No Partition Defined for Window operation! Moving all data to a single partition, this can cause serious performance degradation.\n",
      "25/07/26 21:33:02 WARN WindowExec: No Partition Defined for Window operation! Moving all data to a single partition, this can cause serious performance degradation.\n",
      "25/07/26 21:33:02 WARN WindowExec: No Partition Defined for Window operation! Moving all data to a single partition, this can cause serious performance degradation.\n",
      "25/07/26 21:33:03 WARN WindowExec: No Partition Defined for Window operation! Moving all data to a single partition, this can cause serious performance degradation.\n",
      "25/07/26 21:33:03 WARN WindowExec: No Partition Defined for Window operation! Moving all data to a single partition, this can cause serious performance degradation.\n",
      "25/07/26 21:33:03 WARN WindowExec: No Partition Defined for Window operation! Moving all data to a single partition, this can cause serious performance degradation.\n",
      "25/07/26 21:33:03 WARN WindowExec: No Partition Defined for Window operation! Moving all data to a single partition, this can cause serious performance degradation.\n",
      "25/07/26 21:33:03 WARN WindowExec: No Partition Defined for Window operation! Moving all data to a single partition, this can cause serious performance degradation.\n",
      "25/07/26 21:33:03 WARN WindowExec: No Partition Defined for Window operation! Moving all data to a single partition, this can cause serious performance degradation.\n",
      "                                                                                \r"
     ]
    }
   ],
   "execution_count": 16
  }
 ],
 "metadata": {
  "kernelspec": {
   "display_name": "Python 3",
   "language": "python",
   "name": "python3"
  },
  "language_info": {
   "codemirror_mode": {
    "name": "ipython",
    "version": 2
   },
   "file_extension": ".py",
   "mimetype": "text/x-python",
   "name": "python",
   "nbconvert_exporter": "python",
   "pygments_lexer": "ipython2",
   "version": "2.7.6"
  }
 },
 "nbformat": 4,
 "nbformat_minor": 5
}
