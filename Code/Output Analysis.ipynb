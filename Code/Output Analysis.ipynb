{
 "cells": [
  {
   "metadata": {
    "ExecuteTime": {
     "end_time": "2025-07-27T10:05:48.018705Z",
     "start_time": "2025-07-27T10:05:46.559506Z"
    }
   },
   "cell_type": "code",
   "source": [
    "from pyspark.sql import SparkSession\n",
    "from pyspark.sql import functions as F"
   ],
   "id": "3fd562f3f3ea42cd",
   "outputs": [],
   "execution_count": 1
  },
  {
   "metadata": {
    "ExecuteTime": {
     "end_time": "2025-07-27T10:06:21.940105Z",
     "start_time": "2025-07-27T10:05:48.030049Z"
    }
   },
   "cell_type": "code",
   "source": [
    "spark = (\n",
    "  SparkSession.builder\n",
    "    .appName(\"Codeway\")\n",
    "    .master(\"local[*]\")\n",
    "    .config(\"spark.driver.memory\", \"4g\")\n",
    "    .getOrCreate()\n",
    ")"
   ],
   "id": "d952ae9c94c3ebc2",
   "outputs": [
    {
     "name": "stderr",
     "output_type": "stream",
     "text": [
      "WARNING: Using incubator modules: jdk.incubator.vector\n",
      "Using Spark's default log4j profile: org/apache/spark/log4j2-defaults.properties\n",
      "Setting default log level to \"WARN\".\n",
      "To adjust logging level use sc.setLogLevel(newLevel). For SparkR, use setLogLevel(newLevel).\n",
      "25/07/27 13:06:16 WARN NativeCodeLoader: Unable to load native-hadoop library for your platform... using builtin-java classes where applicable\n"
     ]
    }
   ],
   "execution_count": 2
  },
  {
   "metadata": {},
   "cell_type": "markdown",
   "source": "Read the dataframe",
   "id": "24e8a78d5901b917"
  },
  {
   "metadata": {
    "collapsed": true,
    "ExecuteTime": {
     "end_time": "2025-07-27T10:06:31.726298Z",
     "start_time": "2025-07-27T10:06:22.030599Z"
    }
   },
   "cell_type": "code",
   "source": [
    "df_user = spark.read.json(\"/Users/macbookpro/PyCharmMiscProject/output_user_json\")\n",
    "df_cohort = spark.read.json(\"/Users/macbookpro/PyCharmMiscProject/output_cohort_json\")"
   ],
   "id": "e4a48f6d9a52e497",
   "outputs": [
    {
     "name": "stderr",
     "output_type": "stream",
     "text": [
      "                                                                                \r"
     ]
    }
   ],
   "execution_count": 3
  },
  {
   "metadata": {
    "ExecuteTime": {
     "end_time": "2025-07-27T10:06:31.799500Z",
     "start_time": "2025-07-27T10:06:31.786614Z"
    }
   },
   "cell_type": "code",
   "source": "df_user.printSchema()",
   "id": "8d99428c259b8fe6",
   "outputs": [
    {
     "name": "stdout",
     "output_type": "stream",
     "text": [
      "root\n",
      " |-- auto_renew_off: long (nullable = true)\n",
      " |-- avg_event_hour: double (nullable = true)\n",
      " |-- country_idx: double (nullable = true)\n",
      " |-- first_year_revenue: double (nullable = true)\n",
      " |-- forecast_1y: double (nullable = true)\n",
      " |-- free_trial: long (nullable = true)\n",
      " |-- operating_system_idx: double (nullable = true)\n",
      " |-- paywall: long (nullable = true)\n",
      " |-- refund: long (nullable = true)\n",
      " |-- renewal: long (nullable = true)\n",
      " |-- season_idx: double (nullable = true)\n",
      " |-- stickiness_ratio: double (nullable = true)\n",
      " |-- subscribe: long (nullable = true)\n",
      " |-- total_revenue: double (nullable = true)\n",
      " |-- user_id: string (nullable = true)\n",
      "\n"
     ]
    }
   ],
   "execution_count": 4
  },
  {
   "metadata": {
    "ExecuteTime": {
     "end_time": "2025-07-27T10:06:32.241041Z",
     "start_time": "2025-07-27T10:06:32.237164Z"
    }
   },
   "cell_type": "code",
   "source": "df_cohort.printSchema()",
   "id": "817c37a73cbb564a",
   "outputs": [
    {
     "name": "stdout",
     "output_type": "stream",
     "text": [
      "root\n",
      " |-- avg_auto_renew_off: double (nullable = true)\n",
      " |-- avg_free_trial: double (nullable = true)\n",
      " |-- avg_paywall: double (nullable = true)\n",
      " |-- avg_refund: double (nullable = true)\n",
      " |-- avg_renewal: double (nullable = true)\n",
      " |-- avg_stickiness_ratio: double (nullable = true)\n",
      " |-- avg_subscribe: double (nullable = true)\n",
      " |-- cohort_index: long (nullable = true)\n",
      " |-- cohort_season: string (nullable = true)\n",
      " |-- cohort_size: long (nullable = true)\n",
      " |-- first_event_date: string (nullable = true)\n",
      " |-- forecast_mean_1y: double (nullable = true)\n",
      " |-- forecast_std_1y: double (nullable = true)\n",
      " |-- iOS: double (nullable = true)\n",
      " |-- iPadOS: double (nullable = true)\n",
      " |-- mean_event_hour: double (nullable = true)\n",
      " |-- mean_revenue_1y: double (nullable = true)\n",
      " |-- std_auto_renew_off: double (nullable = true)\n",
      " |-- std_event_hour: double (nullable = true)\n",
      " |-- std_free_trial: double (nullable = true)\n",
      " |-- std_paywall: double (nullable = true)\n",
      " |-- std_refund: double (nullable = true)\n",
      " |-- std_renewal: double (nullable = true)\n",
      " |-- std_revenue_1y: double (nullable = true)\n",
      " |-- std_subscribe: double (nullable = true)\n",
      "\n"
     ]
    }
   ],
   "execution_count": 5
  }
 ],
 "metadata": {
  "kernelspec": {
   "display_name": "Python 3",
   "language": "python",
   "name": "python3"
  },
  "language_info": {
   "codemirror_mode": {
    "name": "ipython",
    "version": 2
   },
   "file_extension": ".py",
   "mimetype": "text/x-python",
   "name": "python",
   "nbconvert_exporter": "python",
   "pygments_lexer": "ipython2",
   "version": "2.7.6"
  }
 },
 "nbformat": 4,
 "nbformat_minor": 5
}
